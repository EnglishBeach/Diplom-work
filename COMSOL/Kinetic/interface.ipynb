{
 "cells": [
  {
   "cell_type": "code",
   "execution_count": null,
   "metadata": {},
   "outputs": [],
   "source": [
    "import re\n",
    "import itertools\n",
    "\n",
    "import numpy as np\n",
    "import pandas as pd\n",
    "\n",
    "from tqdm import tqdm\n",
    "\n",
    "import mph\n",
    "from tools import plots\n",
    "\n",
    "import matplotlib.pyplot as plt\n",
    "import plotly.express as px\n",
    "import peewee"
   ]
  },
  {
   "cell_type": "code",
   "execution_count": null,
   "metadata": {},
   "outputs": [],
   "source": [
    "client = mph.start()"
   ]
  },
  {
   "cell_type": "code",
   "execution_count": null,
   "metadata": {},
   "outputs": [],
   "source": [
    "model = client.load('models/Kinetic model.mph')"
   ]
  },
  {
   "cell_type": "code",
   "execution_count": null,
   "metadata": {},
   "outputs": [],
   "source": [
    "client.clear()"
   ]
  },
  {
   "cell_type": "code",
   "execution_count": null,
   "metadata": {},
   "outputs": [],
   "source": [
    "def compare(from_node: mph.Node, to_node: mph.Node):\n",
    "    from_properties, to_properties = from_node.properties(), to_node.properties()\n",
    "    all_properties = sorted(set(from_properties).union(set(to_properties)))\n",
    "\n",
    "    print(f\"{'from ' + from_node.name(): >53} | {'to '+to_node.name(): <53}\")\n",
    "    for key in all_properties:\n",
    "        from_prop = str(from_properties.get(key, None))\n",
    "        to_prop = str(to_properties.get(key, None))\n",
    "\n",
    "        string = f'{\"*\" if (from_prop!=to_prop) else \" \"} {key: <30} '+\\\n",
    "                 f'{from_prop[:20]: <20} | {to_prop[:20]: <20}'\n",
    "        print(string)\n",
    "\n",
    "\n",
    "def copy_settings(from_node: mph.Node, to_node: mph.Node):\n",
    "    for i in range(2):\n",
    "        from_properties, to_properties = from_node.properties(), to_node.properties()\n",
    "\n",
    "        auto_settings = {}\n",
    "        for key, value in from_properties.items():\n",
    "            if (str(value) == 'auto') or (to_properties.get(key, None) is None):\n",
    "                auto_settings.update({key: value})\n",
    "                continue\n",
    "\n",
    "            to_node.property(name=key, value=value)\n",
    "\n",
    "        for key, value in auto_settings.items():\n",
    "            if to_properties.get(key, None) is None: continue\n",
    "            to_node.property(name=key, value=value)\n",
    "\n",
    "\n",
    "def copy_solver(from_solver: mph.Node, to_solver: mph.Node, verbose=False):\n",
    "    copy_settings(from_solver, to_solver)\n",
    "\n",
    "    from_dict = {node.name(): node for node in from_solver.children()}\n",
    "    to_dict = {node.name(): node for node in to_solver.children()}\n",
    "\n",
    "    for node in from_dict:\n",
    "        from_node = from_dict[node]\n",
    "        to_node = to_dict[node]\n",
    "        copy_settings(from_node, to_node)\n",
    "        if verbose:\n",
    "            compare(from_node, to_node)\n",
    "            print('*' * 120)\n",
    "\n",
    "\n",
    "def input_check(string):\n",
    "    if string is None:\n",
    "        while string != 'q':\n",
    "            string = input(f'Set {string=}, to quit - q:')\n",
    "            string = string.strip()\n",
    "    return string"
   ]
  },
  {
   "cell_type": "code",
   "execution_count": null,
   "metadata": {},
   "outputs": [],
   "source": [
    "class AbstractStudy:\n",
    "    study_name = None\n",
    "\n",
    "    def __init__(self, model: mph.Model):\n",
    "        self.comsol_model = model\n",
    "\n",
    "    @property\n",
    "    def time_end(self):\n",
    "        return self.comsol_model.parameters()['time_end']\n",
    "\n",
    "        \n",
    "    @property\n",
    "    def constants(self):\n",
    "        rule = lambda key: key[0] == 'K'\n",
    "        return {\n",
    "            key: value\n",
    "            for key, value in self.comsol_model.parameters().items()\n",
    "            if rule(key)\n",
    "        } #yapf: disable\n",
    "\n",
    "    @property\n",
    "    def initial(self):\n",
    "        rule = lambda key: ('0' in key) or (key in ['light'])\n",
    "        return {\n",
    "            key: value\n",
    "            for key, value in self.comsol_model.parameters().items()\n",
    "            if rule(key)\n",
    "        } #yapf: disable\n",
    "\n",
    "    @property\n",
    "    def species(self) -> dict:\n",
    "        reaction_node_children = [\n",
    "            i.name() for i in self.nodes['reaction'].children()\n",
    "        ]\n",
    "\n",
    "        species = re.findall(\n",
    "            string='\\n'.join(reaction_node_children),\n",
    "            pattern='Species: (.*)',\n",
    "        )\n",
    "        return {specie: f'reaction.c_{specie}' for specie in species}\n",
    "\n",
    "    @property\n",
    "    def nodes(self):\n",
    "        study_node = self.comsol_model / 'studies' / f'{self.study_name}'\n",
    "        assert study_node.exists(), f'Study node does not exist'\n",
    "\n",
    "        solution_node = self.comsol_model / 'solutions' / f'{self.study_name}_Solution'\n",
    "        assert study_node.exists(), f'Solution node does not exist'\n",
    "\n",
    "        data_node = self.comsol_model / 'datasets' / f'{self.study_name}_data'\n",
    "        assert study_node.exists(), f'Data node does not exist'\n",
    "\n",
    "        reaction_node = model / 'physics' / 'Reaction Engineering'\n",
    "        assert study_node.exists(), f'Reaction node does not exist'\n",
    "\n",
    "        nodes_dict = {\n",
    "            'study': study_node,\n",
    "            'solution': solution_node,\n",
    "            'data': data_node,\n",
    "            'reaction': reaction_node\n",
    "        }\n",
    "        return nodes_dict\n",
    "\n",
    "    def set_parametrs(self, **parameters):\n",
    "        for key, value in parameters.items():\n",
    "            self.comsol_model.parameter(name=key, value=value)\n",
    "\n",
    "    @staticmethod\n",
    "    def _set_node_properties(node: mph.Node, **properties):\n",
    "        for key, value in properties.items():\n",
    "            node.property(key, value)\n",
    "\n",
    "    def evaluate(\n",
    "        self,\n",
    "        functions: dict,\n",
    "        outer_number=1,\n",
    "    ) -> pd.DataFrame:\n",
    "\n",
    "        model = self.comsol_model\n",
    "        functions.update({'time': 't'})\n",
    "        row_data = model.evaluate(\n",
    "            list(functions.values()),\n",
    "            dataset=self.nodes['data'].name(),\n",
    "            outer=outer_number,\n",
    "        )\n",
    "        return pd.DataFrame(row_data, columns=list(functions))\n",
    "\n",
    "    def solve(self):\n",
    "        self.comsol_model.solve(study=self.nodes['study'].name())\n"
   ]
  },
  {
   "cell_type": "code",
   "execution_count": null,
   "metadata": {},
   "outputs": [],
   "source": [
    "class Generator(AbstractStudy):\n",
    "    study_name = 'Generator'\n",
    "\n",
    "    def evaluate(self, functions={}) -> pd.DataFrame:\n",
    "        return super().evaluate(outer_number=1, functions=functions)\n"
   ]
  },
  {
   "cell_type": "code",
   "execution_count": null,
   "metadata": {},
   "outputs": [],
   "source": [
    "def make_comdinations(diap: dict):\n",
    "    keys = list(diap.keys())\n",
    "    values = [diap[key] for key in keys]\n",
    "    combinations = list(itertools.product(*values))\n",
    "    result = [dict(zip(keys, comb)) for comb in combinations]\n",
    "    return result\n",
    "\n",
    "\n",
    "def sweep(combinations, generator: Generator):\n",
    "\n",
    "    result = []\n",
    "    combinations = tqdm(iterable=combinations)\n",
    "    for combination in combinations:\n",
    "        generator.set_parametrs(**combination)\n",
    "        generator.solve()\n",
    "        df = generator.evaluate(generator.species())\n",
    "        df.loc[:, combination.keys()] = list(combination.values())\n",
    "        result.append(df)\n",
    "    return pd.concat(result)\n",
    "\n"
   ]
  },
  {
   "cell_type": "code",
   "execution_count": null,
   "metadata": {},
   "outputs": [],
   "source": [
    "class Sensitivity(AbstractStudy):\n",
    "    study_name = 'Sensitivity'\n",
    "\n",
    "    @property\n",
    "    def sensitivities(self):\n",
    "        return {key: f'fsens({key})' for key in self.constants}\n",
    "\n",
    "    @property\n",
    "    def nodes(self):\n",
    "        nodes_dict = super().nodes\n",
    "\n",
    "        sensivity_node = nodes_dict['study'] / 'Sensitivity'\n",
    "        assert sensivity_node.exists(), f'Estimation node does not exist'\n",
    "\n",
    "        nodes_dict.update({'sensitivity': sensivity_node})\n",
    "        return nodes_dict\n",
    "\n",
    "    @property\n",
    "    def constants(self):\n",
    "        all_parameters = self.nodes['sensitivity'].properties()\n",
    "        filtered_properties = {\n",
    "            key: value\n",
    "            for key, value\n",
    "            in zip(all_parameters['pname'], all_parameters['initval'])\n",
    "        } #yapf: disable\n",
    "\n",
    "        rule = lambda key: key[0] == 'K'\n",
    "        return {\n",
    "            key: value\n",
    "            for key, value in filtered_properties.items()\n",
    "            if rule(key)\n",
    "        } #yapf: disable\n",
    "\n",
    "    @property\n",
    "    def initial(self):\n",
    "        all_parameters = self.nodes['sensitivity'].properties()\n",
    "        filtered_properties = {\n",
    "            key: value\n",
    "            for key, value\n",
    "            in zip(all_parameters['pname'], all_parameters['initval'])\n",
    "        } #yapf: disable\n",
    "\n",
    "        rule = lambda key: ('0' in key) or (key in ['light'])\n",
    "        return {\n",
    "            key: value\n",
    "            for key, value\n",
    "            in filtered_properties.items()\n",
    "            if rule(key)\n",
    "        } #yapf: disable\n",
    "\n",
    "    def set_parametrs(self, **parameters):\n",
    "        all_parameters = self.constants\n",
    "        all_parameters.update(self.initial)\n",
    "        old_len = len(all_parameters)\n",
    "\n",
    "        all_parameters.update(parameters)\n",
    "        assert len(all_parameters) == old_len, 'Parametrs not exist'\n",
    "\n",
    "        self.nodes['sensitivity'].property(\n",
    "            name='pname',\n",
    "            value=list(all_parameters),\n",
    "        )\n",
    "        self.nodes['sensitivity'].property(\n",
    "            name='initval',\n",
    "            value=[str(i) for i in all_parameters.values()],\n",
    "        )\n",
    "\n",
    "    @property\n",
    "    def target(self):\n",
    "        result = self.nodes['sensitivity'].properties()['optobj'][0]\n",
    "        return result.replace('comp.reaction.c_', '')\n",
    "\n",
    "    def set_target(self, target: str):\n",
    "        assert f'reaction.c_{target}' in self.species.values(), 'Target is not specie'\n",
    "        self.nodes['sensitivity'].property(\n",
    "            name='optobj',\n",
    "            value=[f'comp.reaction.c_{target}'],\n",
    "        )\n"
   ]
  },
  {
   "cell_type": "code",
   "execution_count": null,
   "metadata": {},
   "outputs": [],
   "source": [
    "# TODO: out of found parametrs\n",
    "class Estimator(AbstractStudy):\n",
    "    study_name = 'Estimator'\n",
    "\n",
    "    @property\n",
    "    def nodes(self):\n",
    "        nodes_dict = super().nodes\n",
    "        \n",
    "        estimation_node = self.comsol_model / 'physics' / 'Reaction Engineering' / 'Estimation'\n",
    "        assert estimation_node.exists(), f'Estimation node does not exist'\n",
    "        \n",
    "        nodes_dict.update({'estimation': estimation_node})\n",
    "        return nodes_dict\n",
    "\n",
    "    @property\n",
    "    def experiments(self):\n",
    "        return self.nodes['estimation_node'].children()\n",
    "\n",
    "    @property\n",
    "    def tables(self):\n",
    "        tables = self.comsol_model / 'tables'\n",
    "        experiment_tables = [\n",
    "            node for node in tables.children() if 'Experiment' in node.name()\n",
    "        ]\n",
    "        return experiment_tables\n",
    "\n",
    "    def create_one_experiment(\n",
    "        self,\n",
    "        data,\n",
    "        data_columns,\n",
    "        experiment_i,\n",
    "        path=r'D:\\WORKS\\COMSOL_polymers\\Batch\\generator_out_short.csv',\n",
    "    ):\n",
    "        experiment_name = f'exp{experiment_i}'\n",
    "\n",
    "        # create experiment\n",
    "        self.nodes['estimation_node'].java.create(\n",
    "            experiment_name,\n",
    "            \"Experiment\",\n",
    "            -1,\n",
    "        )\n",
    "        experiment = self.experiments[-1]\n",
    "\n",
    "        # create table\n",
    "        table_tag = f\"tbl_compreactionest1{experiment_name}\"\n",
    "        table = (self.comsol_mode / 'tables').java.create(table_tag, \"Table\")\n",
    "        table.label(f\"Experiment {experiment_i} Table\")\n",
    "        table.setTableData(data)\n",
    "        table.active(False)\n",
    "\n",
    "        # set up parametrs\n",
    "        variables_dict = {'Time': 't'}\n",
    "        variables_dict.update(self.species())\n",
    "        variables = [variables_dict[key] for key in data_columns]\n",
    "\n",
    "        Estimator._set_node_properties(\n",
    "            node=experiment,\n",
    "            fileName=path,\n",
    "            dataColumn=data_columns,\n",
    "            use=[1] * len(data_columns),\n",
    "            modelVariable=variables,\n",
    "        )\n",
    "\n",
    "    def create_experiments(self, datas: list[pd.DataFrame]):\n",
    "        i = 0\n",
    "        for data in datas:\n",
    "            self.create_one_experiment(\n",
    "                data=data,\n",
    "                data_columns=data.columns,\n",
    "                experiment_i=i,\n",
    "                path=r'./generator_out_short.csv',\n",
    "            )\n",
    "            i += 1\n",
    "\n",
    "    def clear_experiments(self):\n",
    "        experiments, tables = self.experiments, self.tables\n",
    "        for table in tables:\n",
    "            table.remove()\n",
    "        for experiment in experiments:\n",
    "            experiment.remove()\n",
    "\n",
    "    def solve(self):\n",
    "        self.nodes['estimation'].toggle('on')\n",
    "        try:\n",
    "            self.solve()\n",
    "        finally:\n",
    "            self.nodes['estimation'].toggle('off')"
   ]
  },
  {
   "cell_type": "markdown",
   "metadata": {},
   "source": [
    "# Generator"
   ]
  },
  {
   "cell_type": "code",
   "execution_count": null,
   "metadata": {},
   "outputs": [],
   "source": [
    "gen = Generator(model)"
   ]
  },
  {
   "cell_type": "code",
   "execution_count": null,
   "metadata": {},
   "outputs": [],
   "source": [
    "gen.constants"
   ]
  },
  {
   "cell_type": "code",
   "execution_count": null,
   "metadata": {},
   "outputs": [],
   "source": [
    "gen.solve()"
   ]
  },
  {
   "cell_type": "code",
   "execution_count": null,
   "metadata": {},
   "outputs": [],
   "source": [
    "species = {\n",
    "    key: value\n",
    "    for key,\n",
    "    value in gen.species.items()\n",
    "    if key in ['Q', 'DH', 'QHH']\n",
    "}\n",
    "df = gen.evaluate(species)"
   ]
  },
  {
   "cell_type": "code",
   "execution_count": null,
   "metadata": {},
   "outputs": [],
   "source": [
    "df"
   ]
  },
  {
   "cell_type": "code",
   "execution_count": null,
   "metadata": {},
   "outputs": [],
   "source": [
    "df = df/1000\n",
    "df['time'] = df['time']*1000"
   ]
  },
  {
   "cell_type": "code",
   "execution_count": null,
   "metadata": {},
   "outputs": [],
   "source": [
    "def simple_temporal_plot(df:pd.DataFrame):\n",
    "    fig = px.line(df, x='time',y=[col for col in df.columns if col not in ['time','light']])\n",
    "    fig.update_layout(\n",
    "        height=500,\n",
    "        margin={\n",
    "            'r': 0, 'l': 0, 't': 0, 'b': 0\n",
    "        },\n",
    "        legend=dict(x=-0.1, y=1, xanchor=\"center\"),\n",
    "    )\n",
    "    return fig"
   ]
  },
  {
   "cell_type": "code",
   "execution_count": null,
   "metadata": {},
   "outputs": [],
   "source": [
    "simple_temporal_plot(df)\n"
   ]
  },
  {
   "cell_type": "markdown",
   "metadata": {},
   "source": [
    "# Sweep"
   ]
  },
  {
   "cell_type": "code",
   "execution_count": null,
   "metadata": {},
   "outputs": [],
   "source": [
    "gen.constants"
   ]
  },
  {
   "cell_type": "code",
   "execution_count": null,
   "metadata": {},
   "outputs": [],
   "source": [
    "a=make_comdinations({\n",
    "    'light':(np.linspace(0.1, 5.1, 11)/1000).round(7)\n",
    "})"
   ]
  },
  {
   "cell_type": "code",
   "execution_count": null,
   "metadata": {},
   "outputs": [],
   "source": [
    "df= sweep(a,gen)"
   ]
  },
  {
   "cell_type": "code",
   "execution_count": null,
   "metadata": {},
   "outputs": [],
   "source": [
    "df"
   ]
  },
  {
   "cell_type": "markdown",
   "metadata": {},
   "source": [
    "# Sensitivity"
   ]
  },
  {
   "cell_type": "code",
   "execution_count": null,
   "metadata": {},
   "outputs": [],
   "source": [
    "sens = Sensitivity(model)"
   ]
  },
  {
   "cell_type": "code",
   "execution_count": null,
   "metadata": {},
   "outputs": [],
   "source": [
    "# sens.set_target('QHH')"
   ]
  },
  {
   "cell_type": "code",
   "execution_count": null,
   "metadata": {},
   "outputs": [],
   "source": [
    "sens.set_parametrs(Kdisp=1e9)"
   ]
  },
  {
   "cell_type": "code",
   "execution_count": null,
   "metadata": {},
   "outputs": [],
   "source": [
    "sens.solve()"
   ]
  },
  {
   "cell_type": "code",
   "execution_count": null,
   "metadata": {},
   "outputs": [],
   "source": [
    "sens.sensitivities"
   ]
  },
  {
   "cell_type": "code",
   "execution_count": null,
   "metadata": {},
   "outputs": [],
   "source": [
    "sens.evaluate({'Kc': 'fsens(Ke)'})"
   ]
  },
  {
   "cell_type": "markdown",
   "metadata": {},
   "source": [
    "# copy"
   ]
  },
  {
   "cell_type": "code",
   "execution_count": null,
   "metadata": {},
   "outputs": [],
   "source": [
    "mph.tree(from1)"
   ]
  },
  {
   "cell_type": "code",
   "execution_count": null,
   "metadata": {},
   "outputs": [],
   "source": [
    "mph.tree(to1)"
   ]
  },
  {
   "cell_type": "code",
   "execution_count": null,
   "metadata": {},
   "outputs": [],
   "source": [
    "from1= gen.nodes['solution']/'Time-Dependent Solver 1'"
   ]
  },
  {
   "cell_type": "code",
   "execution_count": null,
   "metadata": {},
   "outputs": [],
   "source": [
    "to1 = sens.nodes['solution']/'Time-Dependent Solver 1'"
   ]
  },
  {
   "cell_type": "code",
   "execution_count": null,
   "metadata": {},
   "outputs": [],
   "source": [
    "compare(from_node=from1,to_node=to1)"
   ]
  },
  {
   "cell_type": "code",
   "execution_count": null,
   "metadata": {},
   "outputs": [],
   "source": [
    "copy_solver(from_solver=from1,to_solver=to1)"
   ]
  },
  {
   "cell_type": "code",
   "execution_count": null,
   "metadata": {},
   "outputs": [],
   "source": [
    "model.save()"
   ]
  },
  {
   "cell_type": "markdown",
   "metadata": {},
   "source": [
    "# Plots"
   ]
  },
  {
   "cell_type": "code",
   "execution_count": null,
   "metadata": {},
   "outputs": [],
   "source": [
    "import plotly.express as px"
   ]
  },
  {
   "cell_type": "code",
   "execution_count": null,
   "metadata": {},
   "outputs": [],
   "source": [
    "rule = {'Kc': (0, 0.30000)}\n",
    "diap = ['Kc', 'light']\n",
    "datas, dfs = get_solves(rule)\n",
    "result = collect_dfs(datas, dfs, diap)\n"
   ]
  },
  {
   "cell_type": "code",
   "execution_count": null,
   "metadata": {},
   "outputs": [],
   "source": [
    "df_gen"
   ]
  },
  {
   "cell_type": "code",
   "execution_count": null,
   "metadata": {},
   "outputs": [],
   "source": [
    "result =df_gen\n",
    "fig = px.line(\n",
    "    result,\n",
    "    x=\"time\",\n",
    "    y=\"DH\",\n",
    "    animation_frame='light',\n",
    "    # color='Kc',\n",
    "    range_y=[0, 1],\n",
    ")\n",
    "fig.update_layout(\n",
    "    height=500,\n",
    "    margin={\n",
    "        'r': 0, 'l': 0, 't': 0, 'b': 0\n",
    "    },\n",
    "    legend=dict(x=-0.1, y=1, xanchor=\"left\"),\n",
    ")"
   ]
  },
  {
   "cell_type": "markdown",
   "metadata": {},
   "source": [
    "# Estimator"
   ]
  },
  {
   "cell_type": "code",
   "execution_count": null,
   "metadata": {},
   "outputs": [],
   "source": [
    "# est =Estimator(model)"
   ]
  }
 ],
 "metadata": {
  "kernelspec": {
   "display_name": "Python 3.11.1 ('comsol_env': venv)",
   "language": "python",
   "name": "python3"
  },
  "language_info": {
   "codemirror_mode": {
    "name": "ipython",
    "version": 3
   },
   "file_extension": ".py",
   "mimetype": "text/x-python",
   "name": "python",
   "nbconvert_exporter": "python",
   "pygments_lexer": "ipython3",
   "version": "3.11.1"
  },
  "orig_nbformat": 4,
  "vscode": {
   "interpreter": {
    "hash": "b8d921f2627d5d88a9c2ac5fd82ef2eb845a79526b778fc4c62dbbd75d2685af"
   }
  }
 },
 "nbformat": 4,
 "nbformat_minor": 2
}

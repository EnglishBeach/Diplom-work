{
 "cells": [
  {
   "cell_type": "code",
   "execution_count": null,
   "metadata": {},
   "outputs": [],
   "source": [
    "import plotly.graph_objs as go\n",
    "from PIL import Image\n",
    "import plotly.io as pio\n",
    "# Загрузка изображения\n",
    "img = Image.open('./Images/frame0.jpg')"
   ]
  },
  {
   "cell_type": "code",
   "execution_count": null,
   "metadata": {},
   "outputs": [],
   "source": [
    "import numpy as np"
   ]
  },
  {
   "cell_type": "code",
   "execution_count": null,
   "metadata": {},
   "outputs": [],
   "source": [
    "import matplotlib.pyplot as plt\n",
    "a= np.array(img)"
   ]
  },
  {
   "cell_type": "code",
   "execution_count": null,
   "metadata": {},
   "outputs": [],
   "source": [
    "# %matplotlib inline\n",
    "%matplotlib widget\n",
    "plt.imshow(a[100:,:])"
   ]
  },
  {
   "cell_type": "code",
   "execution_count": null,
   "metadata": {},
   "outputs": [],
   "source": [
    "# Определение координат прямоугольника\n",
    "x0, y0 = 0, 0\n",
    "x1, y1 = 640, 480\n",
    "\n",
    "# Обрезка изображения по прямоугольнику\n",
    "cropped_img = img\n",
    "# .crop((x0, y0, x1, y1))\n",
    "\n",
    "# Отображение обрезанного изображения в Plotly\n",
    "fig = go.Figure()\n",
    "fig.update_layout(\n",
    "    width=600,\n",
    "    height=600\n",
    ")\n",
    "# Добавление изображения в Figure\n",
    "fig.add_trace(go.Image(z=cropped_img))\n",
    "\n",
    "# Добавление слайдера для изменения координат прямоугольника\n",
    "slider = {\n",
    "    'active':0,\n",
    "    'currentvalue': {'prefix': 'Координаты прямоугольника: '},\n",
    "    'pad': {'t': 50},\n",
    "    'steps': [{\n",
    "        'args': [\n",
    "            [x0, y0, x1, y1],\n",
    "            {'frame': {'redraw': False},\n",
    "            'mode': 'immediate',\n",
    "            'transition': {'duration': 100}}\n",
    "            ],\n",
    "        'label':'Координаты прямоугольника',\n",
    "        'method':'animate',\n",
    "    }],\n",
    "    'x':0,\n",
    "    'xanchor':'left',\n",
    "    'y':0,\n",
    "    'yanchor':'top',\n",
    "} #yapf: disable\n",
    "fig.update_layout(sliders=[slider])\n",
    "pio.write_image(fig, 'cropped_image.png')\n",
    "fig.show()"
   ]
  },
  {
   "cell_type": "code",
   "execution_count": null,
   "metadata": {},
   "outputs": [],
   "source": [
    "import plotly.graph_objs as go\n",
    "import plotly.io as pio\n",
    "from PIL import Image\n",
    "\n",
    "# Загрузка изображения\n",
    "\n",
    "# Определение координат прямоугольника\n",
    "x0, y0 = 100, 100\n",
    "x1, y1 = 200, 200\n",
    "\n",
    "# Обрезка изображения по прямоугольнику\n",
    "cropped_img = img.crop((x0, y0, x1, y1))\n",
    "\n",
    "# Отображение обрезанного изображения в Plotly\n",
    "fig = go.Figure()\n",
    "\n",
    "# Добавление изображения в Figure\n",
    "fig.add_trace(go.Image(z=cropped_img))\n",
    "\n",
    "# Добавление слайдера для изменения координат прямоугольника\n",
    "fig.update_layout(\n",
    "    sliders=[\n",
    "        {\n",
    "            'active': 0,\n",
    "            'currentvalue': {\n",
    "                'prefix': 'Координаты прямоугольника: '\n",
    "            },\n",
    "            'pad': {\n",
    "                't': 50\n",
    "            },\n",
    "            'teps': [\n",
    "                {\n",
    "                    'args': [\n",
    "                        [x0, y0, x1, y1],\n",
    "                        {\n",
    "                            'frame': {\n",
    "                                'duration': 300,\n",
    "                                'edraw': False\n",
    "                            },\n",
    "                            'ode': 'immediate',\n",
    "                            'transition': {\n",
    "                                'duration': 0\n",
    "                            }\n",
    "                        }\n",
    "                    ],\n",
    "                    'label': 'Координаты прямоугольника',\n",
    "                    'ethod': 'animate'\n",
    "                }\n",
    "            ]\n",
    "        }\n",
    "    ]\n",
    ")\n",
    "\n",
    "# Сохранение изображения при итерактивном использовании\n",
    "pio.write_image(fig, 'cropped_image.png', engine='kaleido', scale=3)\n",
    "\n",
    "fig.show()"
   ]
  },
  {
   "cell_type": "code",
   "execution_count": null,
   "metadata": {},
   "outputs": [],
   "source": [
    "import matplotlib.pyplot as plt"
   ]
  },
  {
   "cell_type": "code",
   "execution_count": null,
   "metadata": {},
   "outputs": [],
   "source": [
    "import cv2\n",
    "\n",
    "# Загрузка изображения\n",
    "img = cv2.imread('./Images/frame0.jpg')\n",
    "\n",
    "# Отображение изображения\n",
    "# cv2.imshow('image', img)\n",
    "# cv2.waitKey(0)\n",
    "# cv2.destroyAllWindows()\n",
    "\n",
    "# Выделение части изображения\n",
    "x, y, w, h = cv2.selectROI('image', img)\n",
    "cv2.destroyAllWindows()\n",
    "\n",
    "# Сохранение выделенной части в переменную\n",
    "roi = img[y:y+h, x:x+w]\n",
    "\n",
    "# Отображение выделенной части\n",
    "# cv2.imshow('roi', roi)\n",
    "# cv2.waitKey(0)\n",
    "# cv2.destroyAllWindows()"
   ]
  },
  {
   "cell_type": "code",
   "execution_count": null,
   "metadata": {},
   "outputs": [],
   "source": [
    "plt.imshow(roi)"
   ]
  },
  {
   "cell_type": "code",
   "execution_count": null,
   "metadata": {},
   "outputs": [],
   "source": [
    "import cv2\n",
    "\n",
    "# Загрузка изображения\n",
    "# img = cv2.imread('image.jpg')\n",
    "\n",
    "# Отображение изображения\n",
    "cv2.namedWindow('image')\n",
    "cv2.setMouseCallback('image', lambda event, x, y, flags, param: None)\n",
    "while True:\n",
    "    cv2.imshow('image', img)\n",
    "    if cv2.waitKey(1) & 0xFF == ord('q'):\n",
    "        break\n",
    "cv2.destroyAllWindows()\n",
    "\n",
    "# Выделение части изображения\n",
    "x, y, w, h = cv2.selectROI('image', img)\n",
    "\n",
    "# Сохранение выделенной части в переменную\n",
    "roi = img[y:y+h, x:x+w]\n",
    "\n",
    "# Отображение выделенной части\n",
    "cv2.namedWindow('roi')\n",
    "cv2.setMouseCallback('roi', lambda event, x, y, flags, param: None)\n",
    "while True:\n",
    "    cv2.imshow('roi', roi)\n",
    "    if cv2.waitKey(1) & 0xFF == ord('q'):\n",
    "        break\n",
    "cv2.destroyAllWindows()"
   ]
  },
  {
   "cell_type": "code",
   "execution_count": 1,
   "metadata": {},
   "outputs": [],
   "source": [
    "import matplotlib.pyplot as plt"
   ]
  },
  {
   "cell_type": "code",
   "execution_count": 2,
   "metadata": {},
   "outputs": [
    {
     "data": {
      "image/png": "[encoded data removed]",
      "text/plain": [
       "<Figure size 640x480 with 1 Axes>"
      ]
     },
     "metadata": {},
     "output_type": "display_data"
    }
   ],
   "source": [
    "import cv2\n",
    "# Загрузка изображения\n",
    "img = cv2.imread('./Images/frame0.jpg')\n",
    "\n",
    "def mouse_drawing(event, x, y, flags, params):\n",
    "    if event == cv2.EVENT_LBUTTONDOWN:\n",
    "        car = img[y: y+100 , x: x+100 ]\n",
    "        plt.imshow(car)\n",
    "\n",
    "cv2.namedWindow(\"my_img\")\n",
    "cv2.setMouseCallback(\"my_img\", mouse_drawing)\n",
    "\n",
    "while True:\n",
    "    key = cv2.waitKey(1)\n",
    "    if key==ord('q'):break\n",
    "        \n",
    "    cv2.imshow(\"my_img\", img)\n",
    "    key = cv2.waitKey(1)\n",
    "    \n",
    "cv2.destroyAllWindows()"
   ]
  },
  {
   "cell_type": "code",
   "execution_count": null,
   "metadata": {},
   "outputs": [],
   "source": [
    "cv2.destroyAllWindows()"
   ]
  }
 ],
 "metadata": {
  "kernelspec": {
   "display_name": "Python 3.10.0 ('zVid_env': venv)",
   "language": "python",
   "name": "python3"
  },
  "language_info": {
   "codemirror_mode": {
    "name": "ipython",
    "version": 3
   },
   "file_extension": ".py",
   "mimetype": "text/x-python",
   "name": "python",
   "nbconvert_exporter": "python",
   "pygments_lexer": "ipython3",
   "version": "3.10.0"
  },
  "orig_nbformat": 4,
  "vscode": {
   "interpreter": {
    "hash": "5946b119aa0342abd5386a0c5beb8d13f5e9da65c541c34995194e58e5a123e1"
   }
  }
 },
 "nbformat": 4,
 "nbformat_minor": 2
}

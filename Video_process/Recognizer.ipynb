{
 "cells": [
  {
   "cell_type": "code",
   "execution_count": null,
   "metadata": {},
   "outputs": [],
   "source": [
    "# %matplotlib qt\n",
    "# %matplotlib ipympl"
   ]
  },
  {
   "cell_type": "code",
   "execution_count": null,
   "metadata": {},
   "outputs": [],
   "source": [
    "## Imports\n",
    "print(\"Importing...\")\n",
    "import numpy as np\n",
    "from tqdm import tqdm\n",
    "import matplotlib.pyplot as plt\n",
    "\n",
    "import cv2\n",
    "import easyocr\n",
    "\n",
    "from matplotlib.backends.backend_pdf import PdfPages\n",
    "from matplotlib.widgets import Slider\n"
   ]
  },
  {
   "cell_type": "code",
   "execution_count": null,
   "metadata": {},
   "outputs": [],
   "source": [
    "VIDEO_PATH = \"Videos/Full_font1.avi\"\n",
    "# VIDEO_PATH = None\n",
    "if VIDEO_PATH is None:\n",
    "    input_path = ''\n",
    "    while input_path == '':\n",
    "        input_path = input(f\"Input video path: \")\n",
    "    VIDEO_PATH = input_path\n",
    "\n",
    "RECOGNIZABLE_VARIABLES = [{'name': 'Viscosity'}, {'name': 'Temperature'}]\n",
    "\n",
    "CAP = cv2.VideoCapture(VIDEO_PATH)\n",
    "FPS = int(CAP.get(cv2.CAP_PROP_FPS))\n",
    "LENTH = int(CAP.get(cv2.CAP_PROP_FRAME_COUNT) / FPS)\n",
    "CAP.set(cv2.CAP_PROP_POS_FRAMES, 0)\n",
    "_, START_FRAME = CAP.read()\n"
   ]
  },
  {
   "cell_type": "code",
   "execution_count": null,
   "metadata": {},
   "outputs": [],
   "source": [
    "## Preprocess\n",
    "class ImageProcessor:\n",
    "\n",
    "    def __init__(self, blur=1):\n",
    "        self.blur = blur\n",
    "\n",
    "    def __call__(self, frame):\n",
    "        frame = cv2.blur(frame, (self.blur, self.blur))\n",
    "        frame = cv2.cvtColor(frame, cv2.COLOR_BGR2GRAY)\n",
    "        frame = cv2.bitwise_not(frame)\n",
    "        return frame\n",
    "\n",
    "\n",
    "fig, ax = plt.subplots()\n",
    "fig.set_size_inches(5, 5)\n",
    "fig.subplots_adjust(left=0.25, right=1, bottom=0.25, top=1, hspace=0, wspace=0)\n",
    "\n",
    "PROCESSOR = ImageProcessor()\n",
    "PLOT = ax.imshow(PROCESSOR(START_FRAME), cmap='binary')\n",
    "\n",
    "ax_time_slider = fig.add_axes([0.25, 0.1, 0.65, 0.03])\n",
    "TIME_slider = Slider(\n",
    "    ax=ax_time_slider,\n",
    "    label='Time',\n",
    "    valmin=0,\n",
    "    valmax=LENTH,\n",
    "    valinit=0,\n",
    "    valstep=1,\n",
    ")\n",
    "\n",
    "ax_blur_slider = fig.add_axes([0.1, 0.25, 0.03, 0.6])\n",
    "BLUR_slider = Slider(\n",
    "    ax=ax_blur_slider,\n",
    "    orientation='vertical',\n",
    "    label='Blur',\n",
    "    valmin=PROCESSOR.blur,\n",
    "    valmax=20,\n",
    "    valinit=1,\n",
    "    valstep=1,\n",
    ")\n",
    "\n",
    "\n",
    "def update(val):\n",
    "    time = TIME_slider.val\n",
    "    global PROCESSOR\n",
    "    PROCESSOR.blur = BLUR_slider.val\n",
    "\n",
    "    CAP.set(cv2.CAP_PROP_POS_FRAMES, int(FPS * time))\n",
    "    _, frame = CAP.read()\n",
    "    frame = PROCESSOR(frame)\n",
    "\n",
    "    PLOT.set_data(frame)\n",
    "    PLOT.autoscale()\n",
    "\n",
    "    fig.canvas.draw_idle()\n",
    "\n",
    "\n",
    "TIME_slider.on_changed(update)\n",
    "BLUR_slider.on_changed(update)\n",
    "print('Configurate image processing')\n",
    "plt.show()"
   ]
  },
  {
   "cell_type": "code",
   "execution_count": null,
   "metadata": {},
   "outputs": [],
   "source": [
    "## Selection\n",
    "print(f'Blur value= {PROCESSOR.blur}')\n",
    "\n",
    "\n",
    "def strict(image, x, y, w, h):\n",
    "    return image[y:y + h, x:x + w]\n",
    "\n",
    "\n",
    "for variable in RECOGNIZABLE_VARIABLES:\n",
    "    roi_frame = PROCESSOR(START_FRAME)\n",
    "    roi_frame = cv2.bitwise_not(roi_frame)\n",
    "    current_slice = cv2.selectROI(\n",
    "        f\"Select {variable['name']}\",\n",
    "        roi_frame,\n",
    "        fromCenter=False,\n",
    "        showCrosshair=True,\n",
    "    )\n",
    "    variable['slice'] = current_slice\n",
    "cv2.destroyAllWindows()\n",
    "\n",
    "# Result plots\n",
    "fig, axes = plt.subplots(nrows=len(RECOGNIZABLE_VARIABLES))\n",
    "if not isinstance(axes, np.ndarray): axes = [axes]\n",
    "fig.set_size_inches(3, 1 * len(RECOGNIZABLE_VARIABLES))\n",
    "fig.subplots_adjust(left=0, right=1, bottom=0.0, top=1, hspace=0, wspace=0)\n",
    "start_slices = [\n",
    "    strict(PROCESSOR(START_FRAME), *variable['slice'])\n",
    "    for variable in RECOGNIZABLE_VARIABLES\n",
    "]\n",
    "for i in range(len(RECOGNIZABLE_VARIABLES)):\n",
    "    axes[i].set_axis_off()\n",
    "    axes[i].imshow(start_slices[i], cmap='binary')\n",
    "plt.show()"
   ]
  },
  {
   "cell_type": "code",
   "execution_count": null,
   "metadata": {},
   "outputs": [],
   "source": [
    "import pandas as pd"
   ]
  },
  {
   "cell_type": "code",
   "execution_count": null,
   "metadata": {},
   "outputs": [],
   "source": [
    "pd.DataFrame(\n",
    "    [\n",
    "        {'t':1,'g':3},\n",
    "        {'t':2,'g':5}\n",
    "    ]\n",
    "    \n",
    ")"
   ]
  },
  {
   "cell_type": "code",
   "execution_count": null,
   "metadata": {},
   "outputs": [],
   "source": [
    "# Recognize\n",
    "print('Starting recognizer...')\n",
    "reader = easyocr.Reader(['en'])\n",
    "\n",
    "input_fps = input('Input number of frames per second: ')\n",
    "try:\n",
    "    read_fps = int(input_fps)\n",
    "except:\n",
    "    read_fps = 1\n",
    "\n",
    "print('Recognizing:')\n",
    "diap = tqdm(iterable=range(0, FPS * LENTH, int(FPS / read_fps)))\n",
    "\n",
    "data = []\n",
    "for i_frame in diap:\n",
    "    CAP.set(cv2.CAP_PROP_POS_FRAMES, i_frame)\n",
    "    _, frame = CAP.read()\n",
    "    i_text = {}\n",
    "    for variable in RECOGNIZABLE_VARIABLES:\n",
    "        selection = strict(frame, *variable['slice'])\n",
    "        selection = PROCESSOR(selection)\n",
    "\n",
    "        raw_values = [value for _, value, _ in reader.readtext(selection)]\n",
    "        # values = correct(raw_values)\n",
    "        result= variable.copy()\n",
    "        \n",
    "        i_text[variable['name']]=raw_values[0]\n",
    "\n",
    "    data.append(i_text)\n",
    "pd.DataFrame(data)"
   ]
  },
  {
   "cell_type": "code",
   "execution_count": null,
   "metadata": {},
   "outputs": [],
   "source": [
    "raw_value = data[0][0]"
   ]
  },
  {
   "cell_type": "code",
   "execution_count": null,
   "metadata": {},
   "outputs": [],
   "source": [
    "raw_value"
   ]
  },
  {
   "cell_type": "code",
   "execution_count": null,
   "metadata": {},
   "outputs": [],
   "source": [
    "int('123.3')"
   ]
  },
  {
   "cell_type": "code",
   "execution_count": null,
   "metadata": {},
   "outputs": [],
   "source": [
    "if not 7988 // 1000: print('asdf')\n"
   ]
  },
  {
   "cell_type": "code",
   "execution_count": null,
   "metadata": {},
   "outputs": [],
   "source": [
    "min_val = 12\n"
   ]
  },
  {
   "cell_type": "code",
   "execution_count": null,
   "metadata": {},
   "outputs": [],
   "source": [
    "10 <= min_val if min_val is not None else True"
   ]
  },
  {
   "cell_type": "code",
   "execution_count": null,
   "metadata": {},
   "outputs": [],
   "source": [
    "import re"
   ]
  },
  {
   "cell_type": "code",
   "execution_count": null,
   "metadata": {},
   "outputs": [],
   "source": [
    "class ValueCorrector:\n",
    "\n",
    "    def __init__(self, processor, reader):\n",
    "        self._processor = processor\n",
    "        self._reader = reader\n",
    "\n",
    "    def pattern_check(self, value: str, re_rule, min_val, max_val):\n",
    "        value = value.replace(',', '.')\n",
    "        one_check = len(re.findall(re_rule, value)) == 1\n",
    "        try:\n",
    "            result = float(value[0])\n",
    "        except ValueError:\n",
    "            return None\n",
    "        min_check = value <= min_val if re_rule is not None else True\n",
    "        max_check = value >= max_val if re_rule is not None else True\n",
    "\n",
    "        result = value if one_check and min_check and max_check else None\n",
    "        return result\n",
    "\n",
    "    def correct(self, raw_value, rules: dict):\n",
    "        one = len(raw_value) == 1\n",
    "        result = self.pattern_check(raw_value[0], **rules)\n",
    "        if one and (result is not None): return result\n",
    "\n",
    "        try:\n",
    "            result = int(raw_value[0])\n",
    "            value = self._int_check(result)\n",
    "        except ValueError:\n",
    "            self._value_check(result)\n",
    "\n",
    "        self._process\n",
    "\n",
    "        return value\n",
    "\n",
    "    @staticmethod\n",
    "    def _int_check(value):\n",
    "        if value <= 1000: return value\n",
    "\n",
    "    def _value_check(self):\n",
    "        ...\n",
    "\n",
    "    def _combine(self):\n",
    "\n",
    "        if parts == 2:\n",
    "            raw_result = '.'.join(values)\n",
    "\n",
    "        elif parts == 3:\n",
    "            raw_result = f'{values[0]}.{values[2]}'\n",
    "\n",
    "        try:\n",
    "            result = float(raw_result)\n",
    "        except:\n",
    "            print('error', raw_result)\n",
    "            result = None\n",
    "        return result\n",
    "\n",
    "    @staticmethod\n",
    "    def _process(image, ):\n",
    "        ...\n"
   ]
  },
  {
   "cell_type": "code",
   "execution_count": null,
   "metadata": {},
   "outputs": [],
   "source": [
    "a = ValueCorrector(raw_value)\n",
    "a._combine()"
   ]
  }
 ],
 "metadata": {
  "kernelspec": {
   "display_name": "Python 3.10.0 ('zVid_env': venv)",
   "language": "python",
   "name": "python3"
  },
  "language_info": {
   "codemirror_mode": {
    "name": "ipython",
    "version": 3
   },
   "file_extension": ".py",
   "mimetype": "text/x-python",
   "name": "python",
   "nbconvert_exporter": "python",
   "pygments_lexer": "ipython3",
   "version": "3.10.0"
  },
  "orig_nbformat": 4,
  "vscode": {
   "interpreter": {
    "hash": "5946b119aa0342abd5386a0c5beb8d13f5e9da65c541c34995194e58e5a123e1"
   }
  }
 },
 "nbformat": 4,
 "nbformat_minor": 2
}

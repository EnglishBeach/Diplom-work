{
 "cells": [
  {
   "cell_type": "code",
   "execution_count": null,
   "metadata": {},
   "outputs": [],
   "source": [
    "import cv2\n",
    "from tqdm import tqdm\n",
    "import matplotlib.pyplot as plt\n",
    "import numpy as np\n",
    "import pytesseract as tes\n",
    "from matplotlib.backends.backend_pdf import PdfPages"
   ]
  },
  {
   "cell_type": "code",
   "execution_count": null,
   "metadata": {},
   "outputs": [],
   "source": [
    "cap = cv2.VideoCapture(\"Videos/Full_font1.avi\")"
   ]
  },
  {
   "cell_type": "code",
   "execution_count": null,
   "metadata": {},
   "outputs": [],
   "source": [
    "## Saving\n",
    "# fps =int(cap.get(cv2.CAP_PROP_FPS))\n",
    "# diap = tqdm(iterable=range(0,fps*40,fps))\n",
    "# for i in diap:\n",
    "#     cap.set(cv2.CAP_PROP_POS_FRAMES, i)\n",
    "#     ret, frame = cap.read()\n",
    "#     if ret:\n",
    "#         cv2.imwrite(f\"Images/frame{int(i/fps)}.jpg\",frame)"
   ]
  },
  {
   "cell_type": "code",
   "execution_count": 77,
   "metadata": {},
   "outputs": [],
   "source": [
    "def recognize(image,thresh):\n",
    "    frame_2color = cv2.cvtColor(image, cv2.COLOR_BGR2GRAY)\n",
    "    thresh, frame_bw = cv2.threshold(frame_2color, thresh, 255, cv2.THRESH_BINARY)\n",
    "    return tes.image_to_string(frame_bw),frame_bw"
   ]
  },
  {
   "cell_type": "code",
   "execution_count": 78,
   "metadata": {},
   "outputs": [
    {
     "name": "stderr",
     "output_type": "stream",
     "text": [
      "100%|██████████| 40/40 [00:11<00:00,  3.41it/s]\n"
     ]
    }
   ],
   "source": [
    "# Check\n",
    "THRESH = 147\n",
    "\n",
    "pdf_file = PdfPages('Full_font1.pdf')\n",
    "\n",
    "fps = int(cap.get(cv2.CAP_PROP_FPS))\n",
    "diap = tqdm(iterable=range(0, fps * 40, fps))\n",
    "\n",
    "for i in diap:\n",
    "    cap.set(cv2.CAP_PROP_POS_FRAMES, i)\n",
    "    ready, frame = cap.read()\n",
    "    text, frame_treated = recognize(frame, thresh=THRESH)\n",
    "\n",
    "    if ready:\n",
    "        fig, (ax_row, ax_treated) = plt.subplots(ncols=2)\n",
    "\n",
    "        ax_row.imshow(frame)\n",
    "        ax_treated.imshow(frame_treated)\n",
    "        ax_row.text(0, 0, text, fontsize=15)\n",
    "        \n",
    "        fig.savefig(pdf_file, format='pdf')\n",
    "        plt.close()\n",
    "pdf_file.close()"
   ]
  }
 ],
 "metadata": {
  "kernelspec": {
   "display_name": "Python 3.11.1 ('z_Image_env': venv)",
   "language": "python",
   "name": "python3"
  },
  "language_info": {
   "codemirror_mode": {
    "name": "ipython",
    "version": 3
   },
   "file_extension": ".py",
   "mimetype": "text/x-python",
   "name": "python",
   "nbconvert_exporter": "python",
   "pygments_lexer": "ipython3",
   "version": "3.11.1"
  },
  "orig_nbformat": 4,
  "vscode": {
   "interpreter": {
    "hash": "73200037972b928a33840c78f1cf032cde5c5277bd98d8a6a55c97e4bdb813b9"
   }
  }
 },
 "nbformat": 4,
 "nbformat_minor": 2
}

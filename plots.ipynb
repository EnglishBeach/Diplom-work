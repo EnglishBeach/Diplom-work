{
 "cells": [
  {
   "cell_type": "code",
   "execution_count": 1,
   "metadata": {},
   "outputs": [],
   "source": [
    "import os\n",
    "import pandas as pd\n",
    "import numpy as np\n",
    "from scipy import stats\n",
    "\n",
    "from sklearn import linear_model\n",
    "\n",
    "import matplotlib.pyplot as plt\n",
    "import seaborn as sns\n",
    "import plotly \n",
    "import plotly.graph_objects as go\n",
    "import plotly.express as px\n",
    "\n",
    "%matplotlib qt\n",
    "pd.set_option('mode.chained_assignment', None)"
   ]
  },
  {
   "cell_type": "markdown",
   "metadata": {},
   "source": [
    "# Process modules"
   ]
  },
  {
   "cell_type": "code",
   "execution_count": 2,
   "metadata": {},
   "outputs": [],
   "source": [
    "class Container:\n",
    "\n",
    "    data: pd.DataFrame = None\n",
    "   \n",
    "\n",
    "    def __init__(self, data=None, name=''):\n",
    "        self.data = data\n",
    "        self.experiment_name = name\n",
    "        self._log=[]\n",
    "\n",
    "    def load(self, path=''):\n",
    "        while (path == '') or (not os.path.isfile(path)):\n",
    "            path = input(f\"Input data path: \")\n",
    "        _path_list = (path).split('\\\\')\n",
    "        self.folder = '\\\\'.join(_path_list[:-1])\n",
    "        self.experiment_name = _path_list[-1]\n",
    "\n",
    "        self._raw_data = pd.read_csv(path)\n",
    "        print(f'Loaded: {self.experiment_name}')\n",
    "        self.log(f'loaded from: {path}')\n",
    "        return self\n",
    "\n",
    "    def initial_filter(\n",
    "            self,\n",
    "            time_in_minutes=False,\n",
    "            temperature=(-np.inf, np.inf),\n",
    "            viscosity=(0, np.inf),\n",
    "            time=(0, np.inf),\n",
    "    ):\n",
    "        conditions = dict(temperature=temperature,\n",
    "                          viscosity=viscosity,\n",
    "                          time=time)\n",
    "\n",
    "        temperature_cond = ((temperature[0] < self._raw_data['Temperature']) &\n",
    "                            (self._raw_data['Temperature'] < temperature[1]))\n",
    "        viscosity_cond = ((viscosity[0] < self._raw_data['Viscosity']) &\n",
    "                          (self._raw_data['Viscosity'] < viscosity[1]))\n",
    "        time_cond = ((time[0] < self._raw_data['time']) &\n",
    "                     (self._raw_data['time'] < time[1]))\n",
    "\n",
    "        self.data = self._raw_data[temperature_cond & viscosity_cond\n",
    "                                   & time_cond]\n",
    "        if time_in_minutes: self.data['time'] / 60\n",
    "        self.log(f'Initialy filtered: {conditions}')\n",
    "        return self.data\n",
    "\n",
    "    def copy(self):\n",
    "        new = Container(self.data.copy(), name=f'{self.experiment_name}')\n",
    "        new._log.extend(self.log()[:]) \n",
    "        return new\n",
    "    \n",
    "    def log(self,msg=None):\n",
    "        if msg is not None: self._log.append(msg)\n",
    "        return self._log\n",
    "\n",
    "    @property\n",
    "    def groupT(self):\n",
    "        return self.data[['Temperature', 'Viscosity']].groupby(by='Temperature')\n",
    "\n",
    "    @property\n",
    "    def groupV(self):\n",
    "        return self.data[['Temperature', 'Viscosity']].groupby(by='Viscosity')\n"
   ]
  },
  {
   "cell_type": "code",
   "execution_count": 28,
   "metadata": {},
   "outputs": [],
   "source": [
    "## Filtration\n",
    "def z_filter(data: pd.Series):\n",
    "    mean = data.mean()\n",
    "    s = data.std(ddof=0)+1e-50\n",
    "    z_score= np.abs((data-mean) / s) <1\n",
    "    return z_score\n",
    "\n",
    "# def z_filter(data: pd.Series):\n",
    "#     return stats.zscore(data)<1\n",
    "\n",
    "def whisker_iqr_filter(data: pd.Series):\n",
    "    whisker_width=0.5\n",
    "    q1 = data.quantile(0.25)\n",
    "    q3 = data.quantile(0.75)\n",
    "    iqr = q3 - q1\n",
    "    return (data >= q1 - whisker_width*iqr) & (data <= q3 + whisker_width*iqr)\n",
    "\n",
    "def iqr_filter(data: pd.Series):\n",
    "    q1 = data.quantile(0.25)\n",
    "    q3 = data.quantile(0.75)\n",
    "    iqr = q3 - q1\n",
    "    \n",
    "    return np.abs((data - data.median()) / iqr) < 1\n",
    "\n",
    "def my_z_filter(data: pd.Series):\n",
    "    mean = data.median()\n",
    "    s = data.std()+1e-50\n",
    "    z_score= np.abs((data-mean) / s) <0.1\n",
    "    return z_score"
   ]
  },
  {
   "cell_type": "code",
   "execution_count": 4,
   "metadata": {},
   "outputs": [],
   "source": [
    "## Linearization\n",
    "def linearize(data):\n",
    "    data['Temperature'] =data['Temperature'].apply( lambda t: 1/(t+273.15))\n",
    "    data['Viscosity'] = data['Viscosity'].apply(lambda nu: np.log(nu))   "
   ]
  },
  {
   "cell_type": "code",
   "execution_count": 82,
   "metadata": {},
   "outputs": [],
   "source": [
    "def regress(data):\n",
    "    reg = linear_model.LinearRegression(fit_intercept=True)\n",
    "    X = np.array([data['Temperature']]).T\n",
    "    Y = np.array(data['Viscosity'])\n",
    "    reg.fit(X, Y)\n",
    "\n",
    "    w = reg.coef_[0]\n",
    "    w0 = reg.intercept_\n",
    "\n",
    "    nu0 = np.exp(w0)\n",
    "    EkJ = 8.314 * w / 1000\n",
    "\n",
    "    def TC_func(t,EkJ=EkJ,nu0 =nu0):\n",
    "        Tt = 1 / (t+273.15)\n",
    "        return nu0*np.exp(EkJ*1000/8.314*Tt)\n",
    "\n",
    "    return nu0, EkJ,TC_func\n"
   ]
  },
  {
   "cell_type": "markdown",
   "metadata": {},
   "source": [
    "# Load raw and save ready data"
   ]
  },
  {
   "cell_type": "code",
   "execution_count": null,
   "metadata": {},
   "outputs": [],
   "source": [
    "# path = f'Experiments\\MultiplyTemperature\\Exp5(12.5)\\Exp5_down.csv'\n",
    "\n",
    "path = ''\n",
    "while (path == '') or (not os.path.isfile(path)):\n",
    "    path = input(f\"Input data path: \")\n",
    "_path_list = (path).split('\\\\')\n",
    "folder_path = '\\\\'.join(_path_list[:-1])\n",
    "data_name = _path_list[-1]\n",
    "print(f'    Folder:\\n{folder_path}\\n    Data name:\\n {data_name}')"
   ]
  },
  {
   "cell_type": "code",
   "execution_count": null,
   "metadata": {},
   "outputs": [],
   "source": [
    "df1 = pd.read_csv('Experiments\\\\MultiplyTemperature\\\\Exp0(0)\\\\Exp0_up1.csv',\n",
    "                  index_col=0)\n",
    "# df2 = pd.read_csv('Experiments\\\\MultiplyTemperature\\\\Exp0(0)\\\\Exp0_up2.csv',index_col=0)\n",
    "# df3 = pd.read_csv('Experiments\\\\MultiplyTemperature\\\\Exp0(0)\\\\Exp0_up3.csv',index_col=0)\n",
    "# df4 = pd.read_csv('Experiments\\\\MultiplyTemperature\\\\Exp0(0)\\\\Exp0_up4.csv',index_col=0)\n"
   ]
  },
  {
   "cell_type": "code",
   "execution_count": null,
   "metadata": {},
   "outputs": [],
   "source": [
    "rules = {\n",
    "    1: 'image_sweep_check',\n",
    "    2: 'combine_check',  # 'inner_processor_check':'OK_inner'\n",
    "    0: 'OK'\n",
    "}\n",
    "col_rules = {\n",
    "    'Viscosity_mark': 'Viscosity_verbose',\n",
    "    'Temperature_mark': 'Temperature_verbose',\n",
    "}\n",
    "\n",
    "df1 = df1.rename(columns=col_rules)\n",
    "df1[['Viscosity_verbose','Temperature_verbose']] =\\\n",
    "    df1[['Viscosity_verbose','Temperature_verbose']].replace(rules)\n",
    "\n",
    "# df2 = df2.rename(columns=col_rules)\n",
    "# df2[['Viscosity_verbose','Temperature_verbose']] = df2[['Viscosity_verbose','Temperature_verbose']].replace(rules)\n",
    "# df2['time'] =df2['time']+ df1['time'].max()+1\n",
    "\n",
    "# df3 = df3.rename(columns=col_rules)\n",
    "# df3[['Viscosity_verbose','Temperature_verbose']] = df3[['Viscosity_verbose','Temperature_verbose']].replace({np.nan:'OK'})\n",
    "# df3['time'] =df3['time']+ df2['time'].max()+1\n",
    "\n",
    "# df4 = df4.rename(columns=col_rules)\n",
    "# df4[['Viscosity_verbose','Temperature_verbose']] = df4[['Viscosity_verbose','Temperature_verbose']].replace({np.nan:'OK'})\n",
    "# df4['time'] =df4['time']+ df3['time'].max()+1\n",
    "# df = pd.concat([df1,df2,df3,df4])\n",
    "\n",
    "df = df1.dropna(subset=['Viscosity', 'Temperature'])\n",
    "df"
   ]
  },
  {
   "cell_type": "code",
   "execution_count": null,
   "metadata": {},
   "outputs": [],
   "source": [
    "np.any(df['time'].duplicated())"
   ]
  },
  {
   "cell_type": "code",
   "execution_count": null,
   "metadata": {},
   "outputs": [],
   "source": [
    "assert not os.path.isfile(f'{folder_path}\\AData_{data_name}'), 'Data already exists'\n",
    "df.to_csv(f'{folder_path}\\AData_{data_name}', index=0)"
   ]
  },
  {
   "cell_type": "markdown",
   "metadata": {},
   "source": [
    "# Load"
   ]
  },
  {
   "cell_type": "code",
   "execution_count": 5,
   "metadata": {},
   "outputs": [
    {
     "name": "stdout",
     "output_type": "stream",
     "text": [
      "Loaded: AData_Exp2_up.csv\n"
     ]
    },
    {
     "data": {
      "text/html": [
       "<div>\n",
       "<style scoped>\n",
       "    .dataframe tbody tr th:only-of-type {\n",
       "        vertical-align: middle;\n",
       "    }\n",
       "\n",
       "    .dataframe tbody tr th {\n",
       "        vertical-align: top;\n",
       "    }\n",
       "\n",
       "    .dataframe thead th {\n",
       "        text-align: right;\n",
       "    }\n",
       "</style>\n",
       "<table border=\"1\" class=\"dataframe\">\n",
       "  <thead>\n",
       "    <tr style=\"text-align: right;\">\n",
       "      <th></th>\n",
       "      <th>time</th>\n",
       "      <th>Viscosity</th>\n",
       "      <th>Viscosity_verbose</th>\n",
       "      <th>Temperature</th>\n",
       "      <th>Temperature_verbose</th>\n",
       "    </tr>\n",
       "  </thead>\n",
       "  <tbody>\n",
       "    <tr>\n",
       "      <th>0</th>\n",
       "      <td>5.0</td>\n",
       "      <td>159.6</td>\n",
       "      <td>image_sweep_check</td>\n",
       "      <td>14.4</td>\n",
       "      <td>OK</td>\n",
       "    </tr>\n",
       "    <tr>\n",
       "      <th>1</th>\n",
       "      <td>6.0</td>\n",
       "      <td>159.6</td>\n",
       "      <td>OK_inner</td>\n",
       "      <td>14.4</td>\n",
       "      <td>OK</td>\n",
       "    </tr>\n",
       "    <tr>\n",
       "      <th>2</th>\n",
       "      <td>7.0</td>\n",
       "      <td>159.3</td>\n",
       "      <td>OK</td>\n",
       "      <td>14.4</td>\n",
       "      <td>OK</td>\n",
       "    </tr>\n",
       "    <tr>\n",
       "      <th>3</th>\n",
       "      <td>8.0</td>\n",
       "      <td>159.0</td>\n",
       "      <td>OK_inner</td>\n",
       "      <td>14.4</td>\n",
       "      <td>OK</td>\n",
       "    </tr>\n",
       "    <tr>\n",
       "      <th>4</th>\n",
       "      <td>9.0</td>\n",
       "      <td>159.0</td>\n",
       "      <td>image_sweep_check</td>\n",
       "      <td>14.4</td>\n",
       "      <td>OK</td>\n",
       "    </tr>\n",
       "    <tr>\n",
       "      <th>...</th>\n",
       "      <td>...</td>\n",
       "      <td>...</td>\n",
       "      <td>...</td>\n",
       "      <td>...</td>\n",
       "      <td>...</td>\n",
       "    </tr>\n",
       "    <tr>\n",
       "      <th>2827</th>\n",
       "      <td>3317.0</td>\n",
       "      <td>31.8</td>\n",
       "      <td>OK</td>\n",
       "      <td>39.9</td>\n",
       "      <td>OK</td>\n",
       "    </tr>\n",
       "    <tr>\n",
       "      <th>2828</th>\n",
       "      <td>3318.0</td>\n",
       "      <td>31.7</td>\n",
       "      <td>image_sweep_check</td>\n",
       "      <td>39.9</td>\n",
       "      <td>OK</td>\n",
       "    </tr>\n",
       "    <tr>\n",
       "      <th>2829</th>\n",
       "      <td>3319.0</td>\n",
       "      <td>31.6</td>\n",
       "      <td>OK</td>\n",
       "      <td>39.9</td>\n",
       "      <td>OK</td>\n",
       "    </tr>\n",
       "    <tr>\n",
       "      <th>2830</th>\n",
       "      <td>3320.0</td>\n",
       "      <td>31.7</td>\n",
       "      <td>image_sweep_check</td>\n",
       "      <td>39.9</td>\n",
       "      <td>OK</td>\n",
       "    </tr>\n",
       "    <tr>\n",
       "      <th>2831</th>\n",
       "      <td>3321.0</td>\n",
       "      <td>31.7</td>\n",
       "      <td>image_sweep_check</td>\n",
       "      <td>39.9</td>\n",
       "      <td>OK</td>\n",
       "    </tr>\n",
       "  </tbody>\n",
       "</table>\n",
       "<p>2742 rows × 5 columns</p>\n",
       "</div>"
      ],
      "text/plain": [
       "        time  Viscosity  Viscosity_verbose  Temperature Temperature_verbose\n",
       "0        5.0      159.6  image_sweep_check         14.4                  OK\n",
       "1        6.0      159.6           OK_inner         14.4                  OK\n",
       "2        7.0      159.3                 OK         14.4                  OK\n",
       "3        8.0      159.0           OK_inner         14.4                  OK\n",
       "4        9.0      159.0  image_sweep_check         14.4                  OK\n",
       "...      ...        ...                ...          ...                 ...\n",
       "2827  3317.0       31.8                 OK         39.9                  OK\n",
       "2828  3318.0       31.7  image_sweep_check         39.9                  OK\n",
       "2829  3319.0       31.6                 OK         39.9                  OK\n",
       "2830  3320.0       31.7  image_sweep_check         39.9                  OK\n",
       "2831  3321.0       31.7  image_sweep_check         39.9                  OK\n",
       "\n",
       "[2742 rows x 5 columns]"
      ]
     },
     "execution_count": 5,
     "metadata": {},
     "output_type": "execute_result"
    }
   ],
   "source": [
    "a = Container()\n",
    "a.load('Experiments\\MultiplyTemperature\\Exp2(5)\\AData_Exp2_up.csv')\n",
    "a.initial_filter(\n",
    "    # time=(80, np.inf),\n",
    "    viscosity=(20, 200),\n",
    "    temperature=(13.8,41)\n",
    ")"
   ]
  },
  {
   "cell_type": "code",
   "execution_count": null,
   "metadata": {},
   "outputs": [],
   "source": [
    "b = Container()\n",
    "b.load('Experiments\\MultiplyTemperature\\Exp2(5)\\AData_Exp2_up.csv')\n",
    "b.initial_filter(\n",
    "    # time=(80, np.inf),\n",
    "    viscosity=(20, 200),\n",
    "    temperature=(13.8,41)\n",
    ")"
   ]
  },
  {
   "cell_type": "markdown",
   "metadata": {},
   "source": [
    "# Process"
   ]
  },
  {
   "cell_type": "code",
   "execution_count": 6,
   "metadata": {},
   "outputs": [
    {
     "data": {
      "text/plain": [
       "['loaded from: Experiments\\\\MultiplyTemperature\\\\Exp2(5)\\\\AData_Exp2_up.csv',\n",
       " \"Initialy filtered: {'temperature': (13.8, 41), 'viscosity': (20, 200), 'time': (0, inf)}\",\n",
       " 'filtered iqr2_filter']"
      ]
     },
     "execution_count": 6,
     "metadata": {},
     "output_type": "execute_result"
    }
   ],
   "source": [
    "a_f = a.copy()\n",
    "filter_func =iqr2_filter\n",
    "\n",
    "a_f.data = a_f.data[\n",
    "    (a_f.groupT['Viscosity'].apply(filter_func)\n",
    "     .droplevel([0])\n",
    "     .reset_index(drop=True)\n",
    "     .to_numpy())\n",
    "    ].dropna()\n",
    "a_f.log(f'filtered {filter_func.__name__}')"
   ]
  },
  {
   "cell_type": "code",
   "execution_count": 7,
   "metadata": {},
   "outputs": [
    {
     "data": {
      "text/plain": [
       "['loaded from: Experiments\\\\MultiplyTemperature\\\\Exp2(5)\\\\AData_Exp2_up.csv',\n",
       " \"Initialy filtered: {'temperature': (13.8, 41), 'viscosity': (20, 200), 'time': (0, inf)}\",\n",
       " 'linearised']"
      ]
     },
     "execution_count": 7,
     "metadata": {},
     "output_type": "execute_result"
    }
   ],
   "source": [
    "a_l = a.copy()\n",
    "linearize(a_l.data)\n",
    "a_l.log('linearised')"
   ]
  },
  {
   "cell_type": "code",
   "execution_count": 24,
   "metadata": {},
   "outputs": [
    {
     "data": {
      "text/plain": [
       "['loaded from: Experiments\\\\MultiplyTemperature\\\\Exp2(5)\\\\AData_Exp2_up.csv',\n",
       " \"Initialy filtered: {'temperature': (13.8, 41), 'viscosity': (20, 200), 'time': (0, inf)}\",\n",
       " 'linearised',\n",
       " 'filtered z_filter']"
      ]
     },
     "execution_count": 24,
     "metadata": {},
     "output_type": "execute_result"
    }
   ],
   "source": [
    "## Linearization filter\n",
    "a_lf = a_l.copy()\n",
    "filter_func = z_filter\n",
    "T_group = a_lf.groupT['Viscosity']\n",
    "\n",
    "a_lf.data = a_lf.data[\n",
    "    (T_group.apply(filter_func)\n",
    "     .droplevel([0])\n",
    "     .reset_index(drop=True)\n",
    "     .to_numpy())\n",
    "    ].dropna()\n",
    "a_lf.log(f'filtered {filter_func.__name__}')"
   ]
  },
  {
   "cell_type": "markdown",
   "metadata": {},
   "source": [
    "# Interactive"
   ]
  },
  {
   "cell_type": "code",
   "execution_count": null,
   "metadata": {},
   "outputs": [],
   "source": [
    "#Time\n",
    "def temp_plot(\n",
    "    data,\n",
    "    name,\n",
    "    y2_axix=False,\n",
    "    symbol='circle',\n",
    "    colors=plotly.colors.qualitative.Plotly,\n",
    "):\n",
    "    verboses = data[f'{name}_verbose'].unique()\n",
    "    rules = zip(\n",
    "        verboses,\n",
    "        [round(i) for i in np.linspace(0, len(colors) - 1, len(verboses))],\n",
    "    )\n",
    "    colors_rule = {key: colors[color] for key, color in rules}\n",
    "\n",
    "    scatter = go.Scatter(\n",
    "        x=data['time'],\n",
    "        y=data[name],\n",
    "        name=name,\n",
    "        mode='markers',\n",
    "        yaxis='y2' if y2_axix else 'y',\n",
    "        text=data[f'{name}_verbose'],\n",
    "        hovertemplate='%{y}<br>%{text}',\n",
    "        marker=dict(\n",
    "            size=5,\n",
    "            symbol=symbol,\n",
    "            color=data[f'{name}_verbose'].replace(colors_rule),\n",
    "        ),\n",
    "    )\n",
    "    return scatter\n",
    "\n",
    "\n",
    "a = a\n",
    "fig = go.Figure()\n",
    "fig.add_traces([\n",
    "    temp_plot(\n",
    "        a.data,\n",
    "        'Viscosity',\n",
    "        colors=plotly.colors.sequential.Aggrnyl,\n",
    "    ),\n",
    "    temp_plot(\n",
    "        a.data,\n",
    "        'Temperature',\n",
    "        y2_axix=True,\n",
    "        symbol='star',\n",
    "        colors=plotly.colors.sequential.Sunsetdark_r,\n",
    "    )\n",
    "])\n",
    "fig.update_layout(\n",
    "    hovermode=\"x unified\",\n",
    "    margin=dict(l=0, r=0, b=0, t=0, pad=0),\n",
    "    yaxis2=dict(\n",
    "        overlaying='y',\n",
    "        side='right',  # range=[15, 20],\n",
    "    ),  # xaxis=dict(range=[0, 500], ),\n",
    ")\n",
    "fig.show()"
   ]
  },
  {
   "cell_type": "code",
   "execution_count": null,
   "metadata": {},
   "outputs": [],
   "source": [
    "fig = go.Figure()\n",
    "fig = px.scatter(\n",
    "    a.data,\n",
    "    x=\"Temperature\",\n",
    "    y=\"Viscosity\",\n",
    "    color='Viscosity_verbose',\n",
    ")\n",
    "\n",
    "## Mean and median\n",
    "fig.add_traces([\n",
    "    go.Scatter(name='Mean',\n",
    "               x=a.groupT.mean().index,\n",
    "               y=a.groupT.mean()['Viscosity'],\n",
    "               mode='lines',\n",
    "               line=dict(color='red')),\n",
    "    go.Scatter(name='Median',\n",
    "               x=a.groupT.median().index,\n",
    "               y=a.groupT.median()['Viscosity'],\n",
    "               mode='lines',\n",
    "               line=dict(color='black')),\n",
    "])\n",
    "\n",
    "## Comparation\n",
    "# test_plot= test\n",
    "# fig.add_trace(\n",
    "#     go.Scatter(name='Test',\n",
    "#                x=test_plot.data['Temperature'],\n",
    "#                y=test_plot.data['Viscosity'],\n",
    "#                mode='markers',\n",
    "#                line=dict(color='green'),\n",
    "#                marker=dict(size=10)), )\n",
    "\n",
    "# fig.add_traces([\n",
    "#     go.Scatter(name='Mean comp',\n",
    "#                x=test_plot.groupT.mean().index,\n",
    "#                y=test_plot.groupT.mean()['Viscosity'],\n",
    "#                mode='lines',\n",
    "#                line=dict(color='red', width=2, dash='dot')),\n",
    "#     go.Scatter(name='Median comp',\n",
    "#                 x=test_plot.groupT.median().index,\n",
    "#                 y=test_plot.groupT.median()['Viscosity'],\n",
    "#                 mode='lines',\n",
    "#                 line=dict(color='black', width=2, dash='dot')),\n",
    "# ])\n",
    "\n",
    "##Regression\n",
    "# x = reg_data.index\n",
    "# fig.add_trace(\n",
    "#     go.Scatter(\n",
    "#         name='Regression',\n",
    "#         x=x,\n",
    "#         y=reg_func(x),\n",
    "#         mode='lines',\n",
    "#         line=dict(color='green', width=2, dash='dot'),\n",
    "#     ), )\n",
    "\n",
    "fig.update_layout(hovermode=\"x unified\", margin=dict(l=0, r=0, b=0, t=0, pad=0))\n",
    "fig.show()"
   ]
  },
  {
   "cell_type": "markdown",
   "metadata": {},
   "source": [
    "# Plots"
   ]
  },
  {
   "cell_type": "code",
   "execution_count": null,
   "metadata": {},
   "outputs": [],
   "source": [
    "## Temporal plots\n",
    "df =a.data\n",
    "# df = test_data\n",
    "\n",
    "fig, ax_v = plt.subplots()\n",
    "ax_T = ax_v.twinx()\n",
    "\n",
    "ax_v.scatter(df['time'], df['Viscosity'], color='red', marker='.')\n",
    "ax_v.set_ylabel('Viscosity', color='red')\n",
    "ax_v.set_xlabel('time')\n",
    "\n",
    "ax_T.scatter(df['time'], df['Temperature'], color='blue', marker='.')\n",
    "ax_T.set_ylabel('Temperature', color='blue')\n"
   ]
  },
  {
   "cell_type": "code",
   "execution_count": 88,
   "metadata": {},
   "outputs": [
    {
     "data": {
      "text/plain": [
       "<Axes: xlabel='Temperature', ylabel='Viscosity'>"
      ]
     },
     "execution_count": 88,
     "metadata": {},
     "output_type": "execute_result"
    }
   ],
   "source": [
    "## Temperature plots\n",
    "df = a.data\n",
    "\n",
    "fig, ax = plt.subplots()\n",
    "colors= df['Viscosity_verbose'].replace({\n",
    "    'OK':'g', 'OK_inner':'b', 'image_sweep_check':'r',\n",
    "})\n",
    "ax.scatter(x=df['Temperature'],y=df['Viscosity'],c= colors,s=5)\n",
    "\n",
    "sns.lineplot(\n",
    "    ax=ax,\n",
    "    data=df,\n",
    "    x=\"Temperature\",\n",
    "    y=\"Viscosity\",\n",
    "    estimator='mean',\n",
    "    errorbar=(\"sd\", 1),\n",
    "    err_style=\"bars\", \n",
    "    label ='mean'  \n",
    ")\n",
    "sns.lineplot(\n",
    "    ax=ax,\n",
    "    data=df,\n",
    "    x=\"Temperature\",\n",
    "    y=\"Viscosity\",\n",
    "    errorbar=('pi',68),\n",
    "    estimator=\"median\",\n",
    "    label ='median'  \n",
    ")\n",
    "\n",
    "# sns.lineplot(\n",
    "#     ax=ax,\n",
    "#     data=a_l.data,\n",
    "#     x=\"Temperature\",\n",
    "#     y=\"Viscosity\",\n",
    "#     estimator='mean',\n",
    "#     errorbar=(\"sd\", 1),\n",
    "#     err_style=\"bars\", \n",
    "#     label ='mean'  \n",
    "# )"
   ]
  },
  {
   "cell_type": "code",
   "execution_count": 83,
   "metadata": {},
   "outputs": [
    {
     "data": {
      "text/plain": [
       "<matplotlib.legend.Legend at 0x1ce36808fa0>"
      ]
     },
     "execution_count": 83,
     "metadata": {},
     "output_type": "execute_result"
    }
   ],
   "source": [
    "## fast OLS plot\n",
    "reg_data = a_l.data\n",
    "nu0,EkJ,func = regress(reg_data )\n",
    "sns.regplot(\n",
    "    data=reg_data,\n",
    "    x=\"Temperature\",\n",
    "    y=\"Viscosity\",\n",
    "    scatter=True,\n",
    "    truncate=False,\n",
    "    order=1,\n",
    "    # color=\".2\",\n",
    "    label=f'All:\\nE kJ= {EkJ:5.3f}\\nNu0= {nu0:5.3e}')\n",
    "\n",
    "reg_data = a_l.groupT.median().reset_index()\n",
    "nu0,EkJ,func = regress(reg_data )\n",
    "sns.regplot(\n",
    "    data=reg_data,\n",
    "    x=\"Temperature\",\n",
    "    y=\"Viscosity\",\n",
    "    scatter=False,\n",
    "    truncate=False,\n",
    "    order=1,\n",
    "    # color=\".2\",\n",
    "    label=f'Median:\\nE kJ= { EkJ:5.3f}\\nNu0= {nu0:5.3e}')\n",
    "plt.legend()\n"
   ]
  },
  {
   "cell_type": "markdown",
   "metadata": {},
   "source": [
    "## Saving regression"
   ]
  },
  {
   "cell_type": "code",
   "execution_count": null,
   "metadata": {},
   "outputs": [],
   "source": [
    "# assert not os.path.isfile(f'{folder_path}\\BReg_{data_name[6:]}'), 'Data already exists'\n",
    "# dfp.to_csv(f'{folder_path}\\BReg_{data_name[6:]}', index=0)"
   ]
  }
 ],
 "metadata": {
  "kernelspec": {
   "display_name": "Python 3.10.0 ('zChemistry_env': venv)",
   "language": "python",
   "name": "python3"
  },
  "language_info": {
   "codemirror_mode": {
    "name": "ipython",
    "version": 3
   },
   "file_extension": ".py",
   "mimetype": "text/x-python",
   "name": "python",
   "nbconvert_exporter": "python",
   "pygments_lexer": "ipython3",
   "version": "3.10.0"
  },
  "orig_nbformat": 4,
  "vscode": {
   "interpreter": {
    "hash": "65e3ff7ea178c0cc827c55669acecc2d3bcf4faf0bb1a0873412f31fa3e54b71"
   }
  }
 },
 "nbformat": 4,
 "nbformat_minor": 2
}

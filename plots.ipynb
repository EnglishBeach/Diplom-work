{
 "cells": [
  {
   "cell_type": "code",
   "execution_count": 1,
   "metadata": {},
   "outputs": [],
   "source": [
    "import pandas as pd\n",
    "import numpy as np"
   ]
  },
  {
   "cell_type": "code",
   "execution_count": 36,
   "metadata": {},
   "outputs": [],
   "source": [
    "path = r'Experiments/MultiplyTemperature/Exp0(0)/Data'\n",
    "df1 = pd.read_csv(f'{path}/1.csv',index_col=0)\n",
    "df2 = pd.read_csv(f'{path}/2.csv',index_col=0)\n",
    "df3 = pd.read_csv(f'{path}/3.csv',index_col=0)\n",
    "df4 = pd.read_csv(f'{path}/4.csv',index_col=0)"
   ]
  },
  {
   "cell_type": "code",
   "execution_count": 37,
   "metadata": {},
   "outputs": [],
   "source": [
    "rules= {0:'OK',1:'processor_sweep',2:'value_combine',3:'error'}\n",
    "col_rules={'Viscosity_mark':'Viscosity_verbose','Temperature_mark':'Temperature_verbose'} "
   ]
  },
  {
   "cell_type": "code",
   "execution_count": 38,
   "metadata": {},
   "outputs": [],
   "source": [
    "df1 = df1.rename(columns=col_rules)\n",
    "df1[['Viscosity_verbose','Temperature_verbose']] = df1[['Viscosity_verbose','Temperature_verbose']].replace(rules)\n",
    "\n",
    "df2 = df2.rename(columns=col_rules)\n",
    "df2[['Viscosity_verbose','Temperature_verbose']] = df2[['Viscosity_verbose','Temperature_verbose']].replace(rules)\n",
    "df2['time'] =df2['time']+ df1['time'].max()+1\n",
    "\n",
    "df3 = df3.rename(columns=col_rules)\n",
    "df3[['Viscosity_verbose','Temperature_verbose']] = df3[['Viscosity_verbose','Temperature_verbose']].replace({np.nan:'OK'})\n",
    "df3['time'] =df3['time']+ df2['time'].max()+1\n",
    "\n",
    "df4 = df4.rename(columns=col_rules)\n",
    "df4[['Viscosity_verbose','Temperature_verbose']] = df4[['Viscosity_verbose','Temperature_verbose']].replace({np.nan:'OK'})\n",
    "df4['time'] =df4['time']+ df3['time'].max()+1"
   ]
  },
  {
   "cell_type": "code",
   "execution_count": 39,
   "metadata": {},
   "outputs": [],
   "source": [
    "df = pd.concat([df1,df2,df3,df4])"
   ]
  },
  {
   "cell_type": "code",
   "execution_count": 40,
   "metadata": {},
   "outputs": [
    {
     "data": {
      "text/html": [
       "<div>\n",
       "<style scoped>\n",
       "    .dataframe tbody tr th:only-of-type {\n",
       "        vertical-align: middle;\n",
       "    }\n",
       "\n",
       "    .dataframe tbody tr th {\n",
       "        vertical-align: top;\n",
       "    }\n",
       "\n",
       "    .dataframe thead th {\n",
       "        text-align: right;\n",
       "    }\n",
       "</style>\n",
       "<table border=\"1\" class=\"dataframe\">\n",
       "  <thead>\n",
       "    <tr style=\"text-align: right;\">\n",
       "      <th></th>\n",
       "      <th>time</th>\n",
       "      <th>Viscosity</th>\n",
       "      <th>Viscosity_verbose</th>\n",
       "      <th>Temperature</th>\n",
       "      <th>Temperature_verbose</th>\n",
       "    </tr>\n",
       "  </thead>\n",
       "  <tbody>\n",
       "    <tr>\n",
       "      <th>0</th>\n",
       "      <td>0.0</td>\n",
       "      <td>345.4</td>\n",
       "      <td>processor_sweep</td>\n",
       "      <td>13.8</td>\n",
       "      <td>OK</td>\n",
       "    </tr>\n",
       "    <tr>\n",
       "      <th>1</th>\n",
       "      <td>1.0</td>\n",
       "      <td>344.9</td>\n",
       "      <td>OK</td>\n",
       "      <td>13.8</td>\n",
       "      <td>OK</td>\n",
       "    </tr>\n",
       "    <tr>\n",
       "      <th>2</th>\n",
       "      <td>2.0</td>\n",
       "      <td>344.9</td>\n",
       "      <td>OK</td>\n",
       "      <td>13.8</td>\n",
       "      <td>OK</td>\n",
       "    </tr>\n",
       "    <tr>\n",
       "      <th>3</th>\n",
       "      <td>3.0</td>\n",
       "      <td>344.9</td>\n",
       "      <td>OK</td>\n",
       "      <td>13.8</td>\n",
       "      <td>OK</td>\n",
       "    </tr>\n",
       "    <tr>\n",
       "      <th>4</th>\n",
       "      <td>4.0</td>\n",
       "      <td>345.4</td>\n",
       "      <td>processor_sweep</td>\n",
       "      <td>13.8</td>\n",
       "      <td>OK</td>\n",
       "    </tr>\n",
       "    <tr>\n",
       "      <th>...</th>\n",
       "      <td>...</td>\n",
       "      <td>...</td>\n",
       "      <td>...</td>\n",
       "      <td>...</td>\n",
       "      <td>...</td>\n",
       "    </tr>\n",
       "    <tr>\n",
       "      <th>5935</th>\n",
       "      <td>19333.0</td>\n",
       "      <td>45.7</td>\n",
       "      <td>OK</td>\n",
       "      <td>40.5</td>\n",
       "      <td>OK</td>\n",
       "    </tr>\n",
       "    <tr>\n",
       "      <th>5936</th>\n",
       "      <td>19334.0</td>\n",
       "      <td>46.0</td>\n",
       "      <td>OK</td>\n",
       "      <td>40.5</td>\n",
       "      <td>OK</td>\n",
       "    </tr>\n",
       "    <tr>\n",
       "      <th>5937</th>\n",
       "      <td>19335.0</td>\n",
       "      <td>45.6</td>\n",
       "      <td>OK</td>\n",
       "      <td>40.5</td>\n",
       "      <td>processor_sweep</td>\n",
       "    </tr>\n",
       "    <tr>\n",
       "      <th>5938</th>\n",
       "      <td>19336.0</td>\n",
       "      <td>45.7</td>\n",
       "      <td>OK</td>\n",
       "      <td>40.5</td>\n",
       "      <td>OK</td>\n",
       "    </tr>\n",
       "    <tr>\n",
       "      <th>5939</th>\n",
       "      <td>19337.0</td>\n",
       "      <td>46.0</td>\n",
       "      <td>OK</td>\n",
       "      <td>40.5</td>\n",
       "      <td>OK</td>\n",
       "    </tr>\n",
       "  </tbody>\n",
       "</table>\n",
       "<p>19338 rows × 5 columns</p>\n",
       "</div>"
      ],
      "text/plain": [
       "         time  Viscosity Viscosity_verbose  Temperature Temperature_verbose\n",
       "0         0.0      345.4   processor_sweep         13.8                  OK\n",
       "1         1.0      344.9                OK         13.8                  OK\n",
       "2         2.0      344.9                OK         13.8                  OK\n",
       "3         3.0      344.9                OK         13.8                  OK\n",
       "4         4.0      345.4   processor_sweep         13.8                  OK\n",
       "...       ...        ...               ...          ...                 ...\n",
       "5935  19333.0       45.7                OK         40.5                  OK\n",
       "5936  19334.0       46.0                OK         40.5                  OK\n",
       "5937  19335.0       45.6                OK         40.5     processor_sweep\n",
       "5938  19336.0       45.7                OK         40.5                  OK\n",
       "5939  19337.0       46.0                OK         40.5                  OK\n",
       "\n",
       "[19338 rows x 5 columns]"
      ]
     },
     "execution_count": 40,
     "metadata": {},
     "output_type": "execute_result"
    }
   ],
   "source": [
    "df"
   ]
  },
  {
   "cell_type": "code",
   "execution_count": 10,
   "metadata": {},
   "outputs": [],
   "source": [
    "import plotly \n",
    "import plotly.graph_objects as go\n",
    "import matplotlib.pyplot as plt"
   ]
  },
  {
   "cell_type": "code",
   "execution_count": 11,
   "metadata": {},
   "outputs": [],
   "source": [
    "%matplotlib qt"
   ]
  },
  {
   "cell_type": "code",
   "execution_count": 49,
   "metadata": {},
   "outputs": [
    {
     "data": {
      "text/plain": [
       "(13.5, 40.5)"
      ]
     },
     "execution_count": 49,
     "metadata": {},
     "output_type": "execute_result"
    }
   ],
   "source": [
    "fig,ax_v =plt.subplots()\n",
    "ax_v.scatter(df['time'],df['Viscosity'],color='red')\n",
    "ax_v.set_ylabel('Viscosity',color='red')\n",
    "# ax_v.tick_params(axix='y',labelcolor='red')\n",
    "ax_v.set_ylim((0,350))\n",
    "\n",
    "ax_T = ax_v.twinx()\n",
    "ax_T.scatter(df['time'],df['Temperature'],color='blue')\n",
    "ax_T.set_ylabel('Temperature',color='blue')\n",
    "ax_T.set_ylim((13.5,40.5))"
   ]
  },
  {
   "cell_type": "code",
   "execution_count": null,
   "metadata": {},
   "outputs": [],
   "source": []
  }
 ],
 "metadata": {
  "kernelspec": {
   "display_name": "Python 3.10.0 ('zChemistry_env': venv)",
   "language": "python",
   "name": "python3"
  },
  "language_info": {
   "codemirror_mode": {
    "name": "ipython",
    "version": 3
   },
   "file_extension": ".py",
   "mimetype": "text/x-python",
   "name": "python",
   "nbconvert_exporter": "python",
   "pygments_lexer": "ipython3",
   "version": "3.10.0"
  },
  "orig_nbformat": 4,
  "vscode": {
   "interpreter": {
    "hash": "65e3ff7ea178c0cc827c55669acecc2d3bcf4faf0bb1a0873412f31fa3e54b71"
   }
  }
 },
 "nbformat": 4,
 "nbformat_minor": 2
}

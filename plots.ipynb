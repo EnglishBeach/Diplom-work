{
 "cells": [
  {
   "cell_type": "code",
   "execution_count": 3,
   "metadata": {},
   "outputs": [],
   "source": [
    "import os\n",
    "import pandas as pd\n",
    "import numpy as np\n",
    "import matplotlib.pyplot as plt\n",
    "import plotly \n",
    "import plotly.graph_objects as go\n",
    "import plotly.express as px\n",
    "%matplotlib qt\n",
    "pd.set_option('mode.chained_assignment', None)"
   ]
  },
  {
   "cell_type": "markdown",
   "metadata": {},
   "source": [
    "# Load raw and save ready data"
   ]
  },
  {
   "cell_type": "code",
   "execution_count": 1,
   "metadata": {},
   "outputs": [
    {
     "name": "stdout",
     "output_type": "stream",
     "text": [
      "    Folder:\n",
      "Experiments\\MultiplyTemperature\\Exp1(2.5)\n",
      "    Data name:\n",
      " Exp1_up.csv\n"
     ]
    }
   ],
   "source": [
    "path = f'Experiments\\MultiplyTemperature\\Exp1(2.5)\\Exp1_up.csv'\n",
    "_path_list = (path).split('\\\\')\n",
    "folder_path = '\\\\'.join(_path_list[:-1])\n",
    "data_name = _path_list[-1]\n",
    "print(f'    Folder:\\n{folder_path}\\n    Data name:\\n {data_name}')\n",
    "assert os.path.isfile(path), 'Data not exists'"
   ]
  },
  {
   "cell_type": "code",
   "execution_count": 6,
   "metadata": {},
   "outputs": [],
   "source": [
    "df1 = pd.read_csv(path,index_col=0)\n",
    "# df2 = pd.read_csv(f'{path}/Exp0_up2.csv',index_col=0)\n",
    "# df3 = pd.read_csv(f'{path}/Exp0_up3.csv',index_col=0)\n",
    "# df4 = pd.read_csv(f'{path}/Exp0_up4.csv',index_col=0)"
   ]
  },
  {
   "cell_type": "code",
   "execution_count": 7,
   "metadata": {},
   "outputs": [
    {
     "data": {
      "text/plain": [
       "array(['OK', 'inner_processor_check', 'processor_sweep', 'value_combine',\n",
       "       'error'], dtype=object)"
      ]
     },
     "execution_count": 7,
     "metadata": {},
     "output_type": "execute_result"
    }
   ],
   "source": [
    "df1['Viscosity_verbose'].unique()"
   ]
  },
  {
   "cell_type": "code",
   "execution_count": 8,
   "metadata": {},
   "outputs": [
    {
     "data": {
      "text/html": [
       "<div>\n",
       "<style scoped>\n",
       "    .dataframe tbody tr th:only-of-type {\n",
       "        vertical-align: middle;\n",
       "    }\n",
       "\n",
       "    .dataframe tbody tr th {\n",
       "        vertical-align: top;\n",
       "    }\n",
       "\n",
       "    .dataframe thead th {\n",
       "        text-align: right;\n",
       "    }\n",
       "</style>\n",
       "<table border=\"1\" class=\"dataframe\">\n",
       "  <thead>\n",
       "    <tr style=\"text-align: right;\">\n",
       "      <th></th>\n",
       "      <th>time</th>\n",
       "      <th>Viscosity</th>\n",
       "      <th>Viscosity_verbose</th>\n",
       "      <th>Temperature</th>\n",
       "      <th>Temperature_verbose</th>\n",
       "    </tr>\n",
       "  </thead>\n",
       "  <tbody>\n",
       "    <tr>\n",
       "      <th>0</th>\n",
       "      <td>0.0</td>\n",
       "      <td>222.6</td>\n",
       "      <td>OK</td>\n",
       "      <td>15.1</td>\n",
       "      <td>OK_inner</td>\n",
       "    </tr>\n",
       "    <tr>\n",
       "      <th>1</th>\n",
       "      <td>1.0</td>\n",
       "      <td>222.6</td>\n",
       "      <td>OK</td>\n",
       "      <td>15.4</td>\n",
       "      <td>image_sweep_check</td>\n",
       "    </tr>\n",
       "    <tr>\n",
       "      <th>2</th>\n",
       "      <td>2.0</td>\n",
       "      <td>222.3</td>\n",
       "      <td>OK</td>\n",
       "      <td>15.4</td>\n",
       "      <td>image_sweep_check</td>\n",
       "    </tr>\n",
       "    <tr>\n",
       "      <th>3</th>\n",
       "      <td>3.0</td>\n",
       "      <td>221.4</td>\n",
       "      <td>OK</td>\n",
       "      <td>15.0</td>\n",
       "      <td>OK_inner</td>\n",
       "    </tr>\n",
       "    <tr>\n",
       "      <th>4</th>\n",
       "      <td>4.0</td>\n",
       "      <td>219.9</td>\n",
       "      <td>OK_inner</td>\n",
       "      <td>15.5</td>\n",
       "      <td>OK_inner</td>\n",
       "    </tr>\n",
       "    <tr>\n",
       "      <th>...</th>\n",
       "      <td>...</td>\n",
       "      <td>...</td>\n",
       "      <td>...</td>\n",
       "      <td>...</td>\n",
       "      <td>...</td>\n",
       "    </tr>\n",
       "    <tr>\n",
       "      <th>4564</th>\n",
       "      <td>4564.0</td>\n",
       "      <td>35.5</td>\n",
       "      <td>OK_inner</td>\n",
       "      <td>40.2</td>\n",
       "      <td>OK</td>\n",
       "    </tr>\n",
       "    <tr>\n",
       "      <th>4565</th>\n",
       "      <td>4565.0</td>\n",
       "      <td>35.6</td>\n",
       "      <td>OK_inner</td>\n",
       "      <td>40.2</td>\n",
       "      <td>OK</td>\n",
       "    </tr>\n",
       "    <tr>\n",
       "      <th>4566</th>\n",
       "      <td>4566.0</td>\n",
       "      <td>35.6</td>\n",
       "      <td>OK_inner</td>\n",
       "      <td>40.2</td>\n",
       "      <td>OK</td>\n",
       "    </tr>\n",
       "    <tr>\n",
       "      <th>4567</th>\n",
       "      <td>4567.0</td>\n",
       "      <td>35.5</td>\n",
       "      <td>combine_check</td>\n",
       "      <td>40.2</td>\n",
       "      <td>OK</td>\n",
       "    </tr>\n",
       "    <tr>\n",
       "      <th>4568</th>\n",
       "      <td>4568.0</td>\n",
       "      <td>35.5</td>\n",
       "      <td>combine_check</td>\n",
       "      <td>40.2</td>\n",
       "      <td>OK</td>\n",
       "    </tr>\n",
       "  </tbody>\n",
       "</table>\n",
       "<p>4557 rows × 5 columns</p>\n",
       "</div>"
      ],
      "text/plain": [
       "        time  Viscosity Viscosity_verbose  Temperature Temperature_verbose\n",
       "0        0.0      222.6                OK         15.1            OK_inner\n",
       "1        1.0      222.6                OK         15.4   image_sweep_check\n",
       "2        2.0      222.3                OK         15.4   image_sweep_check\n",
       "3        3.0      221.4                OK         15.0            OK_inner\n",
       "4        4.0      219.9          OK_inner         15.5            OK_inner\n",
       "...      ...        ...               ...          ...                 ...\n",
       "4564  4564.0       35.5          OK_inner         40.2                  OK\n",
       "4565  4565.0       35.6          OK_inner         40.2                  OK\n",
       "4566  4566.0       35.6          OK_inner         40.2                  OK\n",
       "4567  4567.0       35.5     combine_check         40.2                  OK\n",
       "4568  4568.0       35.5     combine_check         40.2                  OK\n",
       "\n",
       "[4557 rows x 5 columns]"
      ]
     },
     "execution_count": 8,
     "metadata": {},
     "output_type": "execute_result"
    }
   ],
   "source": [
    "rules = {\n",
    "    'processor_sweep':'image_sweep_check',\n",
    "    'value_combine': 'combine_check',\n",
    "    'inner_processor_check':'OK_inner'\n",
    "}\n",
    "col_rules = {\n",
    "    'Viscosity_mark': 'Viscosity_verbose',\n",
    "    'Temperature_mark': 'Temperature_verbose',\n",
    "}\n",
    "\n",
    "df1 = df1.rename(columns=col_rules)\n",
    "df1[['Viscosity_verbose','Temperature_verbose']] =\\\n",
    "    df1[['Viscosity_verbose','Temperature_verbose']].replace(rules)\n",
    "\n",
    "# df2 = df2.rename(columns=col_rules)\n",
    "# df2[['Viscosity_verbose','Temperature_verbose']] = df2[['Viscosity_verbose','Temperature_verbose']].replace(rules)\n",
    "# df2['time'] =df2['time']+ df1['time'].max()+1\n",
    "\n",
    "# df3 = df3.rename(columns=col_rules)\n",
    "# df3[['Viscosity_verbose','Temperature_verbose']] = df3[['Viscosity_verbose','Temperature_verbose']].replace({np.nan:'OK'})\n",
    "# df3['time'] =df3['time']+ df2['time'].max()+1\n",
    "\n",
    "# df4 = df4.rename(columns=col_rules)\n",
    "# df4[['Viscosity_verbose','Temperature_verbose']] = df4[['Viscosity_verbose','Temperature_verbose']].replace({np.nan:'OK'})\n",
    "# df4['time'] =df4['time']+ df3['time'].max()+1\n",
    "# df = pd.concat([df1,df2,df3,df4])\n",
    "\n",
    "df = df1.dropna(subset=['Viscosity', 'Temperature'])\n",
    "df"
   ]
  },
  {
   "cell_type": "code",
   "execution_count": 9,
   "metadata": {},
   "outputs": [
    {
     "data": {
      "text/plain": [
       "False"
      ]
     },
     "execution_count": 9,
     "metadata": {},
     "output_type": "execute_result"
    }
   ],
   "source": [
    "np.any(df['time'].duplicated())"
   ]
  },
  {
   "cell_type": "code",
   "execution_count": 17,
   "metadata": {},
   "outputs": [],
   "source": [
    "ready_data_name = f'AData_{data_name}'\n",
    "\n",
    "\n",
    "assert not os.path.isfile(f'{folder_path}\\{ready_data_name}'), 'Data already exists'\n",
    "df.to_csv(f'{folder_path}\\{ready_data_name}',index=0)"
   ]
  },
  {
   "cell_type": "markdown",
   "metadata": {},
   "source": [
    "# Load"
   ]
  },
  {
   "cell_type": "code",
   "execution_count": null,
   "metadata": {},
   "outputs": [],
   "source": [
    "data_path=''\n",
    "while (data_path == '') or (not os.path.isfile(data_path)):\n",
    "    data_path = input(f\"Input data path: \")\n",
    "df = pd.read_csv(data_path)\n",
    "df"
   ]
  },
  {
   "cell_type": "code",
   "execution_count": null,
   "metadata": {},
   "outputs": [],
   "source": [
    "temperature_cond = ((13 < df['Temperature']) & (df['Temperature'] < 45))\n",
    "viscosity_cond = ((40 < df['Viscosity']) & (df['Viscosity'] < 350))\n",
    "\n",
    "dfs = df[temperature_cond & viscosity_cond]"
   ]
  },
  {
   "cell_type": "code",
   "execution_count": null,
   "metadata": {},
   "outputs": [],
   "source": [
    "dfs_median = dfs[['Temperature','Viscosity']].groupby(by='Temperature').median()"
   ]
  },
  {
   "cell_type": "code",
   "execution_count": null,
   "metadata": {},
   "outputs": [],
   "source": [
    "# plot_rules = {'processor_sweep':2, 'OK':0, 'error':4, 'value_combine':3,\n",
    "#        'inner_processor_check':1}\n",
    "# df[['Viscosity_verbose','Temperature_verbose']] = df[['Viscosity_verbose','Temperature_verbose']].replace(plot_rules)\n",
    "# dfs['time'] = dfs['time'] / 60\n"
   ]
  },
  {
   "cell_type": "code",
   "execution_count": null,
   "metadata": {},
   "outputs": [],
   "source": [
    "# T_goupT= dfs.groupby(by='Temperature')['Temperature']\n",
    "# T_groupV=dfs.groupby(by='Temperature')['Viscosity']\n",
    "# def foo(g):\n",
    "#     whisker_width=0\n",
    "#     q1 = g.quantile(0.45)                \n",
    "#     q3 = g.quantile(0.55)\n",
    "#     iqr = q3 - q1\n",
    "#     return (g >= q1 - whisker_width*iqr) & (g <= q3 + whisker_width*iqr)\n",
    "#     # return np.abs((g - g.median()) / iqr) < 2.22\n",
    "#     # return np.abs((g - g.mean()) / g.std(ddof=0)) < 1\n",
    "\n",
    "# error_mask= T_groupV.apply(foo ).droplevel([0]).reset_index(drop=True).to_numpy()\n",
    "\n",
    "# dfs = dfs[error_mask]\n",
    "\n",
    "\n",
    "# # T_goupT2= dfs2.groupby(by='Temperature')['Temperature']\n",
    "# # T_groupV2=dfs2.groupby(by='Temperature')['Viscosity']\n",
    "# # dfs2\n",
    "# dfs"
   ]
  },
  {
   "cell_type": "markdown",
   "metadata": {},
   "source": [
    "# Plots"
   ]
  },
  {
   "cell_type": "markdown",
   "metadata": {},
   "source": [
    "## Time plots"
   ]
  },
  {
   "cell_type": "code",
   "execution_count": null,
   "metadata": {},
   "outputs": [],
   "source": [
    "fig,ax_v =plt.subplots()\n",
    "ax_T = ax_v.twinx()\n",
    "\n",
    "ax_v.scatter(dfs['time'],dfs['Viscosity'],color='red',marker='.')\n",
    "ax_v.set_ylabel('Viscosity',color='red')\n",
    "\n",
    "ax_T.scatter(dfs['time'],dfs['Temperature'],color='blue',marker='.')\n",
    "ax_T.set_ylabel('Temperature',color='blue')\n",
    "\n",
    "\n",
    "# df_masked = dfs[(dfs['Temperature_verbose']>=3) | (dfs ['Viscosity_verbose']>=3)]\n",
    "# ax_v.scatter(df_masked['time'],df_masked['Viscosity'],color='black',marker='s')\n",
    "# ax_T.scatter(df_masked['time'],df_masked['Temperature'],color='gray',marker='o')"
   ]
  },
  {
   "cell_type": "markdown",
   "metadata": {},
   "source": [
    "## Temterature plots"
   ]
  },
  {
   "cell_type": "code",
   "execution_count": null,
   "metadata": {},
   "outputs": [],
   "source": [
    "fig = go.Figure()\n",
    "fig = px.box(\n",
    "    dfs,\n",
    "    x=\"Temperature\",\n",
    "    y=\"Viscosity\",\n",
    "    color='Viscosity_verbose',\n",
    ")\n",
    "\n",
    "fig.add_traces([\n",
    "    go.Scatter(name='Median',\n",
    "               x=dfs_median.index,\n",
    "               y=dfs_median['Viscosity'],\n",
    "               mode='lines'),\n",
    "    # go.Scatter(name='Mean', x=T_goupT.max(), y=T_groupV.mean(), mode='lines'),\n",
    "    # go.Scatter(\n",
    "    #     name='Errors',\n",
    "    #     x=T_goupT2.max(),\n",
    "    #     y=T_groupV2.mean(),\n",
    "    #     mode='markers',\n",
    "    # ),\n",
    "])\n",
    "fig.update_layout(xaxis=dict(range=(13.5, 40.5)),\n",
    "                  yaxis=dict(range=(0, 350)),\n",
    "                  margin=dict(l=10, r=10, b=10, t=10, pad=0))\n",
    "fig.show()"
   ]
  }
 ],
 "metadata": {
  "kernelspec": {
   "display_name": "Python 3.10.0 ('zChemistry_env': venv)",
   "language": "python",
   "name": "python3"
  },
  "language_info": {
   "codemirror_mode": {
    "name": "ipython",
    "version": 3
   },
   "file_extension": ".py",
   "mimetype": "text/x-python",
   "name": "python",
   "nbconvert_exporter": "python",
   "pygments_lexer": "ipython3",
   "version": "3.10.0"
  },
  "orig_nbformat": 4,
  "vscode": {
   "interpreter": {
    "hash": "65e3ff7ea178c0cc827c55669acecc2d3bcf4faf0bb1a0873412f31fa3e54b71"
   }
  }
 },
 "nbformat": 4,
 "nbformat_minor": 2
}

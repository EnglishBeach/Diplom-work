{
 "cells": [
  {
   "cell_type": "code",
   "execution_count": 1,
   "metadata": {},
   "outputs": [],
   "source": [
    "import pandas as pd\n",
    "import numpy as np"
   ]
  },
  {
   "cell_type": "code",
   "execution_count": 104,
   "metadata": {},
   "outputs": [],
   "source": [
    "path = r'Experiments/MultiplyTemperature/Exp0(0)/Data'\n",
    "df1 = pd.read_csv(f'{path}/1.csv',index_col=0)\n",
    "df2 = pd.read_csv(f'{path}/2.csv',index_col=0)\n",
    "df3 = pd.read_csv(f'{path}/3.csv',index_col=0)\n",
    "df4 = pd.read_csv(f'{path}/4.csv',index_col=0)"
   ]
  },
  {
   "cell_type": "code",
   "execution_count": 105,
   "metadata": {},
   "outputs": [],
   "source": [
    "rules= {0:'OK',1:'processor_sweep',2:'value_combine',3:'error'}\n",
    "col_rules={'Viscosity_mark':'Viscosity_verbose','Temperature_mark':'Temperature_verbose'} "
   ]
  },
  {
   "cell_type": "code",
   "execution_count": 106,
   "metadata": {},
   "outputs": [],
   "source": [
    "df1 = df1.rename(columns=col_rules)\n",
    "df1[['Viscosity_verbose','Temperature_verbose']] = df1[['Viscosity_verbose','Temperature_verbose']].replace(rules)\n",
    "\n",
    "df2 = df2.rename(columns=col_rules)\n",
    "df2[['Viscosity_verbose','Temperature_verbose']] = df2[['Viscosity_verbose','Temperature_verbose']].replace(rules)\n",
    "df2['time'] =df2['time']+ df1['time'].max()+1\n",
    "\n",
    "df3 = df3.rename(columns=col_rules)\n",
    "df3[['Viscosity_verbose','Temperature_verbose']] = df3[['Viscosity_verbose','Temperature_verbose']].replace({np.nan:'OK'})\n",
    "df3['time'] =df3['time']+ df2['time'].max()+1\n",
    "\n",
    "df4 = df4.rename(columns=col_rules)\n",
    "df4[['Viscosity_verbose','Temperature_verbose']] = df4[['Viscosity_verbose','Temperature_verbose']].replace({np.nan:'OK'})\n",
    "df4['time'] =df4['time']+ df3['time'].max()+1"
   ]
  },
  {
   "cell_type": "code",
   "execution_count": 107,
   "metadata": {},
   "outputs": [],
   "source": [
    "df = pd.concat([df1,df2,df3,df4])"
   ]
  },
  {
   "cell_type": "markdown",
   "metadata": {},
   "source": [
    "# time plots"
   ]
  },
  {
   "cell_type": "code",
   "execution_count": 10,
   "metadata": {},
   "outputs": [],
   "source": [
    "import plotly \n",
    "import plotly.graph_objects as go\n",
    "import matplotlib.pyplot as plt"
   ]
  },
  {
   "cell_type": "code",
   "execution_count": 11,
   "metadata": {},
   "outputs": [],
   "source": [
    "%matplotlib qt"
   ]
  },
  {
   "cell_type": "code",
   "execution_count": 108,
   "metadata": {},
   "outputs": [],
   "source": [
    "plot_rules = {'processor_sweep':2, 'OK':0, 'error':4, 'value_combine':3,\n",
    "       'inner_processor_check':1}\n",
    "df[['Viscosity_verbose','Temperature_verbose']] = df[['Viscosity_verbose','Temperature_verbose']].replace(plot_rules)\n",
    "df_cleaned= df.dropna(subset=['Viscosity','Temperature'])\n",
    "df['time']=df['time']/60"
   ]
  },
  {
   "cell_type": "code",
   "execution_count": 110,
   "metadata": {},
   "outputs": [
    {
     "data": {
      "text/plain": [
       "(13.5, 40.5)"
      ]
     },
     "execution_count": 110,
     "metadata": {},
     "output_type": "execute_result"
    }
   ],
   "source": [
    "dfs =df_cleaned\n",
    "\n",
    "\n",
    "fig,ax_v =plt.subplots()\n",
    "ax_T = ax_v.twinx()\n",
    "\n",
    "# df_masked = dfs[(dfs['Temperature_verbose']<3) & (dfs ['Viscosity_verbose']<3)]\n",
    "df_masked= dfs\n",
    "\n",
    "ax_v.scatter(df_masked['time'],df_masked['Viscosity'],color='red',marker='.')\n",
    "ax_v.set_ylabel('Viscosity',color='red')\n",
    "ax_v.set_ylim((0,350))\n",
    "\n",
    "\n",
    "ax_T.scatter(df_masked['time'],df_masked['Temperature'],color='blue',marker='.')\n",
    "ax_T.set_ylabel('Temperature',color='blue')\n",
    "ax_T.set_ylim((13.5,40.5))\n",
    "\n",
    "\n",
    "# df_masked = dfs[(dfs['Temperature_verbose']>=3) | (dfs ['Viscosity_verbose']>=3)]\n",
    "# ax_v.scatter(df_masked['time'],df_masked['Viscosity'],color='black',marker='s')\n",
    "# ax_T.scatter(df_masked['time'],df_masked['Temperature'],color='gray',marker='o')"
   ]
  },
  {
   "cell_type": "code",
   "execution_count": null,
   "metadata": {},
   "outputs": [],
   "source": []
  }
 ],
 "metadata": {
  "kernelspec": {
   "display_name": "Python 3.10.0 ('zChemistry_env': venv)",
   "language": "python",
   "name": "python3"
  },
  "language_info": {
   "codemirror_mode": {
    "name": "ipython",
    "version": 3
   },
   "file_extension": ".py",
   "mimetype": "text/x-python",
   "name": "python",
   "nbconvert_exporter": "python",
   "pygments_lexer": "ipython3",
   "version": "3.10.0"
  },
  "orig_nbformat": 4,
  "vscode": {
   "interpreter": {
    "hash": "65e3ff7ea178c0cc827c55669acecc2d3bcf4faf0bb1a0873412f31fa3e54b71"
   }
  }
 },
 "nbformat": 4,
 "nbformat_minor": 2
}

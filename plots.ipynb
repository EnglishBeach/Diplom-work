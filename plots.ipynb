{
 "cells": [
  {
   "cell_type": "code",
   "execution_count": null,
   "metadata": {},
   "outputs": [],
   "source": [
    "import os\n",
    "import pandas as pd\n",
    "import numpy as np\n",
    "import matplotlib.pyplot as plt\n",
    "import plotly \n",
    "import plotly.graph_objects as go\n",
    "import plotly.express as px\n",
    "\n",
    "from sklearn import linear_model\n",
    "%matplotlib qt\n",
    "pd.set_option('mode.chained_assignment', None)"
   ]
  },
  {
   "cell_type": "markdown",
   "metadata": {},
   "source": [
    "# Load raw and save ready data"
   ]
  },
  {
   "cell_type": "code",
   "execution_count": null,
   "metadata": {},
   "outputs": [],
   "source": [
    "# path = f'Experiments\\MultiplyTemperature\\Exp5(12.5)\\Exp5_down.csv'\n",
    "\n",
    "path = ''\n",
    "while (path == '') or (not os.path.isfile(path)):\n",
    "    path = input(f\"Input data path: \")\n",
    "_path_list = (path).split('\\\\')\n",
    "folder_path = '\\\\'.join(_path_list[:-1])\n",
    "data_name = _path_list[-1]\n",
    "print(f'    Folder:\\n{folder_path}\\n    Data name:\\n {data_name}')"
   ]
  },
  {
   "cell_type": "code",
   "execution_count": null,
   "metadata": {},
   "outputs": [],
   "source": [
    "df1 = pd.read_csv('Experiments\\\\MultiplyTemperature\\\\Exp0(0)\\\\Exp0_up1.csv',\n",
    "                  index_col=0)\n",
    "# df2 = pd.read_csv('Experiments\\\\MultiplyTemperature\\\\Exp0(0)\\\\Exp0_up2.csv',index_col=0)\n",
    "# df3 = pd.read_csv('Experiments\\\\MultiplyTemperature\\\\Exp0(0)\\\\Exp0_up3.csv',index_col=0)\n",
    "# df4 = pd.read_csv('Experiments\\\\MultiplyTemperature\\\\Exp0(0)\\\\Exp0_up4.csv',index_col=0)\n"
   ]
  },
  {
   "cell_type": "code",
   "execution_count": null,
   "metadata": {},
   "outputs": [],
   "source": [
    "df1"
   ]
  },
  {
   "cell_type": "code",
   "execution_count": null,
   "metadata": {},
   "outputs": [],
   "source": [
    "rules = {\n",
    "    1: 'image_sweep_check',\n",
    "    2: 'combine_check',  # 'inner_processor_check':'OK_inner'\n",
    "    0: 'OK'\n",
    "}\n",
    "col_rules = {\n",
    "    'Viscosity_mark': 'Viscosity_verbose',\n",
    "    'Temperature_mark': 'Temperature_verbose',\n",
    "}\n",
    "\n",
    "df1 = df1.rename(columns=col_rules)\n",
    "df1[['Viscosity_verbose','Temperature_verbose']] =\\\n",
    "    df1[['Viscosity_verbose','Temperature_verbose']].replace(rules)\n",
    "\n",
    "# df2 = df2.rename(columns=col_rules)\n",
    "# df2[['Viscosity_verbose','Temperature_verbose']] = df2[['Viscosity_verbose','Temperature_verbose']].replace(rules)\n",
    "# df2['time'] =df2['time']+ df1['time'].max()+1\n",
    "\n",
    "# df3 = df3.rename(columns=col_rules)\n",
    "# df3[['Viscosity_verbose','Temperature_verbose']] = df3[['Viscosity_verbose','Temperature_verbose']].replace({np.nan:'OK'})\n",
    "# df3['time'] =df3['time']+ df2['time'].max()+1\n",
    "\n",
    "# df4 = df4.rename(columns=col_rules)\n",
    "# df4[['Viscosity_verbose','Temperature_verbose']] = df4[['Viscosity_verbose','Temperature_verbose']].replace({np.nan:'OK'})\n",
    "# df4['time'] =df4['time']+ df3['time'].max()+1\n",
    "# df = pd.concat([df1,df2,df3,df4])\n",
    "\n",
    "df = df1.dropna(subset=['Viscosity', 'Temperature'])\n",
    "df"
   ]
  },
  {
   "cell_type": "code",
   "execution_count": null,
   "metadata": {},
   "outputs": [],
   "source": [
    "np.any(df['time'].duplicated())"
   ]
  },
  {
   "cell_type": "code",
   "execution_count": null,
   "metadata": {},
   "outputs": [],
   "source": [
    "assert not os.path.isfile(f'{folder_path}\\AData_{data_name}'), 'Data already exists'\n",
    "df.to_csv(f'{folder_path}\\AData_{data_name}', index=0)"
   ]
  },
  {
   "cell_type": "code",
   "execution_count": null,
   "metadata": {},
   "outputs": [],
   "source": [
    "base."
   ]
  },
  {
   "cell_type": "markdown",
   "metadata": {},
   "source": [
    "# Load"
   ]
  },
  {
   "cell_type": "code",
   "execution_count": null,
   "metadata": {},
   "outputs": [],
   "source": [
    "class Data:\n",
    "\n",
    "    data: pd.DataFrame = None\n",
    "\n",
    "    def __init__(self, data=None,name='python data'):\n",
    "        self.data = data\n",
    "        self.name= name\n",
    "        self.desc=f'loaded from python'\n",
    "\n",
    "    def load(self, path=''):\n",
    "        while (path == '') or (not os.path.isfile(path)):\n",
    "            path = input(f\"Input data path: \")\n",
    "        _path_list = (path).split('\\\\')\n",
    "        self.folder = '\\\\'.join(_path_list[:-1])\n",
    "        self.name = _path_list[-1]\n",
    "        print(f'Loaded: {self.name}')\n",
    "        self._raw_data = pd.read_csv(path)\n",
    "        self.desc=f'loaded from: {path}'\n",
    "\n",
    "    def build_data(self,\n",
    "                   time_in_minutes=False,\n",
    "                   temperature=(13, 45),\n",
    "                   viscosity=(0, 400),\n",
    "                   time=(0, np.inf)):\n",
    "        self.conditions = dict(temperature=temperature,\n",
    "                               viscosity=viscosity,\n",
    "                               time=time)\n",
    "\n",
    "        temperature_cond = ((temperature[0] < self._raw_data['Temperature']) &\n",
    "                            (self._raw_data['Temperature'] < temperature[1]))\n",
    "        viscosity_cond = ((viscosity[0] < self._raw_data['Viscosity']) &\n",
    "                          (self._raw_data['Viscosity'] < viscosity[1]))\n",
    "        time_cond = ((time[0] < self._raw_data['time']) &\n",
    "                     (self._raw_data['time'] < time[1]))\n",
    "\n",
    "        self.data = self._raw_data[temperature_cond & viscosity_cond\n",
    "                                   & time_cond]\n",
    "        if time_in_minutes: self.data['time'] / 60\n",
    "        return self.data\n",
    "\n",
    "    def temp_plot(self,\n",
    "                  name,\n",
    "                  y2_axix=False,\n",
    "                  symbol='circle',\n",
    "                  colors=plotly.colors.qualitative.Plotly):\n",
    "        verboses = self.data[f'{name}_verbose'].unique()\n",
    "        rules = zip(\n",
    "            verboses,\n",
    "            [round(i) for i in np.linspace(0, len(colors) - 1, len(verboses))],\n",
    "        )\n",
    "        colors_rule = {key: colors[color] for key, color in rules}\n",
    "\n",
    "        scatter = go.Scatter(\n",
    "            x=self.data['time'],\n",
    "            y=self.data[name],\n",
    "            name=name,\n",
    "            mode='markers',\n",
    "            yaxis='y2' if y2_axix else 'y',\n",
    "            text=self.data[f'{name}_verbose'],\n",
    "            hovertemplate='%{y}<br>%{text}',\n",
    "            marker=dict(\n",
    "                size=5,\n",
    "                symbol=symbol,\n",
    "                color=self.data[f'{name}_verbose'].replace(colors_rule),\n",
    "            ),\n",
    "        )\n",
    "        return scatter\n",
    "\n",
    "    @property\n",
    "    def groupT(self):\n",
    "        return self.data[['Temperature', 'Viscosity']].groupby(by='Temperature')\n",
    "\n",
    "    @property\n",
    "    def groupV(self):\n",
    "        return self.data[['Temperature', 'Viscosity']].groupby(by='Viscosity')\n"
   ]
  },
  {
   "cell_type": "code",
   "execution_count": null,
   "metadata": {},
   "outputs": [],
   "source": [
    "base = Data()\n",
    "base.load('Experiments\\MultiplyTemperature\\Exp4(10)\\AData_Exp4_up.csv')\n",
    "base.build_data(time=(172,np.inf),viscosity=(20,83))"
   ]
  },
  {
   "cell_type": "markdown",
   "metadata": {},
   "source": [
    "# Time plots"
   ]
  },
  {
   "cell_type": "code",
   "execution_count": null,
   "metadata": {},
   "outputs": [],
   "source": [
    "df =base.data\n",
    "# df = test_data\n",
    "\n",
    "fig, ax_v = plt.subplots()\n",
    "ax_T = ax_v.twinx()\n",
    "\n",
    "ax_v.scatter(df['time'], df['Viscosity'], color='red', marker='.')\n",
    "ax_v.set_ylabel('Viscosity', color='red')\n",
    "\n",
    "ax_T.scatter(df['time'], df['Temperature'], color='blue', marker='.')\n",
    "ax_T.set_ylabel('Temperature', color='blue')\n"
   ]
  },
  {
   "cell_type": "code",
   "execution_count": null,
   "metadata": {},
   "outputs": [],
   "source": [
    "fig = go.Figure()\n",
    "fig.add_traces([\n",
    "    base.temp_plot('Viscosity', colors=plotly.colors.sequential.Aggrnyl),\n",
    "    base.temp_plot('Temperature',\n",
    "                        y2_axix=True,\n",
    "                        symbol='star',\n",
    "                        colors=plotly.colors.sequential.Sunsetdark_r)\n",
    "])\n",
    "fig.update_layout(\n",
    "    hovermode=\"x unified\",\n",
    "    margin=dict(l=0, r=0, b=0, t=0, pad=0),\n",
    "    yaxis2=dict(\n",
    "        overlaying='y',\n",
    "        side='right',  # range=[15, 20],\n",
    "    ),  # xaxis=dict(range=[0, 500], ),\n",
    ")\n",
    "fig.show()"
   ]
  },
  {
   "cell_type": "markdown",
   "metadata": {},
   "source": [
    "# Temterature plots"
   ]
  },
  {
   "cell_type": "code",
   "execution_count": null,
   "metadata": {},
   "outputs": [],
   "source": [
    "base_plot = base\n",
    "fig = go.Figure()\n",
    "fig = px.scatter(\n",
    "    base_plot.data,\n",
    "    x=\"Temperature\",\n",
    "    y=\"Viscosity\",\n",
    "    color='Viscosity_verbose',\n",
    ")\n",
    "\n",
    "## test plots\n",
    "fig.add_trace(\n",
    "    go.Scatter(name='Test',\n",
    "               x=test_data.data['Temperature'],\n",
    "               y=test_data.data['Viscosity'],\n",
    "               mode='markers',\n",
    "               line=dict(color='green'),\n",
    "               marker=dict(size=10)),\n",
    "    \n",
    ")\n",
    "## Mean and median\n",
    "fig.add_traces([\n",
    "    go.Scatter(name='Median',\n",
    "               x=base_plot.groupT.median().index,\n",
    "               y=base_plot.groupT.median()['Viscosity'],\n",
    "               mode='lines',\n",
    "               line=dict(color='black')),\n",
    "    go.Scatter(name='Mean',\n",
    "               x=base_plot.groupT.mean().index,\n",
    "               y=base_plot.groupT.mean()['Viscosity'],\n",
    "               mode='lines',\n",
    "               line=dict(color='red')),\n",
    "])\n",
    "\n",
    "## Comparation\n",
    "# comp_plot = \n",
    "# fig.add_traces([\n",
    "#     go.Scatter(name='Median2',\n",
    "#                 x=dfs_median.index,\n",
    "#                 y=dfs_median2['Viscosity'],\n",
    "#                 mode='lines',\n",
    "#                 line=dict(color='black', width=2, dash='dot')),\n",
    "#     go.Scatter(name='Mean2',\n",
    "#                 x=dfs_mean2.index,\n",
    "#                 y=dfs_mean2['Viscosity'],\n",
    "#                 mode='lines',\n",
    "#                 line=dict(color='red', width=2, dash='dot')),\n",
    "# ])\n",
    "\n",
    "##Regression\n",
    "# x = np.array(dfs_median.index)\n",
    "# y = nu0 * np.exp(EkJ * 1000 / 8.314 / (x+273.15))\n",
    "# fig.add_trace(go.Scatter(name='Regression', x=x, y=y, mode='lines'))\n",
    "\n",
    "fig.update_layout(hovermode=\"x unified\", margin=dict(l=0, r=0, b=0, t=0, pad=0))\n",
    "fig.show()"
   ]
  },
  {
   "cell_type": "markdown",
   "metadata": {},
   "source": [
    "# Filtration"
   ]
  },
  {
   "cell_type": "code",
   "execution_count": null,
   "metadata": {},
   "outputs": [],
   "source": [
    "# T_goupT= dfs.groupby(by='Temperature')['Temperature']\n",
    "# T_groupV=dfs.groupby(by='Temperature')['Viscosity']\n",
    "# def foo(g):\n",
    "#     whisker_width=0\n",
    "#     q1 = g.quantile(0.45)\n",
    "#     q3 = g.quantile(0.55)\n",
    "#     iqr = q3 - q1\n",
    "#     return (g >= q1 - whisker_width*iqr) & (g <= q3 + whisker_width*iqr)\n",
    "#     # return np.abs((g - g.median()) / iqr) < 2.22\n",
    "#     # return np.abs((g - g.mean()) / g.std(ddof=0)) < 1\n",
    "\n",
    "# error_mask= T_groupV.apply(foo ).droplevel([0]).reset_index(drop=True).to_numpy()\n",
    "\n",
    "# dfs = dfs[error_mask]\n",
    "\n",
    "# # T_goupT2= dfs2.groupby(by='Temperature')['Temperature']\n",
    "# # T_groupV2=dfs2.groupby(by='Temperature')['Viscosity']\n",
    "# # dfs2\n",
    "# dfs"
   ]
  },
  {
   "cell_type": "code",
   "execution_count": null,
   "metadata": {},
   "outputs": [],
   "source": [
    "def z_filter(data: pd.Series):\n",
    "    mean = data.mean()\n",
    "    s = data.std(ddof=0)+1e-50\n",
    "    z_score= np.abs((data-mean) / s) <3\n",
    "    return z_score\n",
    "\n",
    "def iqr_filter(data: pd.Series):\n",
    "    whisker_width=0.5\n",
    "    q1 = data.quantile(0.25)\n",
    "    q3 = data.quantile(0.75)\n",
    "    iqr = q3 - q1\n",
    "    return (data >= q1 - whisker_width*iqr) & (data <= q3 + whisker_width*iqr)\n",
    "\n",
    "filter_func =  iqr_filter \n",
    "\n",
    "T_group= base.groupT['Viscosity']\n",
    "test_data = Data(base.data[T_group.apply(filter_func).droplevel([0]).reset_index(drop=True).to_numpy()])"
   ]
  },
  {
   "cell_type": "markdown",
   "metadata": {},
   "source": [
    "## OLS"
   ]
  },
  {
   "cell_type": "code",
   "execution_count": null,
   "metadata": {},
   "outputs": [],
   "source": [
    "   # def get_values(self):\n",
    "    #     y_lnD = np.log(nu)\n",
    "    #     x_T = 1 / (T+273.15)\n",
    "\n",
    "    #     nu0 = np.exp(w0)\n",
    "    #     EkJ = 8.314 * w / 1000\n",
    "\n",
    "    # go.Scatter(\n",
    "    # x=self.data['time'],\n",
    "    # y=self.data['Viscosity'],\n",
    "    # name='Viscosity',\n",
    "    # mode='markers',\n",
    "    # marker=dict(size=5,\n",
    "    #             color=self.data['Viscosity_verbose'].replace(colors_dict)))\n",
    "    # go.Scatter(\n",
    "    #     x=self.data['time'],\n",
    "    #     y=self.data['Temperature'],\n",
    "    #     name='Temperature',\n",
    "    #     yaxis='y2',\n",
    "    #     mode='markers',\n",
    "    #     marker=dict(size=5,\n",
    "    #                 symbol='square',\n",
    "    #                 color=self.data['Temperature_verbose'].replace(colors_dict)),\n",
    "    # )\n"
   ]
  },
  {
   "cell_type": "code",
   "execution_count": null,
   "metadata": {},
   "outputs": [],
   "source": [
    "dfp = dfs_median\n",
    "dfp"
   ]
  },
  {
   "cell_type": "code",
   "execution_count": null,
   "metadata": {},
   "outputs": [],
   "source": [
    "T = np.array(dfp.index)\n",
    "nu = np.array(dfp['Viscosity'])"
   ]
  },
  {
   "cell_type": "code",
   "execution_count": null,
   "metadata": {},
   "outputs": [],
   "source": [
    "y_lnD = np.log(nu)\n",
    "x_T = 1 / (T+273.15)\n",
    "\n",
    "\n",
    "\n",
    "nu0 = np.exp(w0)\n",
    "EkJ = 8.314 * w / 1000\n",
    "\n",
    "\n",
    "X = np.array([x_T]).T\n",
    "Y = y_lnD"
   ]
  },
  {
   "cell_type": "code",
   "execution_count": null,
   "metadata": {},
   "outputs": [],
   "source": [
    "reg = linear_model.LinearRegression(fit_intercept=True)\n",
    "reg.fit(X, Y)\n",
    "w = reg.coef_[0]\n",
    "w0 = reg.intercept_"
   ]
  },
  {
   "cell_type": "code",
   "execution_count": null,
   "metadata": {},
   "outputs": [],
   "source": [
    "nu0 = np.exp(w0)\n",
    "EkJ = 8.314 * w / 1000\n"
   ]
  },
  {
   "cell_type": "code",
   "execution_count": null,
   "metadata": {},
   "outputs": [],
   "source": [
    "exp_name = folder_path.split('(')[-1][:-1]\n",
    "print(\n",
    "    f\"Experiment= {data_name[6:-4]}: {exp_name}%\",\n",
    "    f'nu0=  {nu0: 6.3e}',\n",
    "    f'E  =  {EkJ: 6.3f} kJ',\n",
    "    sep='\\n',\n",
    ")\n",
    "regression_done = True\n"
   ]
  },
  {
   "cell_type": "markdown",
   "metadata": {},
   "source": [
    "## Saving regression"
   ]
  },
  {
   "cell_type": "code",
   "execution_count": null,
   "metadata": {},
   "outputs": [],
   "source": [
    "dfp = dfs_mean"
   ]
  },
  {
   "cell_type": "code",
   "execution_count": null,
   "metadata": {},
   "outputs": [],
   "source": [
    "assert not os.path.isfile(f'{folder_path}\\BReg_{data_name[6:]}'), 'Data already exists'\n",
    "dfp.to_csv(f'{folder_path}\\BReg_{data_name[6:]}', index=0)"
   ]
  }
 ],
 "metadata": {
  "kernelspec": {
   "display_name": "Python 3.10.0 ('zVid_env': venv)",
   "language": "python",
   "name": "python3"
  },
  "language_info": {
   "codemirror_mode": {
    "name": "ipython",
    "version": 3
   },
   "file_extension": ".py",
   "mimetype": "text/x-python",
   "name": "python",
   "nbconvert_exporter": "python",
   "pygments_lexer": "ipython3",
   "version": "3.10.0"
  },
  "orig_nbformat": 4,
  "vscode": {
   "interpreter": {
    "hash": "5946b119aa0342abd5386a0c5beb8d13f5e9da65c541c34995194e58e5a123e1"
   }
  }
 },
 "nbformat": 4,
 "nbformat_minor": 2
}

{
 "cells": [
  {
   "cell_type": "code",
   "execution_count": 1,
   "metadata": {},
   "outputs": [],
   "source": [
    "import pandas as pd\n",
    "import numpy as np\n",
    "pd.set_option('mode.chained_assignment', None)"
   ]
  },
  {
   "cell_type": "code",
   "execution_count": 2,
   "metadata": {},
   "outputs": [],
   "source": [
    "path = r'Experiments/MultiplyTemperature/Exp0(0)/Data'\n",
    "df1 = pd.read_csv(f'{path}/1.csv',index_col=0)\n",
    "df2 = pd.read_csv(f'{path}/2.csv',index_col=0)\n",
    "df3 = pd.read_csv(f'{path}/3.csv',index_col=0)\n",
    "df4 = pd.read_csv(f'{path}/4.csv',index_col=0)"
   ]
  },
  {
   "cell_type": "code",
   "execution_count": 3,
   "metadata": {},
   "outputs": [],
   "source": [
    "rules= {0:'OK',1:'processor_sweep',2:'value_combine',3:'error'}\n",
    "col_rules={'Viscosity_mark':'Viscosity_verbose','Temperature_mark':'Temperature_verbose'} "
   ]
  },
  {
   "cell_type": "code",
   "execution_count": 95,
   "metadata": {},
   "outputs": [],
   "source": [
    "df1 = df1.rename(columns=col_rules)\n",
    "df1[['Viscosity_verbose','Temperature_verbose']] = df1[['Viscosity_verbose','Temperature_verbose']].replace(rules)\n",
    "\n",
    "df2 = df2.rename(columns=col_rules)\n",
    "df2[['Viscosity_verbose','Temperature_verbose']] = df2[['Viscosity_verbose','Temperature_verbose']].replace(rules)\n",
    "df2['time'] =df2['time']+ df1['time'].max()+1\n",
    "\n",
    "df3 = df3.rename(columns=col_rules)\n",
    "df3[['Viscosity_verbose','Temperature_verbose']] = df3[['Viscosity_verbose','Temperature_verbose']].replace({np.nan:'OK'})\n",
    "df3['time'] =df3['time']+ df2['time'].max()+1\n",
    "\n",
    "df4 = df4.rename(columns=col_rules)\n",
    "df4[['Viscosity_verbose','Temperature_verbose']] = df4[['Viscosity_verbose','Temperature_verbose']].replace({np.nan:'OK'})\n",
    "df4['time'] =df4['time']+ df3['time'].max()+1\n",
    "df = pd.concat([df1,df2,df3,df4])\n",
    "\n",
    "df= df.dropna(subset=['Viscosity','Temperature'])"
   ]
  },
  {
   "cell_type": "code",
   "execution_count": 96,
   "metadata": {},
   "outputs": [],
   "source": [
    "# plot_rules = {'processor_sweep':2, 'OK':0, 'error':4, 'value_combine':3,\n",
    "#        'inner_processor_check':1}\n",
    "# df[['Viscosity_verbose','Temperature_verbose']] = df[['Viscosity_verbose','Temperature_verbose']].replace(plot_rules)\n",
    "# dfs['time'] = dfs['time'] / 60\n"
   ]
  },
  {
   "cell_type": "code",
   "execution_count": 102,
   "metadata": {},
   "outputs": [],
   "source": [
    "temperature_cond = ((13 < df['Temperature']) & (df['Temperature'] < 45))\n",
    "viscosity_cond = ((40 < df['Viscosity']) & (df['Viscosity'] < 350))\n",
    "\n",
    "dfs = df[temperature_cond & viscosity_cond]"
   ]
  },
  {
   "cell_type": "code",
   "execution_count": 112,
   "metadata": {},
   "outputs": [
    {
     "data": {
      "text/html": [
       "<div>\n",
       "<style scoped>\n",
       "    .dataframe tbody tr th:only-of-type {\n",
       "        vertical-align: middle;\n",
       "    }\n",
       "\n",
       "    .dataframe tbody tr th {\n",
       "        vertical-align: top;\n",
       "    }\n",
       "\n",
       "    .dataframe thead th {\n",
       "        text-align: right;\n",
       "    }\n",
       "</style>\n",
       "<table border=\"1\" class=\"dataframe\">\n",
       "  <thead>\n",
       "    <tr style=\"text-align: right;\">\n",
       "      <th></th>\n",
       "      <th>Viscosity</th>\n",
       "    </tr>\n",
       "    <tr>\n",
       "      <th>Temperature</th>\n",
       "      <th></th>\n",
       "    </tr>\n",
       "  </thead>\n",
       "  <tbody>\n",
       "    <tr>\n",
       "      <th>13.80</th>\n",
       "      <td>344.9</td>\n",
       "    </tr>\n",
       "    <tr>\n",
       "      <th>13.90</th>\n",
       "      <td>343.4</td>\n",
       "    </tr>\n",
       "    <tr>\n",
       "      <th>14.00</th>\n",
       "      <td>337.9</td>\n",
       "    </tr>\n",
       "    <tr>\n",
       "      <th>14.10</th>\n",
       "      <td>335.4</td>\n",
       "    </tr>\n",
       "    <tr>\n",
       "      <th>14.16</th>\n",
       "      <td>336.4</td>\n",
       "    </tr>\n",
       "    <tr>\n",
       "      <th>...</th>\n",
       "      <td>...</td>\n",
       "    </tr>\n",
       "    <tr>\n",
       "      <th>40.20</th>\n",
       "      <td>48.0</td>\n",
       "    </tr>\n",
       "    <tr>\n",
       "      <th>40.30</th>\n",
       "      <td>47.5</td>\n",
       "    </tr>\n",
       "    <tr>\n",
       "      <th>40.40</th>\n",
       "      <td>46.6</td>\n",
       "    </tr>\n",
       "    <tr>\n",
       "      <th>40.50</th>\n",
       "      <td>45.7</td>\n",
       "    </tr>\n",
       "    <tr>\n",
       "      <th>40.60</th>\n",
       "      <td>46.2</td>\n",
       "    </tr>\n",
       "  </tbody>\n",
       "</table>\n",
       "<p>202 rows × 1 columns</p>\n",
       "</div>"
      ],
      "text/plain": [
       "             Viscosity\n",
       "Temperature           \n",
       "13.80            344.9\n",
       "13.90            343.4\n",
       "14.00            337.9\n",
       "14.10            335.4\n",
       "14.16            336.4\n",
       "...                ...\n",
       "40.20             48.0\n",
       "40.30             47.5\n",
       "40.40             46.6\n",
       "40.50             45.7\n",
       "40.60             46.2\n",
       "\n",
       "[202 rows x 1 columns]"
      ]
     },
     "execution_count": 112,
     "metadata": {},
     "output_type": "execute_result"
    }
   ],
   "source": [
    "dfs[['Temperature','Viscosity']].groupby(by='Temperature').median()"
   ]
  },
  {
   "cell_type": "code",
   "execution_count": 103,
   "metadata": {},
   "outputs": [
    {
     "data": {
      "text/html": [
       "<div>\n",
       "<style scoped>\n",
       "    .dataframe tbody tr th:only-of-type {\n",
       "        vertical-align: middle;\n",
       "    }\n",
       "\n",
       "    .dataframe tbody tr th {\n",
       "        vertical-align: top;\n",
       "    }\n",
       "\n",
       "    .dataframe thead th {\n",
       "        text-align: right;\n",
       "    }\n",
       "</style>\n",
       "<table border=\"1\" class=\"dataframe\">\n",
       "  <thead>\n",
       "    <tr style=\"text-align: right;\">\n",
       "      <th></th>\n",
       "      <th>time</th>\n",
       "      <th>Viscosity</th>\n",
       "      <th>Viscosity_verbose</th>\n",
       "      <th>Temperature</th>\n",
       "      <th>Temperature_verbose</th>\n",
       "    </tr>\n",
       "  </thead>\n",
       "  <tbody>\n",
       "    <tr>\n",
       "      <th>1</th>\n",
       "      <td>1.0</td>\n",
       "      <td>344.9</td>\n",
       "      <td>OK</td>\n",
       "      <td>13.8</td>\n",
       "      <td>OK</td>\n",
       "    </tr>\n",
       "    <tr>\n",
       "      <th>2</th>\n",
       "      <td>2.0</td>\n",
       "      <td>344.9</td>\n",
       "      <td>OK</td>\n",
       "      <td>13.8</td>\n",
       "      <td>OK</td>\n",
       "    </tr>\n",
       "    <tr>\n",
       "      <th>3</th>\n",
       "      <td>3.0</td>\n",
       "      <td>344.9</td>\n",
       "      <td>OK</td>\n",
       "      <td>13.8</td>\n",
       "      <td>OK</td>\n",
       "    </tr>\n",
       "    <tr>\n",
       "      <th>12</th>\n",
       "      <td>12.0</td>\n",
       "      <td>344.9</td>\n",
       "      <td>OK</td>\n",
       "      <td>13.8</td>\n",
       "      <td>OK</td>\n",
       "    </tr>\n",
       "    <tr>\n",
       "      <th>14</th>\n",
       "      <td>14.0</td>\n",
       "      <td>344.9</td>\n",
       "      <td>OK</td>\n",
       "      <td>13.8</td>\n",
       "      <td>OK</td>\n",
       "    </tr>\n",
       "    <tr>\n",
       "      <th>...</th>\n",
       "      <td>...</td>\n",
       "      <td>...</td>\n",
       "      <td>...</td>\n",
       "      <td>...</td>\n",
       "      <td>...</td>\n",
       "    </tr>\n",
       "    <tr>\n",
       "      <th>5920</th>\n",
       "      <td>202450.0</td>\n",
       "      <td>45.9</td>\n",
       "      <td>OK</td>\n",
       "      <td>40.5</td>\n",
       "      <td>OK</td>\n",
       "    </tr>\n",
       "    <tr>\n",
       "      <th>5932</th>\n",
       "      <td>202462.0</td>\n",
       "      <td>45.0</td>\n",
       "      <td>OK</td>\n",
       "      <td>40.5</td>\n",
       "      <td>OK</td>\n",
       "    </tr>\n",
       "    <tr>\n",
       "      <th>5935</th>\n",
       "      <td>202465.0</td>\n",
       "      <td>45.7</td>\n",
       "      <td>OK</td>\n",
       "      <td>40.5</td>\n",
       "      <td>OK</td>\n",
       "    </tr>\n",
       "    <tr>\n",
       "      <th>5936</th>\n",
       "      <td>202466.0</td>\n",
       "      <td>46.0</td>\n",
       "      <td>OK</td>\n",
       "      <td>40.5</td>\n",
       "      <td>OK</td>\n",
       "    </tr>\n",
       "    <tr>\n",
       "      <th>5939</th>\n",
       "      <td>202469.0</td>\n",
       "      <td>46.0</td>\n",
       "      <td>OK</td>\n",
       "      <td>40.5</td>\n",
       "      <td>OK</td>\n",
       "    </tr>\n",
       "  </tbody>\n",
       "</table>\n",
       "<p>4602 rows × 5 columns</p>\n",
       "</div>"
      ],
      "text/plain": [
       "          time  Viscosity Viscosity_verbose  Temperature Temperature_verbose\n",
       "1          1.0      344.9                OK         13.8                  OK\n",
       "2          2.0      344.9                OK         13.8                  OK\n",
       "3          3.0      344.9                OK         13.8                  OK\n",
       "12        12.0      344.9                OK         13.8                  OK\n",
       "14        14.0      344.9                OK         13.8                  OK\n",
       "...        ...        ...               ...          ...                 ...\n",
       "5920  202450.0       45.9                OK         40.5                  OK\n",
       "5932  202462.0       45.0                OK         40.5                  OK\n",
       "5935  202465.0       45.7                OK         40.5                  OK\n",
       "5936  202466.0       46.0                OK         40.5                  OK\n",
       "5939  202469.0       46.0                OK         40.5                  OK\n",
       "\n",
       "[4602 rows x 5 columns]"
      ]
     },
     "execution_count": 103,
     "metadata": {},
     "output_type": "execute_result"
    }
   ],
   "source": [
    "T_goupT= dfs.groupby(by='Temperature')['Temperature']\n",
    "T_groupV=dfs.groupby(by='Temperature')['Viscosity']\n",
    "def foo(g):\n",
    "    whisker_width=0\n",
    "    q1 = g.quantile(0.45)                \n",
    "    q3 = g.quantile(0.55)\n",
    "    iqr = q3 - q1\n",
    "    return (g >= q1 - whisker_width*iqr) & (g <= q3 + whisker_width*iqr)\n",
    "    # return np.abs((g - g.median()) / iqr) < 2.22\n",
    "    # return np.abs((g - g.mean()) / g.std(ddof=0)) < 1\n",
    "\n",
    "error_mask= T_groupV.apply(foo ).droplevel([0]).reset_index(drop=True).to_numpy()\n",
    "\n",
    "dfs = dfs[error_mask]\n",
    "\n",
    "\n",
    "# T_goupT2= dfs2.groupby(by='Temperature')['Temperature']\n",
    "# T_groupV2=dfs2.groupby(by='Temperature')['Viscosity']\n",
    "# dfs2\n",
    "dfs"
   ]
  },
  {
   "cell_type": "markdown",
   "metadata": {},
   "source": [
    "# time plots"
   ]
  },
  {
   "cell_type": "code",
   "execution_count": 8,
   "metadata": {},
   "outputs": [],
   "source": [
    "import matplotlib.pyplot as plt"
   ]
  },
  {
   "cell_type": "code",
   "execution_count": 9,
   "metadata": {},
   "outputs": [],
   "source": [
    "%matplotlib qt"
   ]
  },
  {
   "cell_type": "code",
   "execution_count": 10,
   "metadata": {},
   "outputs": [],
   "source": [
    "# dfs = dfs[(dfs['Temperature_verbose']<3) & (dfs ['Viscosity_verbose']<3)]\n",
    "# dfs= dfs[(104<dfs['time']) & (dfs['time']<117)]"
   ]
  },
  {
   "cell_type": "code",
   "execution_count": 11,
   "metadata": {},
   "outputs": [
    {
     "data": {
      "text/plain": [
       "Text(0, 0.5, 'Temperature')"
      ]
     },
     "execution_count": 11,
     "metadata": {},
     "output_type": "execute_result"
    }
   ],
   "source": [
    "fig,ax_v =plt.subplots()\n",
    "ax_T = ax_v.twinx()\n",
    "\n",
    "ax_v.scatter(dfs['time'],dfs['Viscosity'],color='red',marker='.')\n",
    "ax_v.set_ylabel('Viscosity',color='red')\n",
    "\n",
    "ax_T.scatter(dfs['time'],dfs['Temperature'],color='blue',marker='.')\n",
    "ax_T.set_ylabel('Temperature',color='blue')\n",
    "\n",
    "\n",
    "# df_masked = dfs[(dfs['Temperature_verbose']>=3) | (dfs ['Viscosity_verbose']>=3)]\n",
    "# ax_v.scatter(df_masked['time'],df_masked['Viscosity'],color='black',marker='s')\n",
    "# ax_T.scatter(df_masked['time'],df_masked['Temperature'],color='gray',marker='o')"
   ]
  },
  {
   "cell_type": "markdown",
   "metadata": {},
   "source": [
    "# Temterature plots"
   ]
  },
  {
   "cell_type": "code",
   "execution_count": 12,
   "metadata": {},
   "outputs": [],
   "source": [
    "import plotly \n",
    "import plotly.graph_objects as go\n",
    "import plotly.express as px"
   ]
  },
  {
   "cell_type": "code",
   "execution_count": 13,
   "metadata": {},
   "outputs": [],
   "source": [
    "# dfs = dfs[(dfs['Viscosity_verbose']=='OK')&(dfs['Temperature_verbose']=='OK')]"
   ]
  },
  {
   "cell_type": "code",
   "execution_count": 114,
   "metadata": {},
   "outputs": [],
   "source": [
    "g = dfs[['Temperature','Viscosity']].groupby(by='Temperature').median()"
   ]
  },
  {
   "cell_type": "code",
   "execution_count": 113,
   "metadata": {},
   "outputs": [
    {
     "ename": "NameError",
     "evalue": "name 'g' is not defined",
     "output_type": "error",
     "traceback": [
      "\u001b[1;31m---------------------------------------------------------------------------\u001b[0m",
      "\u001b[1;31mNameError\u001b[0m                                 Traceback (most recent call last)",
      "Cell \u001b[1;32mIn[113], line 11\u001b[0m\n\u001b[0;32m      1\u001b[0m fig \u001b[39m=\u001b[39m go\u001b[39m.\u001b[39mFigure()\n\u001b[0;32m      2\u001b[0m fig \u001b[39m=\u001b[39m px\u001b[39m.\u001b[39mbox(\n\u001b[0;32m      3\u001b[0m     dfs,\n\u001b[0;32m      4\u001b[0m     x\u001b[39m=\u001b[39m\u001b[39m\"\u001b[39m\u001b[39mTemperature\u001b[39m\u001b[39m\"\u001b[39m,\n\u001b[0;32m      5\u001b[0m     y\u001b[39m=\u001b[39m\u001b[39m\"\u001b[39m\u001b[39mViscosity\u001b[39m\u001b[39m\"\u001b[39m,\n\u001b[0;32m      6\u001b[0m     color\u001b[39m=\u001b[39m\u001b[39m'\u001b[39m\u001b[39mViscosity_verbose\u001b[39m\u001b[39m'\u001b[39m,\n\u001b[0;32m      7\u001b[0m )\n\u001b[0;32m      9\u001b[0m fig\u001b[39m.\u001b[39madd_traces([\n\u001b[0;32m     10\u001b[0m     go\u001b[39m.\u001b[39mScatter(name\u001b[39m=\u001b[39m\u001b[39m'\u001b[39m\u001b[39mMedian\u001b[39m\u001b[39m'\u001b[39m,\n\u001b[1;32m---> 11\u001b[0m                x\u001b[39m=\u001b[39mg[\u001b[39m'\u001b[39m\u001b[39mTemperature\u001b[39m\u001b[39m'\u001b[39m],\n\u001b[0;32m     12\u001b[0m                y\u001b[39m=\u001b[39mg[\u001b[39m'\u001b[39m\u001b[39mViscosity\u001b[39m\u001b[39m'\u001b[39m],\n\u001b[0;32m     13\u001b[0m                mode\u001b[39m=\u001b[39m\u001b[39m'\u001b[39m\u001b[39mlines\u001b[39m\u001b[39m'\u001b[39m),\n\u001b[0;32m     14\u001b[0m     go\u001b[39m.\u001b[39mScatter(name\u001b[39m=\u001b[39m\u001b[39m'\u001b[39m\u001b[39mMean\u001b[39m\u001b[39m'\u001b[39m, x\u001b[39m=\u001b[39mT_goupT\u001b[39m.\u001b[39mmax(), y\u001b[39m=\u001b[39mT_groupV\u001b[39m.\u001b[39mmean(), mode\u001b[39m=\u001b[39m\u001b[39m'\u001b[39m\u001b[39mlines\u001b[39m\u001b[39m'\u001b[39m),\n\u001b[0;32m     15\u001b[0m     \u001b[39m# go.Scatter(\u001b[39;00m\n\u001b[0;32m     16\u001b[0m     \u001b[39m#     name='Errors',\u001b[39;00m\n\u001b[0;32m     17\u001b[0m     \u001b[39m#     x=T_goupT2.max(),\u001b[39;00m\n\u001b[0;32m     18\u001b[0m     \u001b[39m#     y=T_groupV2.mean(),\u001b[39;00m\n\u001b[0;32m     19\u001b[0m     \u001b[39m#     mode='markers',\u001b[39;00m\n\u001b[0;32m     20\u001b[0m     \u001b[39m# ),\u001b[39;00m\n\u001b[0;32m     21\u001b[0m ])\n\u001b[0;32m     22\u001b[0m fig\u001b[39m.\u001b[39mupdate_layout(xaxis\u001b[39m=\u001b[39m\u001b[39mdict\u001b[39m(\u001b[39mrange\u001b[39m\u001b[39m=\u001b[39m(\u001b[39m13.5\u001b[39m, \u001b[39m40.5\u001b[39m)),\n\u001b[0;32m     23\u001b[0m                   yaxis\u001b[39m=\u001b[39m\u001b[39mdict\u001b[39m(\u001b[39mrange\u001b[39m\u001b[39m=\u001b[39m(\u001b[39m0\u001b[39m, \u001b[39m350\u001b[39m)),\n\u001b[0;32m     24\u001b[0m                   margin\u001b[39m=\u001b[39m\u001b[39mdict\u001b[39m(l\u001b[39m=\u001b[39m\u001b[39m10\u001b[39m, r\u001b[39m=\u001b[39m\u001b[39m10\u001b[39m, b\u001b[39m=\u001b[39m\u001b[39m10\u001b[39m, t\u001b[39m=\u001b[39m\u001b[39m10\u001b[39m, pad\u001b[39m=\u001b[39m\u001b[39m0\u001b[39m))\n\u001b[0;32m     25\u001b[0m fig\u001b[39m.\u001b[39mshow()\n",
      "\u001b[1;31mNameError\u001b[0m: name 'g' is not defined"
     ]
    }
   ],
   "source": [
    "fig = go.Figure()\n",
    "fig = px.box(\n",
    "    dfs,\n",
    "    x=\"Temperature\",\n",
    "    y=\"Viscosity\",\n",
    "    color='Viscosity_verbose',\n",
    ")\n",
    "\n",
    "fig.add_traces([\n",
    "    go.Scatter(name='Median',\n",
    "               x=g['Temperature'],\n",
    "               y=g['Viscosity'],\n",
    "               mode='lines'),\n",
    "    go.Scatter(name='Mean', x=T_goupT.max(), y=T_groupV.mean(), mode='lines'),\n",
    "    # go.Scatter(\n",
    "    #     name='Errors',\n",
    "    #     x=T_goupT2.max(),\n",
    "    #     y=T_groupV2.mean(),\n",
    "    #     mode='markers',\n",
    "    # ),\n",
    "])\n",
    "fig.update_layout(xaxis=dict(range=(13.5, 40.5)),\n",
    "                  yaxis=dict(range=(0, 350)),\n",
    "                  margin=dict(l=10, r=10, b=10, t=10, pad=0))\n",
    "fig.show()"
   ]
  },
  {
   "cell_type": "code",
   "execution_count": 78,
   "metadata": {},
   "outputs": [],
   "source": [
    "test= pd.DataFrame([\n",
    "    {'a':1,'b':2},\n",
    "    {'a':1,'b':3},\n",
    "    {'a':1,'b':2},\n",
    "    {'a':1,'b':10},\n",
    "    {'a':1,'b':1},\n",
    "    {'a':2,'b':8},\n",
    "    {'a':2,'b':9},\n",
    "    {'a':2,'b':70},\n",
    "    {'a':2,'b':23},\n",
    "    {'a':2,'b':9},\n",
    "    \n",
    "])"
   ]
  },
  {
   "cell_type": "code",
   "execution_count": 85,
   "metadata": {},
   "outputs": [
    {
     "data": {
      "text/plain": [
       "array([ True,  True,  True, False, False, False,  True, False,  True,\n",
       "        True])"
      ]
     },
     "execution_count": 85,
     "metadata": {},
     "output_type": "execute_result"
    }
   ],
   "source": [
    "def foo(g):\n",
    "    whisker_width=0\n",
    "    q1 = g.quantile(0.01)                \n",
    "    q3 = g.quantile(0.99)\n",
    "    iqr = q3 - q1\n",
    "    return (g >= q1 - whisker_width*iqr) & (g <= q3 + whisker_width*iqr)\n",
    "    # return np.abs((g - g.median()) / iqr) < 2.22\n",
    "    # return np.abs((g - g.mean()) / g.std(ddof=0)) < 1\n",
    "mask = test.groupby(by='a')['b'].apply(foo).droplevel([0]).reset_index(drop=True).to_numpy()\n",
    "mask"
   ]
  },
  {
   "cell_type": "code",
   "execution_count": 86,
   "metadata": {},
   "outputs": [
    {
     "data": {
      "text/html": [
       "<div>\n",
       "<style scoped>\n",
       "    .dataframe tbody tr th:only-of-type {\n",
       "        vertical-align: middle;\n",
       "    }\n",
       "\n",
       "    .dataframe tbody tr th {\n",
       "        vertical-align: top;\n",
       "    }\n",
       "\n",
       "    .dataframe thead th {\n",
       "        text-align: right;\n",
       "    }\n",
       "</style>\n",
       "<table border=\"1\" class=\"dataframe\">\n",
       "  <thead>\n",
       "    <tr style=\"text-align: right;\">\n",
       "      <th></th>\n",
       "      <th>a</th>\n",
       "      <th>b</th>\n",
       "    </tr>\n",
       "  </thead>\n",
       "  <tbody>\n",
       "    <tr>\n",
       "      <th>3</th>\n",
       "      <td>1</td>\n",
       "      <td>10</td>\n",
       "    </tr>\n",
       "    <tr>\n",
       "      <th>4</th>\n",
       "      <td>1</td>\n",
       "      <td>1</td>\n",
       "    </tr>\n",
       "    <tr>\n",
       "      <th>5</th>\n",
       "      <td>2</td>\n",
       "      <td>8</td>\n",
       "    </tr>\n",
       "    <tr>\n",
       "      <th>7</th>\n",
       "      <td>2</td>\n",
       "      <td>70</td>\n",
       "    </tr>\n",
       "  </tbody>\n",
       "</table>\n",
       "</div>"
      ],
      "text/plain": [
       "   a   b\n",
       "3  1  10\n",
       "4  1   1\n",
       "5  2   8\n",
       "7  2  70"
      ]
     },
     "execution_count": 86,
     "metadata": {},
     "output_type": "execute_result"
    }
   ],
   "source": [
    "test[~mask]"
   ]
  }
 ],
 "metadata": {
  "kernelspec": {
   "display_name": "Python 3.10.0 ('zChemistry_env': venv)",
   "language": "python",
   "name": "python3"
  },
  "language_info": {
   "codemirror_mode": {
    "name": "ipython",
    "version": 3
   },
   "file_extension": ".py",
   "mimetype": "text/x-python",
   "name": "python",
   "nbconvert_exporter": "python",
   "pygments_lexer": "ipython3",
   "version": "3.10.0"
  },
  "orig_nbformat": 4,
  "vscode": {
   "interpreter": {
    "hash": "65e3ff7ea178c0cc827c55669acecc2d3bcf4faf0bb1a0873412f31fa3e54b71"
   }
  }
 },
 "nbformat": 4,
 "nbformat_minor": 2
}

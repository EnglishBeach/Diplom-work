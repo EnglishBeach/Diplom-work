{
 "cells": [
  {
   "cell_type": "code",
   "execution_count": null,
   "metadata": {},
   "outputs": [],
   "source": [
    "import os\n",
    "\n",
    "import numpy as np\n",
    "import pandas as pd\n",
    "from mylibs.tools import Experiment"
   ]
  },
  {
   "cell_type": "code",
   "execution_count": null,
   "metadata": {},
   "outputs": [],
   "source": [
    "%matplotlib qt"
   ]
  },
  {
   "cell_type": "code",
   "execution_count": null,
   "metadata": {},
   "outputs": [],
   "source": [
    "# Collect data\n",
    "M_but = 74.12\n",
    "M_ocm = 418.4\n",
    "M_peta = 298.29\n",
    "M_dmag = 198.12\n",
    "\n",
    "but_rho = 0.82668\n",
    "\n",
    "PATH = \"D:\\WORKS\\Diplom-work\\Experiments\\Viscosity\"\n",
    "\n",
    "def to_df(exp: Experiment):\n",
    "    df = pd.DataFrame()\n",
    "    k = 1\n",
    "    df = exp.d.copy(deep=True).rename(columns={\"x\": \"Temperature\", \"y\": \"D\"})\n",
    "    df[\"Viscosity\"] = k * (df[\"Temperature\"] + 273.15) / (df[\"D\"] * 0.001)\n",
    "\n",
    "    df[\"compound\"] = exp.info[\"compound\"]\n",
    "    df[\"rho\"] = exp.info[\"rho\"]\n",
    "    df[\"w_mass\"] = exp.info[\"w\"]\n",
    "    df[\"w_vol\"] = df[\"w_mass\"] * df[\"rho\"] / but_rho\n",
    "    df[\"D0\"] = exp.info[\"D0\"]\n",
    "    df[\"E\"] = exp.info[\"E\"]\n",
    "    df['Kin_viscosity'] = exp.info['Viscosity']\n",
    "    df = df[\n",
    "        [\n",
    "            \"compound\",\n",
    "            \"rho\",\n",
    "            \"w_mass\",\n",
    "            \"w_vol\",\n",
    "            \"Temperature\",\n",
    "            \"time\",\n",
    "            \"Viscosity\",\n",
    "            'Kin_viscosity',\n",
    "\n",
    "            \"D\",\n",
    "\n",
    "            \"D0\",\n",
    "            \"E\",\n",
    "        ]\n",
    "    ]\n",
    "    return df\n",
    "\n",
    "\n",
    "def collect(M_comp, comp_list):\n",
    "    df = pd.concat(comp_list)\n",
    "    df[\"x\"] = (\n",
    "        (df[\"w_mass\"] / M_but)\n",
    "        / (df[\"w_mass\"] / M_but + (100 - df[\"w_mass\"]) / M_comp)\n",
    "        * 100\n",
    "    )\n",
    "    return df\n",
    "\n",
    "# OCM\n",
    "comp_list = []\n",
    "for i in range(9):\n",
    "    file = [f\"{PATH}\\OCM{i}\\{f}\" for f in os.listdir(f\"{PATH}\\OCM{i}\") if \".hdf5\" in f][\n",
    "        0\n",
    "    ]\n",
    "    comp_list.append(to_df(Experiment.load_hdf5(file)))\n",
    "\n",
    "ocm = collect(M_ocm, comp_list)\n",
    "\n",
    "# PETA\n",
    "comp_list = []\n",
    "for i in range(5):\n",
    "    file = [\n",
    "        f\"{PATH}\\PETA{i}\\{f}\" for f in os.listdir(f\"{PATH}\\PETA{i}\") if \".hdf5\" in f\n",
    "    ][0]\n",
    "    comp_list.append(to_df(Experiment.load_hdf5(file)))\n",
    "peta = collect(M_peta, comp_list)\n",
    "\n",
    "# Butanol\n",
    "butanol = to_df(Experiment.load_hdf5(f\"{PATH}\\BUTANOL\\data_BUT_up.hdf5\"))\n",
    "butanol[\"x\"] = 100\n",
    "butanol[\"w_vol\"] = 100\n",
    "butanol[\"rho\"] = but_rho\n",
    "\n",
    "# DMAG\n",
    "comp_list = []\n",
    "for i in range(5):\n",
    "    file = [\n",
    "        f\"{PATH}\\DMAG{i}\\{f}\" for f in os.listdir(f\"{PATH}\\DMAG{i}\") if \".hdf5\" in f\n",
    "    ][0]\n",
    "    comp_list.append(to_df(Experiment.load_hdf5(file)))\n",
    "dmag = collect(M_dmag, comp_list)"
   ]
  },
  {
   "cell_type": "code",
   "execution_count": null,
   "metadata": {},
   "outputs": [],
   "source": [
    "# All data\n",
    "all_df = pd.concat([ocm, peta, butanol, dmag]).reset_index(drop=True)\n",
    "DF = all_df.groupby(by=[\"compound\", \"x\", \"Temperature\"]).mean().reset_index()\n",
    "DF.to_csv('Datas/Viscosity_all_data.csv')\n",
    "DF"
   ]
  },
  {
   "cell_type": "code",
   "execution_count": null,
   "metadata": {},
   "outputs": [],
   "source": [
    "# Simple data\n",
    "datas = []\n",
    "for _, group in DF.groupby(by=['compound', 'x']):\n",
    "    for i0 in [15, 20, 25, 30, 40]:\n",
    "        window_df = group[(i0 - 1 <= group['Temperature']) & (group['Temperature'] <= i0 + 1)]\n",
    "        window_note = window_df[\n",
    "            ['x', 'Temperature', 'rho', 'w_mass', 'w_vol', 'D', 'Viscosity', 'E', 'D0']\n",
    "        ].mean()\n",
    "        window_note['compound'] = group['compound'].iloc[0]\n",
    "        window_note['Temperature'] = i0\n",
    "        if any(window_note.isna()):\n",
    "            continue\n",
    "        datas.append(window_note)\n",
    "\n",
    "DF2 = pd.concat(datas, axis=1).T\n",
    "DF2.to_csv('Datas/Viscosity.csv')\n",
    "DF2"
   ]
  },
  {
   "cell_type": "code",
   "execution_count": null,
   "metadata": {},
   "outputs": [],
   "source": [
    "res = {}\n",
    "for compound in DF[\"compound\"].unique():\n",
    "    df_comp = DF[DF[\"compound\"] == compound]\n",
    "    xs = df_comp[\"x\"].unique()\n",
    "    rhos = np.array([df_comp[df_comp[\"x\"] == x][\"rho\"].mean() for x in xs]) * 1000\n",
    "    print(f\"{compound: >10}:\", *xs.astype(int))\n",
    "    print(\"*\" * 10, *rhos.astype(int))\n",
    "    res[compound] = list(zip(xs.astype(int), rhos.astype(int)))"
   ]
  }
 ],
 "metadata": {
  "kernelspec": {
   "display_name": "Python 3.10.11 ('zVid_env': venv)",
   "language": "python",
   "name": "python3"
  },
  "language_info": {
   "codemirror_mode": {
    "name": "ipython",
    "version": 3
   },
   "file_extension": ".py",
   "mimetype": "text/x-python",
   "name": "python",
   "nbconvert_exporter": "python",
   "pygments_lexer": "ipython3",
   "version": "3.10.11"
  },
  "orig_nbformat": 4,
  "vscode": {
   "interpreter": {
    "hash": "5946b119aa0342abd5386a0c5beb8d13f5e9da65c541c34995194e58e5a123e1"
   }
  }
 },
 "nbformat": 4,
 "nbformat_minor": 2
}

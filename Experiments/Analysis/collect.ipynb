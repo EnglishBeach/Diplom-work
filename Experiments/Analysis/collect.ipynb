{
 "cells": [
  {
   "cell_type": "code",
   "execution_count": 237,
   "metadata": {},
   "outputs": [],
   "source": [
    "import os\n",
    "import numpy as np\n",
    "import pandas as pd\n",
    "from mycolorpy import colorlist as mcp\n",
    "import matplotlib.pyplot as plt\n",
    "\n",
    "from mylibs import tools, functions as f\n",
    "from mylibs.tools import Experiment\n",
    "\n",
    "pd.set_option('mode.chained_assignment', None)\n",
    "plt.rc('xtick', labelsize=10)\n",
    "plt.rc('ytick', labelsize=10)\n",
    "plt.rc('font', size=10)\n",
    "plt.rc('axes', titlesize=16)\n",
    "plt.rc('axes', labelsize=15)\n",
    "plt.rc('legend', fontsize=10)\n",
    "plt.rcParams[\"figure.figsize\"] = (10, 7)"
   ]
  },
  {
   "cell_type": "code",
   "execution_count": 245,
   "metadata": {},
   "outputs": [],
   "source": [
    "from scipy.interpolate import LinearNDInterpolator, CloughTocher2DInterpolator,griddata\n",
    "from matplotlib.colors import LightSource\n",
    "from matplotlib import cbook, cm"
   ]
  },
  {
   "cell_type": "code",
   "execution_count": null,
   "metadata": {},
   "outputs": [],
   "source": [
    "%matplotlib qt"
   ]
  },
  {
   "cell_type": "markdown",
   "metadata": {},
   "source": [
    "# Collect"
   ]
  },
  {
   "cell_type": "code",
   "execution_count": null,
   "metadata": {},
   "outputs": [],
   "source": [
    "def to_df(experiment:Experiment):\n",
    "    df= experiment.d\n",
    "    k = 1\n",
    "    df['Viscosity'] = k * (df['x'] + 273.15) / (df['y'] * 0.001)\n",
    "    df['compound'] = experiment.info['compound']\n",
    "    df['rho'] = experiment.info['rho']\n",
    "    df['w'] = experiment.info['w']\n",
    "    df['D0'] = experiment.info['D0']\n",
    "    df['E'] = experiment.info['E']\n",
    "    df.rename(columns={'x': 'Temperature', 'y': 'D'}, inplace=True)\n",
    "    return df\n",
    "    \n"
   ]
  },
  {
   "cell_type": "code",
   "execution_count": null,
   "metadata": {},
   "outputs": [],
   "source": [
    "# OCM\n",
    "ocm_list = []\n",
    "for i in range(9):\n",
    "    path = f'D:\\WORKS\\Diplom-work\\Experiments\\OCM_viscosity\\OCM{i}'\n",
    "    file = [f for f in os.listdir(path) if '.hdf5' in f][0]\n",
    "\n",
    "    exp = Experiment()\n",
    "    exp.load_hdf5(f'{path}\\{file}')\n",
    "    ocm_list.append(to_df(exp))\n",
    "\n",
    "ocm = pd.concat(ocm_list)"
   ]
  },
  {
   "cell_type": "code",
   "execution_count": null,
   "metadata": {},
   "outputs": [],
   "source": [
    "# PETA\n",
    "peta_list = []\n",
    "for i in range(5):\n",
    "    path = f'D:\\WORKS\\Diplom-work\\Experiments\\PETA,TMAG_viscosity\\PETA{i}'\n",
    "    file = [f for f in os.listdir(path) if '.hdf5' in f][0]\n",
    "\n",
    "    exp = Experiment()\n",
    "    exp.load_hdf5(f'{path}\\{file}')\n",
    "    peta_list.append(to_df(exp))\n",
    "    \n",
    "peta = pd.concat(peta_list)"
   ]
  },
  {
   "cell_type": "code",
   "execution_count": null,
   "metadata": {},
   "outputs": [],
   "source": [
    "# Butanol\n",
    "but= Experiment()\n",
    "but.load_hdf5('D:\\Works\\Diplom-work\\Experiments\\BUTANOL\\data_BUT_up.hdf5')\n",
    "but= to_df(but)\n"
   ]
  },
  {
   "cell_type": "code",
   "execution_count": null,
   "metadata": {},
   "outputs": [],
   "source": [
    "all_df = pd.concat([ocm, peta,but]).reset_index(drop=True)[[\n",
    "    'compound', 'w', 'Temperature', 'time', 'D', 'Viscosity', 'rho', 'D0', 'E', 'Viscosity_verbose'\n",
    "]]\n"
   ]
  },
  {
   "cell_type": "code",
   "execution_count": null,
   "metadata": {},
   "outputs": [],
   "source": [
    "df = (all_df[['compound','w','Temperature','D','Viscosity','rho','D0','E']]\n",
    "    .groupby(by=['compound','Temperature','D','w'])\n",
    "    .mean()\n",
    "    .reset_index()\n",
    ")"
   ]
  },
  {
   "cell_type": "markdown",
   "metadata": {},
   "source": [
    "# 2D"
   ]
  },
  {
   "cell_type": "code",
   "execution_count": null,
   "metadata": {},
   "outputs": [],
   "source": [
    "# 2D surface\n",
    "compound_filter = (df['compound'] == 'ocm')\n",
    "# |(df['compound'] == 'butanol')\n",
    "data = df[compound_filter]\n",
    "\n",
    "xy= data[['Temperature','w']]\n",
    "z= data['D']\n",
    "X = np.linspace(min(xy['Temperature']),max(xy['Temperature']))\n",
    "Y = np.linspace(min(xy['w']),max(xy['w']))\n",
    "X ,Y= np.meshgrid(X, Y)\n",
    "f = LinearNDInterpolator(xy,z)\n",
    "Z = f(X,Y)\n",
    "plt.pcolormesh(X, Y, Z)"
   ]
  },
  {
   "cell_type": "code",
   "execution_count": 253,
   "metadata": {},
   "outputs": [
    {
     "data": {
      "text/plain": [
       "<matplotlib.legend.Legend at 0x251085c49a0>"
      ]
     },
     "execution_count": 253,
     "metadata": {},
     "output_type": "execute_result"
    }
   ],
   "source": [
    "# Diffusion plots\n",
    "name = 'OCM-2'\n",
    "# +' + Butanol-1'\n",
    "\n",
    "compound_filter = (\n",
    "    (df['compound'] == 'peta')\n",
    "    |(df['compound'] == 'butanol')\n",
    ") #yapf: disable\n",
    "\n",
    "# Plot\n",
    "data = df[compound_filter]\n",
    "D_mean = df['D'].mean()\n",
    "grouped = data.groupby(by=['w'])\n",
    "colors_list = mcp.gen_color(cmap=\"turbo\", n=len(grouped))\n",
    "\n",
    "fig, ax = plt.subplots()\n",
    "for _, group in grouped:\n",
    "    # print()\n",
    "    w = group['w'].mean()\n",
    "    T = group['Temperature']\n",
    "    color = colors_list.pop()\n",
    "\n",
    "    D = group['D'] / D_mean\n",
    "    ax.scatter(\n",
    "        T,\n",
    "        D,\n",
    "        c=color,\n",
    "        s=2,\n",
    "    )\n",
    "\n",
    "    E = group['E'].mean()\n",
    "    D0 = group['D0'].mean() / D_mean\n",
    "    D_ols = D0 * np.exp(-E / (8.314 * (T+273.15)))\n",
    "    ax.plot(\n",
    "        T,\n",
    "        D_ols,\n",
    "        label=f\"{w: 5.2f}\",\n",
    "        c=color,\n",
    "    )\n",
    "\n",
    "    ax.set_title(f\"{name}: diffusion plots\")\n",
    "    ax.set_xlabel('Temperature [C]')\n",
    "    ax.set_ylabel('Diffusion')\n",
    "plt.legend()"
   ]
  },
  {
   "cell_type": "markdown",
   "metadata": {},
   "source": [
    "# 3D T,w=D,rho"
   ]
  },
  {
   "cell_type": "code",
   "execution_count": null,
   "metadata": {},
   "outputs": [],
   "source": [
    "import plotly\n",
    "import plotly.graph_objects as go\n",
    "\n",
    "fig = go.Figure()\n",
    "fig.update_layout(hovermode=\"x unified\", margin=dict(l=0, r=0, b=0, t=0, pad=0))\n",
    "\n",
    "\n",
    "# OCM\n",
    "compound_filter = (df['compound'] == 'ocm')\n",
    "# |(df['compound'] == 'butanol')\n",
    "data = df[compound_filter]\n",
    "\n",
    "data['D'] = data['D'] / data['D'].mean()\n",
    "\n",
    "xy = data[['Temperature', 'w']]\n",
    "x = data['Temperature']\n",
    "y = data['w']\n",
    "x1 = np.linspace(x.min(), x.max(), 51)\n",
    "y1 = np.linspace(y.min(), y.max(), 51)\n",
    "X, Y = np.meshgrid(x1, y1)\n",
    "\n",
    "z = data['D']\n",
    "fz = CloughTocher2DInterpolator(xy, z)\n",
    "Z = fz(X, Y)\n",
    "\n",
    "r = data['rho']\n",
    "fr = CloughTocher2DInterpolator(xy, r,)\n",
    "#  fill_value=1\n",
    "R = fr(X, Y)\n",
    "\n",
    "\n",
    "fig.add_trace(go.Surface(\n",
    "    x=x1,\n",
    "    y=y1,\n",
    "    z=Z,\n",
    "    colorscale ='Reds'\n",
    "    # surfacecolor=R,\n",
    "))\n",
    "\n",
    "# PETA\n",
    "compound_filter = (df['compound'] == 'peta')\n",
    "# |(df['compound'] == 'butanol')\n",
    "data = df[compound_filter]\n",
    "\n",
    "data['D'] = data['D'] / data['D'].mean()\n",
    "\n",
    "xy = data[['Temperature', 'w']]\n",
    "x = data['Temperature']\n",
    "y = data['w']\n",
    "x1 = np.linspace(x.min(), x.max(), 51)\n",
    "y1 = np.linspace(y.min(), y.max(), 51)\n",
    "X, Y = np.meshgrid(x1, y1)\n",
    "\n",
    "z = data['D']\n",
    "fz = CloughTocher2DInterpolator(xy, z)\n",
    "Z = fz(X, Y)\n",
    "\n",
    "r = data['rho']\n",
    "fr = CloughTocher2DInterpolator(xy, r,)\n",
    "#  fill_value=1\n",
    "R = fr(X, Y)\n",
    "\n",
    "\n",
    "fig.add_trace(go.Surface(\n",
    "    x=x1,\n",
    "    y=y1,\n",
    "    z=Z,\n",
    "    colorscale ='Blues'\n",
    "    # surfacecolor=R,\n",
    "))\n",
    "\n",
    "fig.show()"
   ]
  },
  {
   "cell_type": "markdown",
   "metadata": {},
   "source": [
    "# Rework massively"
   ]
  },
  {
   "cell_type": "code",
   "execution_count": null,
   "metadata": {},
   "outputs": [],
   "source": [
    "import os\n",
    "for i in range(5):\n",
    "\n",
    "    exp = tools.Experiment()\n",
    "    path = f'D:\\Works\\Diplom-work\\Experiments\\PETA,TMAG_viscosity\\PETA{i}'\n",
    "    file = [file for file in os.listdir(path) if '.hdf5' in file][0]\n",
    "    exp.load_hdf5(*tools.input_path(f'{path}\\{file}'))\n",
    "    exp.log.pop()\n",
    "    info, result, func = tools.regress(exp)\n",
    "    exp.set_info(**info)\n",
    "    del exp.info['d_D0']\n",
    "    del exp.info['d_E']\n",
    "    exp.save_hdf5()"
   ]
  },
  {
   "cell_type": "code",
   "execution_count": null,
   "metadata": {},
   "outputs": [],
   "source": [
    "with pd.HDFStore('D:\\Works\\Diplom-work\\Experiments\\OCM_viscosity\\OCM0\\data_OCM0_up.hdf5') as file:\n",
    "    log = file.get_storer('data').attrs.log \n",
    "    info= file.get_storer('data').attrs.info "
   ]
  },
  {
   "cell_type": "code",
   "execution_count": null,
   "metadata": {},
   "outputs": [],
   "source": [
    "info"
   ]
  },
  {
   "cell_type": "code",
   "execution_count": null,
   "metadata": {},
   "outputs": [],
   "source": [
    "exp2 =tools.Experiment()\n",
    "exp2.load_hdf5(*tools.input_path())\n",
    "exp2.log"
   ]
  },
  {
   "cell_type": "code",
   "execution_count": null,
   "metadata": {},
   "outputs": [],
   "source": [
    "exp2.info"
   ]
  }
 ],
 "metadata": {
  "kernelspec": {
   "display_name": "Python 3.10.0 ('zChemistry_env': venv)",
   "language": "python",
   "name": "python3"
  },
  "language_info": {
   "codemirror_mode": {
    "name": "ipython",
    "version": 3
   },
   "file_extension": ".py",
   "mimetype": "text/x-python",
   "name": "python",
   "nbconvert_exporter": "python",
   "pygments_lexer": "ipython3",
   "version": "3.10.0"
  },
  "orig_nbformat": 4,
  "vscode": {
   "interpreter": {
    "hash": "65e3ff7ea178c0cc827c55669acecc2d3bcf4faf0bb1a0873412f31fa3e54b71"
   }
  }
 },
 "nbformat": 4,
 "nbformat_minor": 2
}

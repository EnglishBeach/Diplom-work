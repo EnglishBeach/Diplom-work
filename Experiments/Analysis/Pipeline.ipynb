{
 "cells": [
  {
   "cell_type": "code",
   "execution_count": 1,
   "metadata": {},
   "outputs": [],
   "source": [
    "import numpy as np\n",
    "import pandas as pd\n",
    "from mylibs import tools, functions as f"
   ]
  },
  {
   "cell_type": "code",
   "execution_count": 2,
   "metadata": {},
   "outputs": [],
   "source": [
    "%matplotlib qt"
   ]
  },
  {
   "cell_type": "code",
   "execution_count": 3,
   "metadata": {},
   "outputs": [
    {
     "data": {
      "text/plain": [
       "<mylibs.tools.Experiment at 0x1e80e5bb280>"
      ]
     },
     "execution_count": 3,
     "metadata": {},
     "output_type": "execute_result"
    }
   ],
   "source": [
    "exp = tools.Experiment()\n",
    "exp.load_csv(*tools.input_path())\n",
    "tools.temporal_base_plot(exp)"
   ]
  },
  {
   "cell_type": "code",
   "execution_count": 4,
   "metadata": {},
   "outputs": [],
   "source": [
    "exp = tools.temporal_config_plot(exp)"
   ]
  },
  {
   "cell_type": "code",
   "execution_count": 5,
   "metadata": {},
   "outputs": [],
   "source": [
    "tools.temperature_plot(\n",
    "    exp,\n",
    "    title='Viscosity',\n",
    "    xlabel='Temperature [C]',\n",
    "    ylabel='Viscosity [cP]',\n",
    "    interactive=True,\n",
    ")\n"
   ]
  },
  {
   "cell_type": "code",
   "execution_count": 6,
   "metadata": {},
   "outputs": [
    {
     "name": "stdout",
     "output_type": "stream",
     "text": [
      "Filtered\n"
     ]
    }
   ],
   "source": [
    "exp.apply(f.C_to_K)\n",
    "exp.apply(f.nu_D)\n",
    "exp.apply(f.linearize)\n",
    "exp.group_filter(f.iqr_filter)\n",
    "exp.apply(f.delinearize)\n",
    "exp.apply(f.K_to_C)\n",
    "print('Filtered')"
   ]
  },
  {
   "cell_type": "code",
   "execution_count": 7,
   "metadata": {},
   "outputs": [],
   "source": [
    "tools.temperature_plot(\n",
    "    exp,\n",
    "    title='Diffusion',\n",
    "    xlabel='Temperature [C]',\n",
    "    ylabel='D [m2/s]',\n",
    "    interactive=True,\n",
    ")"
   ]
  },
  {
   "cell_type": "code",
   "execution_count": 8,
   "metadata": {},
   "outputs": [
    {
     "data": {
      "text/html": [
       "<div>\n",
       "<style scoped>\n",
       "    .dataframe tbody tr th:only-of-type {\n",
       "        vertical-align: middle;\n",
       "    }\n",
       "\n",
       "    .dataframe tbody tr th {\n",
       "        vertical-align: top;\n",
       "    }\n",
       "\n",
       "    .dataframe thead th {\n",
       "        text-align: right;\n",
       "    }\n",
       "</style>\n",
       "<table border=\"1\" class=\"dataframe\">\n",
       "  <thead>\n",
       "    <tr style=\"text-align: right;\">\n",
       "      <th></th>\n",
       "      <th>x</th>\n",
       "      <th>y</th>\n",
       "      <th>time</th>\n",
       "    </tr>\n",
       "  </thead>\n",
       "  <tbody>\n",
       "    <tr>\n",
       "      <th>0</th>\n",
       "      <td>13.000000</td>\n",
       "      <td>863.939696</td>\n",
       "      <td>0.0</td>\n",
       "    </tr>\n",
       "    <tr>\n",
       "      <th>1</th>\n",
       "      <td>13.292929</td>\n",
       "      <td>885.807123</td>\n",
       "      <td>0.0</td>\n",
       "    </tr>\n",
       "    <tr>\n",
       "      <th>2</th>\n",
       "      <td>13.585859</td>\n",
       "      <td>908.181660</td>\n",
       "      <td>0.0</td>\n",
       "    </tr>\n",
       "    <tr>\n",
       "      <th>3</th>\n",
       "      <td>13.878788</td>\n",
       "      <td>931.073945</td>\n",
       "      <td>0.0</td>\n",
       "    </tr>\n",
       "    <tr>\n",
       "      <th>4</th>\n",
       "      <td>14.171717</td>\n",
       "      <td>954.494818</td>\n",
       "      <td>0.0</td>\n",
       "    </tr>\n",
       "    <tr>\n",
       "      <th>...</th>\n",
       "      <td>...</td>\n",
       "      <td>...</td>\n",
       "      <td>...</td>\n",
       "    </tr>\n",
       "    <tr>\n",
       "      <th>95</th>\n",
       "      <td>40.828283</td>\n",
       "      <td>7539.383767</td>\n",
       "      <td>0.0</td>\n",
       "    </tr>\n",
       "    <tr>\n",
       "      <th>96</th>\n",
       "      <td>41.121212</td>\n",
       "      <td>7697.565070</td>\n",
       "      <td>0.0</td>\n",
       "    </tr>\n",
       "    <tr>\n",
       "      <th>97</th>\n",
       "      <td>41.414141</td>\n",
       "      <td>7858.761211</td>\n",
       "      <td>0.0</td>\n",
       "    </tr>\n",
       "    <tr>\n",
       "      <th>98</th>\n",
       "      <td>41.707071</td>\n",
       "      <td>8023.023591</td>\n",
       "      <td>0.0</td>\n",
       "    </tr>\n",
       "    <tr>\n",
       "      <th>99</th>\n",
       "      <td>42.000000</td>\n",
       "      <td>8190.404379</td>\n",
       "      <td>0.0</td>\n",
       "    </tr>\n",
       "  </tbody>\n",
       "</table>\n",
       "<p>100 rows × 3 columns</p>\n",
       "</div>"
      ],
      "text/plain": [
       "            x            y  time\n",
       "0   13.000000   863.939696   0.0\n",
       "1   13.292929   885.807123   0.0\n",
       "2   13.585859   908.181660   0.0\n",
       "3   13.878788   931.073945   0.0\n",
       "4   14.171717   954.494818   0.0\n",
       "..        ...          ...   ...\n",
       "95  40.828283  7539.383767   0.0\n",
       "96  41.121212  7697.565070   0.0\n",
       "97  41.414141  7858.761211   0.0\n",
       "98  41.707071  8023.023591   0.0\n",
       "99  42.000000  8190.404379   0.0\n",
       "\n",
       "[100 rows x 3 columns]"
      ]
     },
     "execution_count": 8,
     "metadata": {},
     "output_type": "execute_result"
    }
   ],
   "source": [
    "info, result, func = tools.regress(exp)\n",
    "exp.set_info(**info)\n",
    "x = np.linspace(13, 42, 100) + 273.15\n",
    "ols_res = tools.Experiment(\n",
    "    pd.DataFrame({\n",
    "        'x': x, 'y': func(x), 'time': x * 0\n",
    "    }),\n",
    "    'interpolated',\n",
    ")\n",
    "\n",
    "ols_res.apply(f.K_to_C)"
   ]
  },
  {
   "cell_type": "code",
   "execution_count": 9,
   "metadata": {},
   "outputs": [
    {
     "data": {
      "text/plain": [
       "{'compound': 'ocm',\n",
       " 'rho': 1.0,\n",
       " 'w': 0.0,\n",
       " 'E': 58150.595593164544,\n",
       " 'D0': 35632227049158.29,\n",
       " 'dD0': 1619701861922.5352,\n",
       " 'dE': 112.26263878677855,\n",
       " 'f_statistic': 2114830.687207651,\n",
       " 'r2': 0.9936415942062257}"
      ]
     },
     "execution_count": 9,
     "metadata": {},
     "output_type": "execute_result"
    }
   ],
   "source": [
    "exp.info"
   ]
  },
  {
   "cell_type": "code",
   "execution_count": 10,
   "metadata": {},
   "outputs": [],
   "source": [
    "tmp=exp.copy()"
   ]
  },
  {
   "cell_type": "code",
   "execution_count": 11,
   "metadata": {},
   "outputs": [],
   "source": [
    "exp2= exp.copy()\n",
    "ols_res2 = ols_res.copy()\n",
    "exp2.apply(f.C_to_K)\n",
    "ols_res2.apply(f.C_to_K)\n",
    "exp2.apply(f.linearize)\n",
    "ols_res2.apply(f.linearize)\n",
    "\n",
    "tools.comparation_plot(\n",
    "    exp2,\n",
    "    ols_res2,\n",
    "    title='OLS_Linear',\n",
    "    xlabel='Temperature',\n",
    "    ylabel='D',\n",
    "    interactive=True,\n",
    ")"
   ]
  },
  {
   "cell_type": "code",
   "execution_count": 12,
   "metadata": {},
   "outputs": [],
   "source": [
    "tools.comparation_plot(\n",
    "    exp,\n",
    "    ols_res,\n",
    "    title='OLS_Diffusion',\n",
    "    xlabel='Temperature [C]',\n",
    "    ylabel='D [m2/s]',\n",
    "    interactive=True,\n",
    ")"
   ]
  },
  {
   "cell_type": "code",
   "execution_count": null,
   "metadata": {},
   "outputs": [],
   "source": [
    "exp.save_hdf5()"
   ]
  }
 ],
 "metadata": {
  "kernelspec": {
   "display_name": "Python 3.10.0 ('zChemistry_env': venv)",
   "language": "python",
   "name": "python3"
  },
  "language_info": {
   "codemirror_mode": {
    "name": "ipython",
    "version": 3
   },
   "file_extension": ".py",
   "mimetype": "text/x-python",
   "name": "python",
   "nbconvert_exporter": "python",
   "pygments_lexer": "ipython3",
   "version": "3.10.0"
  },
  "orig_nbformat": 4,
  "vscode": {
   "interpreter": {
    "hash": "65e3ff7ea178c0cc827c55669acecc2d3bcf4faf0bb1a0873412f31fa3e54b71"
   }
  }
 },
 "nbformat": 4,
 "nbformat_minor": 2
}

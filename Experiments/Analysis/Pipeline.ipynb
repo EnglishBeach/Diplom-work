{
 "cells": [
  {
   "cell_type": "code",
   "execution_count": 1,
   "metadata": {},
   "outputs": [],
   "source": [
    "import numpy as np\n",
    "import pandas as pd\n",
    "from mylibs import tools, functions as f"
   ]
  },
  {
   "cell_type": "code",
   "execution_count": 2,
   "metadata": {},
   "outputs": [],
   "source": [
    "%matplotlib qt"
   ]
  },
  {
   "cell_type": "code",
   "execution_count": 3,
   "metadata": {},
   "outputs": [
    {
     "data": {
      "text/plain": [
       "<mylibs.tools.Experiment at 0x1dc6eefb340>"
      ]
     },
     "execution_count": 3,
     "metadata": {},
     "output_type": "execute_result"
    }
   ],
   "source": [
    "exp = tools.Experiment()\n",
    "exp.load_csv(*tools.input_path())\n",
    "tools.temporal_base_plot(exp)"
   ]
  },
  {
   "cell_type": "code",
   "execution_count": 4,
   "metadata": {},
   "outputs": [],
   "source": [
    "exp = tools.temporal_config_plot(exp)"
   ]
  },
  {
   "cell_type": "code",
   "execution_count": 5,
   "metadata": {},
   "outputs": [],
   "source": [
    "tools.temperature_plot(\n",
    "    exp,\n",
    "    title='Viscosity',\n",
    "    xlabel='Temperature [C]',\n",
    "    ylabel='Viscosity [cP]',\n",
    "    interactive=True,\n",
    ")\n"
   ]
  },
  {
   "cell_type": "code",
   "execution_count": 6,
   "metadata": {},
   "outputs": [
    {
     "name": "stdout",
     "output_type": "stream",
     "text": [
      "Filtered\n"
     ]
    }
   ],
   "source": [
    "exp.apply(f.C_to_K)\n",
    "exp.apply(f.nu_D)\n",
    "exp.apply(f.linearize)\n",
    "exp.group_filter(f.iqr_filter)\n",
    "exp.apply(f.delinearize)\n",
    "exp.apply(f.K_to_C)\n",
    "print('Filtered')"
   ]
  },
  {
   "cell_type": "code",
   "execution_count": 7,
   "metadata": {},
   "outputs": [],
   "source": [
    "tools.temperature_plot(\n",
    "    exp,\n",
    "    title='Diffusion',\n",
    "    xlabel='Temperature [C]',\n",
    "    ylabel='D [m2/s]',\n",
    "    interactive=True,\n",
    ")"
   ]
  },
  {
   "cell_type": "code",
   "execution_count": 8,
   "metadata": {},
   "outputs": [
    {
     "data": {
      "text/html": [
       "<div>\n",
       "<style scoped>\n",
       "    .dataframe tbody tr th:only-of-type {\n",
       "        vertical-align: middle;\n",
       "    }\n",
       "\n",
       "    .dataframe tbody tr th {\n",
       "        vertical-align: top;\n",
       "    }\n",
       "\n",
       "    .dataframe thead th {\n",
       "        text-align: right;\n",
       "    }\n",
       "</style>\n",
       "<table border=\"1\" class=\"dataframe\">\n",
       "  <thead>\n",
       "    <tr style=\"text-align: right;\">\n",
       "      <th></th>\n",
       "      <th>x</th>\n",
       "      <th>y</th>\n",
       "      <th>time</th>\n",
       "    </tr>\n",
       "  </thead>\n",
       "  <tbody>\n",
       "    <tr>\n",
       "      <th>0</th>\n",
       "      <td>13.000000</td>\n",
       "      <td>863.939696</td>\n",
       "      <td>0.0</td>\n",
       "    </tr>\n",
       "    <tr>\n",
       "      <th>1</th>\n",
       "      <td>13.292929</td>\n",
       "      <td>885.807123</td>\n",
       "      <td>0.0</td>\n",
       "    </tr>\n",
       "    <tr>\n",
       "      <th>2</th>\n",
       "      <td>13.585859</td>\n",
       "      <td>908.181660</td>\n",
       "      <td>0.0</td>\n",
       "    </tr>\n",
       "    <tr>\n",
       "      <th>3</th>\n",
       "      <td>13.878788</td>\n",
       "      <td>931.073945</td>\n",
       "      <td>0.0</td>\n",
       "    </tr>\n",
       "    <tr>\n",
       "      <th>4</th>\n",
       "      <td>14.171717</td>\n",
       "      <td>954.494818</td>\n",
       "      <td>0.0</td>\n",
       "    </tr>\n",
       "    <tr>\n",
       "      <th>...</th>\n",
       "      <td>...</td>\n",
       "      <td>...</td>\n",
       "      <td>...</td>\n",
       "    </tr>\n",
       "    <tr>\n",
       "      <th>95</th>\n",
       "      <td>40.828283</td>\n",
       "      <td>7539.383767</td>\n",
       "      <td>0.0</td>\n",
       "    </tr>\n",
       "    <tr>\n",
       "      <th>96</th>\n",
       "      <td>41.121212</td>\n",
       "      <td>7697.565070</td>\n",
       "      <td>0.0</td>\n",
       "    </tr>\n",
       "    <tr>\n",
       "      <th>97</th>\n",
       "      <td>41.414141</td>\n",
       "      <td>7858.761211</td>\n",
       "      <td>0.0</td>\n",
       "    </tr>\n",
       "    <tr>\n",
       "      <th>98</th>\n",
       "      <td>41.707071</td>\n",
       "      <td>8023.023591</td>\n",
       "      <td>0.0</td>\n",
       "    </tr>\n",
       "    <tr>\n",
       "      <th>99</th>\n",
       "      <td>42.000000</td>\n",
       "      <td>8190.404379</td>\n",
       "      <td>0.0</td>\n",
       "    </tr>\n",
       "  </tbody>\n",
       "</table>\n",
       "<p>100 rows × 3 columns</p>\n",
       "</div>"
      ],
      "text/plain": [
       "            x            y  time\n",
       "0   13.000000   863.939696   0.0\n",
       "1   13.292929   885.807123   0.0\n",
       "2   13.585859   908.181660   0.0\n",
       "3   13.878788   931.073945   0.0\n",
       "4   14.171717   954.494818   0.0\n",
       "..        ...          ...   ...\n",
       "95  40.828283  7539.383767   0.0\n",
       "96  41.121212  7697.565070   0.0\n",
       "97  41.414141  7858.761211   0.0\n",
       "98  41.707071  8023.023591   0.0\n",
       "99  42.000000  8190.404379   0.0\n",
       "\n",
       "[100 rows x 3 columns]"
      ]
     },
     "execution_count": 8,
     "metadata": {},
     "output_type": "execute_result"
    }
   ],
   "source": [
    "info, result, func = tools.regress(exp)\n",
    "exp.set_info(**info)\n",
    "x = np.linspace(13, 42, 100) + 273.15\n",
    "ols_res = tools.Experiment(\n",
    "    pd.DataFrame({\n",
    "        'x': x, 'y': func(x), 'time': x * 0\n",
    "    }),\n",
    "    'interpolated',\n",
    ")\n",
    "\n",
    "ols_res.apply(f.K_to_C)"
   ]
  },
  {
   "cell_type": "code",
   "execution_count": 10,
   "metadata": {},
   "outputs": [
    {
     "data": {
      "text/plain": [
       "[('csv loaded',\n",
       "  'D:\\\\Works\\\\Diplom-work\\\\Experiments\\\\OCM_viscosity\\\\OCM0\\\\data_OCM0_up.csv'),\n",
       " ('initial_filter', {'time': [20.0, inf], 'y': [20.0, 300.0], 'x': (12, 42)}),\n",
       " ('C_to_K', []),\n",
       " ('nu_D', []),\n",
       " ('linearize', []),\n",
       " ('iqr_filter', []),\n",
       " ('delinearize', []),\n",
       " ('K_to_C', [])]"
      ]
     },
     "execution_count": 10,
     "metadata": {},
     "output_type": "execute_result"
    }
   ],
   "source": [
    "exp.log"
   ]
  },
  {
   "cell_type": "code",
   "execution_count": 11,
   "metadata": {},
   "outputs": [],
   "source": [
    "tmp=exp.copy()"
   ]
  },
  {
   "cell_type": "code",
   "execution_count": 12,
   "metadata": {},
   "outputs": [],
   "source": [
    "exp2= exp.copy()\n",
    "ols_res2 = ols_res.copy()\n",
    "exp2.apply(f.C_to_K)\n",
    "ols_res2.apply(f.C_to_K)\n",
    "exp2.apply(f.linearize)\n",
    "ols_res2.apply(f.linearize)\n",
    "\n",
    "tools.comparation_plot(\n",
    "    exp2,\n",
    "    ols_res2,\n",
    "    title='OLS_Linear',\n",
    "    xlabel='Temperature',\n",
    "    ylabel='D',\n",
    "    interactive=True,\n",
    ")"
   ]
  },
  {
   "cell_type": "code",
   "execution_count": 13,
   "metadata": {},
   "outputs": [],
   "source": [
    "tools.comparation_plot(\n",
    "    exp,\n",
    "    ols_res,\n",
    "    title='OLS_Diffusion',\n",
    "    xlabel='Temperature [C]',\n",
    "    ylabel='D [m2/s]',\n",
    "    interactive=True,\n",
    ")"
   ]
  },
  {
   "cell_type": "code",
   "execution_count": 22,
   "metadata": {},
   "outputs": [],
   "source": [
    "exp.save_hdf5()"
   ]
  },
  {
   "cell_type": "code",
   "execution_count": 19,
   "metadata": {},
   "outputs": [
    {
     "data": {
      "text/plain": [
       "[('csv loaded',\n",
       "  'D:\\\\Works\\\\Diplom-work\\\\Experiments\\\\OCM_viscosity\\\\OCM0\\\\data_OCM0_up.csv'),\n",
       " ('initial_filter', {'time': [20.0, inf], 'y': [20.0, 300.0], 'x': (12, 42)}),\n",
       " ('C_to_K', []),\n",
       " ('nu_D', []),\n",
       " ('linearize', []),\n",
       " ('iqr_filter', []),\n",
       " ('delinearize', []),\n",
       " ('K_to_C', [])]"
      ]
     },
     "execution_count": 19,
     "metadata": {},
     "output_type": "execute_result"
    }
   ],
   "source": [
    "exp.log"
   ]
  },
  {
   "cell_type": "markdown",
   "metadata": {},
   "source": [
    "# Load"
   ]
  },
  {
   "cell_type": "code",
   "execution_count": null,
   "metadata": {},
   "outputs": [],
   "source": [
    "import os\n",
    "for i in range(9):\n",
    "\n",
    "    exp = tools.Experiment()\n",
    "    path = f'D:\\Works\\Diplom-work\\Experiments\\OCM_viscosity\\OCM{i}'\n",
    "    file = [file for file in os.listdir(path) if '.hdf5' in file][0]\n",
    "    exp.load_hdf5(*tools.input_path(f'{path}\\{file}'))\n",
    "    info, result, func = tools.regress(exp)\n",
    "    exp.set_info(**info)\n",
    "    os.remove(f'{path}\\{file}')\n",
    "    exp.save_hdf5(f'{path}\\{file}')"
   ]
  },
  {
   "cell_type": "code",
   "execution_count": 27,
   "metadata": {},
   "outputs": [
    {
     "ename": "KeyError",
     "evalue": "'No object named data in the file'",
     "output_type": "error",
     "traceback": [
      "\u001b[1;31m---------------------------------------------------------------------------\u001b[0m",
      "\u001b[1;31mKeyError\u001b[0m                                  Traceback (most recent call last)",
      "Cell \u001b[1;32mIn[27], line 2\u001b[0m\n\u001b[0;32m      1\u001b[0m \u001b[39mwith\u001b[39;00m pd\u001b[39m.\u001b[39mHDFStore(\u001b[39m'\u001b[39m\u001b[39mD:\u001b[39m\u001b[39m\\\u001b[39m\u001b[39mWorks\u001b[39m\u001b[39m\\\u001b[39m\u001b[39mDiplom-work\u001b[39m\u001b[39m\\\u001b[39m\u001b[39mExperiments\u001b[39m\u001b[39m\\\u001b[39m\u001b[39mOCM_viscosity\u001b[39m\u001b[39m\\\u001b[39m\u001b[39mOCM0\u001b[39m\u001b[39m\\\u001b[39m\u001b[39mdata_OC0_up.hdf5\u001b[39m\u001b[39m'\u001b[39m) \u001b[39mas\u001b[39;00m file:\n\u001b[1;32m----> 2\u001b[0m     log \u001b[39m=\u001b[39m file\u001b[39m.\u001b[39;49mget_storer(\u001b[39m'\u001b[39;49m\u001b[39mdata\u001b[39;49m\u001b[39m'\u001b[39;49m)\u001b[39m.\u001b[39mattrs\u001b[39m.\u001b[39mlog \n\u001b[0;32m      3\u001b[0m     info\u001b[39m=\u001b[39m file\u001b[39m.\u001b[39mget_storer(\u001b[39m'\u001b[39m\u001b[39mdata\u001b[39m\u001b[39m'\u001b[39m)\u001b[39m.\u001b[39mattrs\u001b[39m.\u001b[39minfo \n",
      "File \u001b[1;32md:\\Works\\Diplom-work\\zChemistry_env\\lib\\site-packages\\pandas\\io\\pytables.py:1592\u001b[0m, in \u001b[0;36mHDFStore.get_storer\u001b[1;34m(self, key)\u001b[0m\n\u001b[0;32m   1590\u001b[0m group \u001b[39m=\u001b[39m \u001b[39mself\u001b[39m\u001b[39m.\u001b[39mget_node(key)\n\u001b[0;32m   1591\u001b[0m \u001b[39mif\u001b[39;00m group \u001b[39mis\u001b[39;00m \u001b[39mNone\u001b[39;00m:\n\u001b[1;32m-> 1592\u001b[0m     \u001b[39mraise\u001b[39;00m \u001b[39mKeyError\u001b[39;00m(\u001b[39mf\u001b[39m\u001b[39m\"\u001b[39m\u001b[39mNo object named \u001b[39m\u001b[39m{\u001b[39;00mkey\u001b[39m}\u001b[39;00m\u001b[39m in the file\u001b[39m\u001b[39m\"\u001b[39m)\n\u001b[0;32m   1594\u001b[0m s \u001b[39m=\u001b[39m \u001b[39mself\u001b[39m\u001b[39m.\u001b[39m_create_storer(group)\n\u001b[0;32m   1595\u001b[0m s\u001b[39m.\u001b[39minfer_axes()\n",
      "\u001b[1;31mKeyError\u001b[0m: 'No object named data in the file'"
     ]
    }
   ],
   "source": [
    "with pd.HDFStore('D:\\Works\\Diplom-work\\Experiments\\OCM_viscosity\\OCM0\\data_OC0_up.hdf5') as file:\n",
    "    log = file.get_storer('data').attrs.log \n",
    "    info= file.get_storer('data').attrs.info "
   ]
  },
  {
   "cell_type": "code",
   "execution_count": 26,
   "metadata": {},
   "outputs": [
    {
     "data": {
      "text/plain": [
       "[('csv loaded',\n",
       "  'D:\\\\WORKS\\\\Diplom-work\\\\Experiments\\\\OCM_viscosity\\\\OCM1\\\\data_OCM1_up.csv'),\n",
       " ('initial_filter', {'time': [90.0, inf], 'y': [30.0, 200.0], 'x': (12, 42)}),\n",
       " ('C_to_K', []),\n",
       " ('nu_D', []),\n",
       " ('linearize', []),\n",
       " ('iqr_filter', []),\n",
       " ('delinearize', []),\n",
       " ('K_to_C', []),\n",
       " ('hdf5 loaded',\n",
       "  'D:\\\\Works\\\\Diplom-work\\\\Experiments\\\\OCM_viscosity\\\\OCM1\\\\data_OCM1_up.hdf5')]"
      ]
     },
     "execution_count": 26,
     "metadata": {},
     "output_type": "execute_result"
    }
   ],
   "source": [
    "log"
   ]
  },
  {
   "cell_type": "code",
   "execution_count": 22,
   "metadata": {},
   "outputs": [
    {
     "data": {
      "text/html": [
       "<div>\n",
       "<style scoped>\n",
       "    .dataframe tbody tr th:only-of-type {\n",
       "        vertical-align: middle;\n",
       "    }\n",
       "\n",
       "    .dataframe tbody tr th {\n",
       "        vertical-align: top;\n",
       "    }\n",
       "\n",
       "    .dataframe thead th {\n",
       "        text-align: right;\n",
       "    }\n",
       "</style>\n",
       "<table border=\"1\" class=\"dataframe\">\n",
       "  <thead>\n",
       "    <tr style=\"text-align: right;\">\n",
       "      <th></th>\n",
       "      <th>time</th>\n",
       "      <th>y</th>\n",
       "      <th>Viscosity_verbose</th>\n",
       "      <th>x</th>\n",
       "      <th>Temperature_verbose</th>\n",
       "    </tr>\n",
       "  </thead>\n",
       "  <tbody>\n",
       "    <tr>\n",
       "      <th>80</th>\n",
       "      <td>81.0</td>\n",
       "      <td>9441.265060</td>\n",
       "      <td>OK</td>\n",
       "      <td>40.3</td>\n",
       "      <td>OK</td>\n",
       "    </tr>\n",
       "    <tr>\n",
       "      <th>81</th>\n",
       "      <td>82.0</td>\n",
       "      <td>9441.265060</td>\n",
       "      <td>OK</td>\n",
       "      <td>40.3</td>\n",
       "      <td>OK</td>\n",
       "    </tr>\n",
       "    <tr>\n",
       "      <th>82</th>\n",
       "      <td>83.0</td>\n",
       "      <td>9466.767372</td>\n",
       "      <td>OK_inner</td>\n",
       "      <td>40.2</td>\n",
       "      <td>OK_inner</td>\n",
       "    </tr>\n",
       "    <tr>\n",
       "      <th>83</th>\n",
       "      <td>84.0</td>\n",
       "      <td>9466.767372</td>\n",
       "      <td>OK_inner</td>\n",
       "      <td>40.2</td>\n",
       "      <td>OK</td>\n",
       "    </tr>\n",
       "    <tr>\n",
       "      <th>84</th>\n",
       "      <td>85.0</td>\n",
       "      <td>9466.767372</td>\n",
       "      <td>OK_inner</td>\n",
       "      <td>40.2</td>\n",
       "      <td>OK</td>\n",
       "    </tr>\n",
       "    <tr>\n",
       "      <th>...</th>\n",
       "      <td>...</td>\n",
       "      <td>...</td>\n",
       "      <td>...</td>\n",
       "      <td>...</td>\n",
       "      <td>...</td>\n",
       "    </tr>\n",
       "    <tr>\n",
       "      <th>7530</th>\n",
       "      <td>7674.0</td>\n",
       "      <td>1853.603604</td>\n",
       "      <td>image_sweep_check</td>\n",
       "      <td>14.9</td>\n",
       "      <td>OK</td>\n",
       "    </tr>\n",
       "    <tr>\n",
       "      <th>7531</th>\n",
       "      <td>7675.0</td>\n",
       "      <td>1808.223478</td>\n",
       "      <td>OK</td>\n",
       "      <td>14.9</td>\n",
       "      <td>OK</td>\n",
       "    </tr>\n",
       "    <tr>\n",
       "      <th>7532</th>\n",
       "      <td>7676.0</td>\n",
       "      <td>1808.223478</td>\n",
       "      <td>image_sweep_check</td>\n",
       "      <td>14.9</td>\n",
       "      <td>OK</td>\n",
       "    </tr>\n",
       "    <tr>\n",
       "      <th>7533</th>\n",
       "      <td>7677.0</td>\n",
       "      <td>1825.411914</td>\n",
       "      <td>OK_inner</td>\n",
       "      <td>14.9</td>\n",
       "      <td>OK</td>\n",
       "    </tr>\n",
       "    <tr>\n",
       "      <th>7534</th>\n",
       "      <td>7678.0</td>\n",
       "      <td>1839.399745</td>\n",
       "      <td>OK</td>\n",
       "      <td>14.9</td>\n",
       "      <td>OK</td>\n",
       "    </tr>\n",
       "  </tbody>\n",
       "</table>\n",
       "<p>5820 rows × 5 columns</p>\n",
       "</div>"
      ],
      "text/plain": [
       "        time            y  Viscosity_verbose     x Temperature_verbose\n",
       "80      81.0  9441.265060                 OK  40.3                  OK\n",
       "81      82.0  9441.265060                 OK  40.3                  OK\n",
       "82      83.0  9466.767372           OK_inner  40.2            OK_inner\n",
       "83      84.0  9466.767372           OK_inner  40.2                  OK\n",
       "84      85.0  9466.767372           OK_inner  40.2                  OK\n",
       "...      ...          ...                ...   ...                 ...\n",
       "7530  7674.0  1853.603604  image_sweep_check  14.9                  OK\n",
       "7531  7675.0  1808.223478                 OK  14.9                  OK\n",
       "7532  7676.0  1808.223478  image_sweep_check  14.9                  OK\n",
       "7533  7677.0  1825.411914           OK_inner  14.9                  OK\n",
       "7534  7678.0  1839.399745                 OK  14.9                  OK\n",
       "\n",
       "[5820 rows x 5 columns]"
      ]
     },
     "execution_count": 22,
     "metadata": {},
     "output_type": "execute_result"
    }
   ],
   "source": [
    "exp =tools.Experiment()\n",
    "exp.load_hdf5(*tools.input_path())"
   ]
  },
  {
   "cell_type": "code",
   "execution_count": 26,
   "metadata": {},
   "outputs": [
    {
     "data": {
      "text/plain": [
       "[('csv loaded',\n",
       "  'D:\\\\WORKS\\\\Diplom-work\\\\Experiments\\\\OCM_viscosity\\\\OCM2\\\\data_OCM2_down.csv'),\n",
       " ('initial_filter', {'time': [80.0, inf], 'y': [30.0, 170.0], 'x': (12, 42)}),\n",
       " ('C_to_K', []),\n",
       " ('nu_D', []),\n",
       " ('linearize', []),\n",
       " ('iqr_filter', []),\n",
       " ('delinearize', []),\n",
       " ('K_to_C', []),\n",
       " ('hdf5 loaded',\n",
       "  'D:\\\\Works\\\\Diplom-work\\\\Experiments\\\\OCM_viscosity\\\\OCM2\\\\data_OCM2_down.hdf5'),\n",
       " ('hdf5 loaded',\n",
       "  'D:\\\\Works\\\\Diplom-work\\\\Experiments\\\\OCM_viscosity\\\\OCM2\\\\data_OCM2_down.hdf5')]"
      ]
     },
     "execution_count": 26,
     "metadata": {},
     "output_type": "execute_result"
    }
   ],
   "source": [
    "exp.log"
   ]
  },
  {
   "cell_type": "code",
   "execution_count": 14,
   "metadata": {},
   "outputs": [
    {
     "data": {
      "text/plain": [
       "{'compound': 'ocm',\n",
       " 'rho': 1.72,\n",
       " 'w': 0.0,\n",
       " 'E': 59372.593499571696,\n",
       " 'D0': 58053559827657.89,\n",
       " 'dD0': 2256959362103.371,\n",
       " 'dE': 95.76658562539887,\n",
       " 'f_statistic': 3029495.381638645,\n",
       " 'r2': 0.9951642727866552,\n",
       " 'd_D0': 2256959362103.371,\n",
       " 'd_E': 95.76658562539887}"
      ]
     },
     "execution_count": 14,
     "metadata": {},
     "output_type": "execute_result"
    }
   ],
   "source": [
    "exp.info"
   ]
  }
 ],
 "metadata": {
  "kernelspec": {
   "display_name": "Python 3.10.0 ('zChemistry_env': venv)",
   "language": "python",
   "name": "python3"
  },
  "language_info": {
   "codemirror_mode": {
    "name": "ipython",
    "version": 3
   },
   "file_extension": ".py",
   "mimetype": "text/x-python",
   "name": "python",
   "nbconvert_exporter": "python",
   "pygments_lexer": "ipython3",
   "version": "3.10.0"
  },
  "orig_nbformat": 4,
  "vscode": {
   "interpreter": {
    "hash": "65e3ff7ea178c0cc827c55669acecc2d3bcf4faf0bb1a0873412f31fa3e54b71"
   }
  }
 },
 "nbformat": 4,
 "nbformat_minor": 2
}

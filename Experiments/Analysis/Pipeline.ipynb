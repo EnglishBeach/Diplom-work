{
 "cells": [
  {
   "cell_type": "code",
   "execution_count": 1,
   "metadata": {},
   "outputs": [],
   "source": [
    "import numpy as np\n",
    "import pandas as pd\n",
    "from mylibs import tools, functions as f"
   ]
  },
  {
   "cell_type": "code",
   "execution_count": 2,
   "metadata": {},
   "outputs": [],
   "source": [
    "%matplotlib qt"
   ]
  },
  {
   "cell_type": "code",
   "execution_count": 5,
   "metadata": {},
   "outputs": [],
   "source": [
    "exp = tools.Experiment()\n",
    "exp.load_csv(*tools.input_path())\n",
    "tools.temporal_plot(exp)\n",
    "exp.set_info(\n",
    "    compound=input('Compound: '),\n",
    "    rho=float(input('Rho: ')),\n",
    "    w=float(input('W mass: ')),\n",
    ")"
   ]
  },
  {
   "cell_type": "code",
   "execution_count": 7,
   "metadata": {},
   "outputs": [],
   "source": [
    "exp = tools.configurate_data(exp)"
   ]
  },
  {
   "cell_type": "code",
   "execution_count": 8,
   "metadata": {},
   "outputs": [],
   "source": [
    "tools.temperature_plot(\n",
    "    exp,\n",
    "    title='Viscosity',\n",
    "    xlabel='Temperature [C]',\n",
    "    ylabel='Viscosity [cP]',\n",
    "    interactive=True,\n",
    ")\n"
   ]
  },
  {
   "cell_type": "code",
   "execution_count": 9,
   "metadata": {},
   "outputs": [
    {
     "name": "stdout",
     "output_type": "stream",
     "text": [
      "Filtered\n"
     ]
    }
   ],
   "source": [
    "exp.apply(f.C_to_K)\n",
    "exp.apply(f.nu_D)\n",
    "exp.apply(f.linearize)\n",
    "exp.group_filter(f.iqr_filter)\n",
    "exp.apply(f.delinearize)\n",
    "exp.apply(f.K_to_C)\n",
    "print('Filtered')"
   ]
  },
  {
   "cell_type": "code",
   "execution_count": 10,
   "metadata": {},
   "outputs": [],
   "source": [
    "tools.temperature_plot(\n",
    "    exp,\n",
    "    title='Diffusion',\n",
    "    xlabel='Temperature [C]',\n",
    "    ylabel='D [m2/s]',\n",
    "    interactive=True,\n",
    ")"
   ]
  },
  {
   "cell_type": "code",
   "execution_count": 11,
   "metadata": {},
   "outputs": [],
   "source": [
    "info, result, func = tools.regress(exp)\n",
    "exp.set_info(**info)\n",
    "x = np.linspace(13, 42, 100) + 273.15\n",
    "ols_res = tools.Experiment(\n",
    "    pd.DataFrame({\n",
    "        'x': x, 'y': func(x), 'time': x * 0\n",
    "    }),\n",
    "    'interpolated',\n",
    ")\n",
    "\n",
    "ols_res.apply(f.K_to_C);"
   ]
  },
  {
   "cell_type": "code",
   "execution_count": 12,
   "metadata": {},
   "outputs": [
    {
     "data": {
      "text/plain": [
       "[('csv loaded',\n",
       "  'D:\\\\Works\\\\Diplom-work\\\\Experiments\\\\OCM_viscosity\\\\OCM0\\\\data_OCM0_up.csv'),\n",
       " ('initial_filter', {'time': [20.0, inf], 'y': [20.0, 300.0], 'x': (12, 42)}),\n",
       " ('C_to_K', []),\n",
       " ('nu_D', []),\n",
       " ('linearize', []),\n",
       " ('iqr_filter', []),\n",
       " ('delinearize', []),\n",
       " ('K_to_C', [])]"
      ]
     },
     "execution_count": 12,
     "metadata": {},
     "output_type": "execute_result"
    }
   ],
   "source": [
    "exp.log"
   ]
  },
  {
   "cell_type": "code",
   "execution_count": 11,
   "metadata": {},
   "outputs": [],
   "source": [
    "tmp=exp.copy()"
   ]
  },
  {
   "cell_type": "code",
   "execution_count": 13,
   "metadata": {},
   "outputs": [],
   "source": [
    "exp2= exp.copy()\n",
    "ols_res2 = ols_res.copy()\n",
    "exp2.apply(f.C_to_K)\n",
    "ols_res2.apply(f.C_to_K)\n",
    "exp2.apply(f.linearize)\n",
    "ols_res2.apply(f.linearize)\n",
    "\n",
    "tools.comparation_plot(\n",
    "    exp2,\n",
    "    ols_res2,\n",
    "    title='OLS_Linear',\n",
    "    xlabel='Temperature',\n",
    "    ylabel='D',\n",
    "    interactive=True,\n",
    ")"
   ]
  },
  {
   "cell_type": "code",
   "execution_count": 14,
   "metadata": {},
   "outputs": [],
   "source": [
    "tools.comparation_plot(\n",
    "    exp,\n",
    "    ols_res,\n",
    "    title='OLS_Diffusion',\n",
    "    xlabel='Temperature [C]',\n",
    "    ylabel='D [m2/s]',\n",
    "    interactive=True,\n",
    ")"
   ]
  },
  {
   "cell_type": "code",
   "execution_count": 22,
   "metadata": {},
   "outputs": [],
   "source": [
    "exp.save_hdf5()"
   ]
  },
  {
   "cell_type": "markdown",
   "metadata": {},
   "source": [
    "# Load"
   ]
  },
  {
   "cell_type": "code",
   "execution_count": 20,
   "metadata": {},
   "outputs": [
    {
     "ename": "NotADirectoryError",
     "evalue": "``D:\\Works\\Diplom-work\\Experiments\\OCM_viscosity\\OCM0\\data_OCM0_up.hdf5`` is not a directory",
     "output_type": "error",
     "traceback": [
      "\u001b[1;31m---------------------------------------------------------------------------\u001b[0m",
      "\u001b[1;31mNotADirectoryError\u001b[0m                        Traceback (most recent call last)",
      "Cell \u001b[1;32mIn[20], line 12\u001b[0m\n\u001b[0;32m     10\u001b[0m exp\u001b[39m.\u001b[39mset_info(\u001b[39m*\u001b[39m\u001b[39m*\u001b[39minfo)\n\u001b[0;32m     11\u001b[0m \u001b[39m# os.remove(f'{path}\\{file}')\u001b[39;00m\n\u001b[1;32m---> 12\u001b[0m exp\u001b[39m.\u001b[39;49msave_hdf5(\u001b[39mf\u001b[39;49m\u001b[39m'\u001b[39;49m\u001b[39m{\u001b[39;49;00mpath\u001b[39m}\u001b[39;49;00m\u001b[39m\\\u001b[39;49m\u001b[39m{\u001b[39;49;00mfile\u001b[39m}\u001b[39;49;00m\u001b[39m'\u001b[39;49m)\n",
      "File \u001b[1;32md:\\Works\\Diplom-work\\Experiments\\Analysis\\mylibs\\tools.py:64\u001b[0m, in \u001b[0;36mExperiment.save_hdf5\u001b[1;34m(self, path)\u001b[0m\n\u001b[0;32m     62\u001b[0m \u001b[39massert\u001b[39;00m folder \u001b[39mis\u001b[39;00m \u001b[39mnot\u001b[39;00m \u001b[39mNone\u001b[39;00m, \u001b[39m'\u001b[39m\u001b[39mPath not define\u001b[39m\u001b[39m'\u001b[39m\n\u001b[0;32m     63\u001b[0m file_path \u001b[39m=\u001b[39m \u001b[39mf\u001b[39m\u001b[39m'\u001b[39m\u001b[39m{\u001b[39;00mfolder\u001b[39m}\u001b[39;00m\u001b[39m\\\u001b[39m\u001b[39m{\u001b[39;00m\u001b[39mself\u001b[39m\u001b[39m.\u001b[39mname\u001b[39m}\u001b[39;00m\u001b[39m.hdf5\u001b[39m\u001b[39m'\u001b[39m\n\u001b[1;32m---> 64\u001b[0m \u001b[39mwith\u001b[39;00m pd\u001b[39m.\u001b[39;49mHDFStore(file_path) \u001b[39mas\u001b[39;00m file:\n\u001b[0;32m     65\u001b[0m     file\u001b[39m.\u001b[39mput(\u001b[39m'\u001b[39m\u001b[39mdata\u001b[39m\u001b[39m'\u001b[39m, \u001b[39mself\u001b[39m\u001b[39m.\u001b[39md)\n\u001b[0;32m     66\u001b[0m     file\u001b[39m.\u001b[39mget_storer(\u001b[39m'\u001b[39m\u001b[39mdata\u001b[39m\u001b[39m'\u001b[39m)\u001b[39m.\u001b[39mattrs\u001b[39m.\u001b[39mlog \u001b[39m=\u001b[39m \u001b[39mself\u001b[39m\u001b[39m.\u001b[39mlog\n",
      "File \u001b[1;32md:\\Works\\Diplom-work\\zChemistry_env\\lib\\site-packages\\pandas\\io\\pytables.py:585\u001b[0m, in \u001b[0;36mHDFStore.__init__\u001b[1;34m(self, path, mode, complevel, complib, fletcher32, **kwargs)\u001b[0m\n\u001b[0;32m    583\u001b[0m \u001b[39mself\u001b[39m\u001b[39m.\u001b[39m_fletcher32 \u001b[39m=\u001b[39m fletcher32\n\u001b[0;32m    584\u001b[0m \u001b[39mself\u001b[39m\u001b[39m.\u001b[39m_filters \u001b[39m=\u001b[39m \u001b[39mNone\u001b[39;00m\n\u001b[1;32m--> 585\u001b[0m \u001b[39mself\u001b[39m\u001b[39m.\u001b[39mopen(mode\u001b[39m=\u001b[39mmode, \u001b[39m*\u001b[39m\u001b[39m*\u001b[39mkwargs)\n",
      "File \u001b[1;32md:\\Works\\Diplom-work\\zChemistry_env\\lib\\site-packages\\pandas\\io\\pytables.py:745\u001b[0m, in \u001b[0;36mHDFStore.open\u001b[1;34m(self, mode, **kwargs)\u001b[0m\n\u001b[0;32m    739\u001b[0m     msg \u001b[39m=\u001b[39m (\n\u001b[0;32m    740\u001b[0m         \u001b[39m\"\u001b[39m\u001b[39mCannot open HDF5 file, which is already opened, \u001b[39m\u001b[39m\"\u001b[39m\n\u001b[0;32m    741\u001b[0m         \u001b[39m\"\u001b[39m\u001b[39meven in read-only mode.\u001b[39m\u001b[39m\"\u001b[39m\n\u001b[0;32m    742\u001b[0m     )\n\u001b[0;32m    743\u001b[0m     \u001b[39mraise\u001b[39;00m \u001b[39mValueError\u001b[39;00m(msg)\n\u001b[1;32m--> 745\u001b[0m \u001b[39mself\u001b[39m\u001b[39m.\u001b[39m_handle \u001b[39m=\u001b[39m tables\u001b[39m.\u001b[39mopen_file(\u001b[39mself\u001b[39m\u001b[39m.\u001b[39m_path, \u001b[39mself\u001b[39m\u001b[39m.\u001b[39m_mode, \u001b[39m*\u001b[39m\u001b[39m*\u001b[39mkwargs)\n",
      "File \u001b[1;32md:\\Works\\Diplom-work\\zChemistry_env\\lib\\site-packages\\tables\\file.py:294\u001b[0m, in \u001b[0;36mopen_file\u001b[1;34m(filename, mode, title, root_uep, filters, **kwargs)\u001b[0m\n\u001b[0;32m    289\u001b[0m             \u001b[39mraise\u001b[39;00m \u001b[39mValueError\u001b[39;00m(\n\u001b[0;32m    290\u001b[0m                 \u001b[39m\"\u001b[39m\u001b[39mThe file \u001b[39m\u001b[39m'\u001b[39m\u001b[39m%s\u001b[39;00m\u001b[39m'\u001b[39m\u001b[39m is already opened.  Please \u001b[39m\u001b[39m\"\u001b[39m\n\u001b[0;32m    291\u001b[0m                 \u001b[39m\"\u001b[39m\u001b[39mclose it before reopening in write mode.\u001b[39m\u001b[39m\"\u001b[39m \u001b[39m%\u001b[39m filename)\n\u001b[0;32m    293\u001b[0m \u001b[39m# Finally, create the File instance, and return it\u001b[39;00m\n\u001b[1;32m--> 294\u001b[0m \u001b[39mreturn\u001b[39;00m File(filename, mode, title, root_uep, filters, \u001b[39m*\u001b[39m\u001b[39m*\u001b[39mkwargs)\n",
      "File \u001b[1;32md:\\Works\\Diplom-work\\zChemistry_env\\lib\\site-packages\\tables\\file.py:744\u001b[0m, in \u001b[0;36mFile.__init__\u001b[1;34m(self, filename, mode, title, root_uep, filters, **kwargs)\u001b[0m\n\u001b[0;32m    741\u001b[0m \u001b[39mself\u001b[39m\u001b[39m.\u001b[39mparams \u001b[39m=\u001b[39m params\n\u001b[0;32m    743\u001b[0m \u001b[39m# Now, it is time to initialize the File extension\u001b[39;00m\n\u001b[1;32m--> 744\u001b[0m \u001b[39mself\u001b[39m\u001b[39m.\u001b[39m_g_new(filename, mode, \u001b[39m*\u001b[39m\u001b[39m*\u001b[39mparams)\n\u001b[0;32m    746\u001b[0m \u001b[39m# Check filters and set PyTables format version for new files.\u001b[39;00m\n\u001b[0;32m    747\u001b[0m new \u001b[39m=\u001b[39m \u001b[39mself\u001b[39m\u001b[39m.\u001b[39m_v_new\n",
      "File \u001b[1;32md:\\Works\\Diplom-work\\zChemistry_env\\lib\\site-packages\\tables\\hdf5extension.pyx:397\u001b[0m, in \u001b[0;36mtables.hdf5extension.File._g_new\u001b[1;34m()\u001b[0m\n",
      "File \u001b[1;32md:\\Works\\Diplom-work\\zChemistry_env\\lib\\site-packages\\tables\\utils.py:172\u001b[0m, in \u001b[0;36mcheck_file_access\u001b[1;34m(filename, mode)\u001b[0m\n\u001b[0;32m    170\u001b[0m         check_file_access(path, \u001b[39m'\u001b[39m\u001b[39mr+\u001b[39m\u001b[39m'\u001b[39m)\n\u001b[0;32m    171\u001b[0m     \u001b[39melse\u001b[39;00m:\n\u001b[1;32m--> 172\u001b[0m         check_file_access(path, \u001b[39m'\u001b[39;49m\u001b[39mw\u001b[39;49m\u001b[39m'\u001b[39;49m)\n\u001b[0;32m    173\u001b[0m \u001b[39melif\u001b[39;00m mode \u001b[39m==\u001b[39m \u001b[39m'\u001b[39m\u001b[39mr+\u001b[39m\u001b[39m'\u001b[39m:\n\u001b[0;32m    174\u001b[0m     check_file_access(path, \u001b[39m'\u001b[39m\u001b[39mr\u001b[39m\u001b[39m'\u001b[39m)\n",
      "File \u001b[1;32md:\\Works\\Diplom-work\\zChemistry_env\\lib\\site-packages\\tables\\utils.py:162\u001b[0m, in \u001b[0;36mcheck_file_access\u001b[1;34m(filename, mode)\u001b[0m\n\u001b[0;32m    160\u001b[0m     \u001b[39mraise\u001b[39;00m \u001b[39mFileNotFoundError\u001b[39;00m(\u001b[39mf\u001b[39m\u001b[39m\"\u001b[39m\u001b[39m``\u001b[39m\u001b[39m{\u001b[39;00mpath\u001b[39m.\u001b[39mparent\u001b[39m}\u001b[39;00m\u001b[39m`` does not exist\u001b[39m\u001b[39m\"\u001b[39m)\n\u001b[0;32m    161\u001b[0m \u001b[39mif\u001b[39;00m \u001b[39mnot\u001b[39;00m path\u001b[39m.\u001b[39mparent\u001b[39m.\u001b[39mis_dir():\n\u001b[1;32m--> 162\u001b[0m     \u001b[39mraise\u001b[39;00m \u001b[39mNotADirectoryError\u001b[39;00m(\u001b[39mf\u001b[39m\u001b[39m\"\u001b[39m\u001b[39m``\u001b[39m\u001b[39m{\u001b[39;00mpath\u001b[39m.\u001b[39mparent\u001b[39m}\u001b[39;00m\u001b[39m`` is not a directory\u001b[39m\u001b[39m\"\u001b[39m)\n\u001b[0;32m    163\u001b[0m \u001b[39mif\u001b[39;00m \u001b[39mnot\u001b[39;00m os\u001b[39m.\u001b[39maccess(path\u001b[39m.\u001b[39mparent, os\u001b[39m.\u001b[39mW_OK):\n\u001b[0;32m    164\u001b[0m     \u001b[39mraise\u001b[39;00m \u001b[39mPermissionError\u001b[39;00m(\n\u001b[0;32m    165\u001b[0m         \u001b[39mf\u001b[39m\u001b[39m\"\u001b[39m\u001b[39mdirectory ``\u001b[39m\u001b[39m{\u001b[39;00mpath\u001b[39m.\u001b[39mparent\u001b[39m}\u001b[39;00m\u001b[39m`` exists but it can not be \u001b[39m\u001b[39m\"\u001b[39m\n\u001b[0;32m    166\u001b[0m         \u001b[39mf\u001b[39m\u001b[39m\"\u001b[39m\u001b[39mwritten\u001b[39m\u001b[39m\"\u001b[39m\n\u001b[0;32m    167\u001b[0m     )\n",
      "\u001b[1;31mNotADirectoryError\u001b[0m: ``D:\\Works\\Diplom-work\\Experiments\\OCM_viscosity\\OCM0\\data_OCM0_up.hdf5`` is not a directory"
     ]
    }
   ],
   "source": [
    "import os\n",
    "for i in range(9):\n",
    "\n",
    "    exp = tools.Experiment()\n",
    "    path = f'D:\\Works\\Diplom-work\\Experiments\\OCM_viscosity\\OCM{i}'\n",
    "    file = [file for file in os.listdir(path) if '.hdf5' in file][0]\n",
    "    exp.load_hdf5(*tools.input_path(f'{path}\\{file}'))\n",
    "    exp.log.pop()\n",
    "    info, result, func = tools.regress(exp)\n",
    "    exp.set_info(**info)\n",
    "    # os.remove(f'{path}\\{file}')\n",
    "    exp.save_hdf5(f'{path}\\{file}')"
   ]
  },
  {
   "cell_type": "code",
   "execution_count": 28,
   "metadata": {},
   "outputs": [],
   "source": [
    "with pd.HDFStore('D:\\Works\\Diplom-work\\Experiments\\OCM_viscosity\\OCM0\\data_OCM0_up.hdf5') as file:\n",
    "    log = file.get_storer('data').attrs.log \n",
    "    info= file.get_storer('data').attrs.info "
   ]
  },
  {
   "cell_type": "code",
   "execution_count": 29,
   "metadata": {},
   "outputs": [
    {
     "data": {
      "text/plain": [
       "[('csv loaded',\n",
       "  'D:\\\\Works\\\\Diplom-work\\\\Experiments\\\\OCM_viscosity\\\\OCM0\\\\data_OCM0_up.csv'),\n",
       " ('initial_filter', {'time': [20.0, inf], 'y': [20.0, 300.0], 'x': (12, 42)}),\n",
       " ('C_to_K', []),\n",
       " ('nu_D', []),\n",
       " ('linearize', []),\n",
       " ('iqr_filter', []),\n",
       " ('delinearize', []),\n",
       " ('K_to_C', [])]"
      ]
     },
     "execution_count": 29,
     "metadata": {},
     "output_type": "execute_result"
    }
   ],
   "source": [
    "log"
   ]
  },
  {
   "cell_type": "code",
   "execution_count": 33,
   "metadata": {},
   "outputs": [
    {
     "data": {
      "text/plain": [
       "[('csv loaded',\n",
       "  'D:\\\\WORKS\\\\Diplom-work\\\\Experiments\\\\OCM_viscosity\\\\OCM0\\\\data_OCM0_up.csv'),\n",
       " ('initial_filter', {'time': [0.0, inf], 'y': [40.0, 350.0], 'x': (12, 42)}),\n",
       " ('C_to_K', []),\n",
       " ('nu_D', []),\n",
       " ('linearize', []),\n",
       " ('iqr_filter', []),\n",
       " ('delinearize', []),\n",
       " ('K_to_C', []),\n",
       " ('hdf5 loaded',\n",
       "  'D:\\\\Works\\\\Diplom-work\\\\Experiments\\\\OCM_viscosity\\\\OCM0\\\\data_OCM0_up.hdf5')]"
      ]
     },
     "execution_count": 33,
     "metadata": {},
     "output_type": "execute_result"
    }
   ],
   "source": [
    "\n",
    "exp2 =tools.Experiment()\n",
    "exp2.load_hdf5(*tools.input_path())\n",
    "exp2.log"
   ]
  },
  {
   "cell_type": "code",
   "execution_count": 34,
   "metadata": {},
   "outputs": [
    {
     "data": {
      "text/plain": [
       "{'compound': 'ocm',\n",
       " 'rho': 1.72,\n",
       " 'w': 0.0,\n",
       " 'D0': 58053559827657.89,\n",
       " 'd_D0': 2256959362103.371,\n",
       " 'd_E': 95.76658562539887,\n",
       " 'f_statistic': 3029495.381638645,\n",
       " 'r2': 0.9951642727866552,\n",
       " 'E': 59372.593499571696,\n",
       " 'dD0': 2256959362103.371,\n",
       " 'dE': 95.76658562539887}"
      ]
     },
     "execution_count": 34,
     "metadata": {},
     "output_type": "execute_result"
    }
   ],
   "source": [
    "exp2.info"
   ]
  },
  {
   "cell_type": "code",
   "execution_count": 36,
   "metadata": {},
   "outputs": [
    {
     "ename": "KeyboardInterrupt",
     "evalue": "Interrupted by user",
     "output_type": "error",
     "traceback": [
      "\u001b[1;31m---------------------------------------------------------------------------\u001b[0m",
      "\u001b[1;31mKeyboardInterrupt\u001b[0m                         Traceback (most recent call last)",
      "Cell \u001b[1;32mIn[36], line 1\u001b[0m\n\u001b[1;32m----> 1\u001b[0m tools\u001b[39m.\u001b[39;49mtemporal_base_plot(exp2)\n",
      "File \u001b[1;32md:\\Works\\Diplom-work\\Experiments\\Analysis\\mylibs\\tools.py:161\u001b[0m, in \u001b[0;36mtemporal_base_plot\u001b[1;34m(experiment)\u001b[0m\n\u001b[0;32m    159\u001b[0m \u001b[39mdef\u001b[39;00m \u001b[39mtemporal_base_plot\u001b[39m(experiment):\n\u001b[0;32m    160\u001b[0m     experiment\u001b[39m.\u001b[39mset_info(\n\u001b[1;32m--> 161\u001b[0m         compound\u001b[39m=\u001b[39m\u001b[39minput\u001b[39;49m(\u001b[39m'\u001b[39;49m\u001b[39mCompound: \u001b[39;49m\u001b[39m'\u001b[39;49m),\n\u001b[0;32m    162\u001b[0m         rho\u001b[39m=\u001b[39m\u001b[39mfloat\u001b[39m(\u001b[39minput\u001b[39m(\u001b[39m'\u001b[39m\u001b[39mRho: \u001b[39m\u001b[39m'\u001b[39m)),\n\u001b[0;32m    163\u001b[0m         w\u001b[39m=\u001b[39m\u001b[39mfloat\u001b[39m(\u001b[39minput\u001b[39m(\u001b[39m'\u001b[39m\u001b[39mW mass: \u001b[39m\u001b[39m'\u001b[39m)),\n\u001b[0;32m    164\u001b[0m     )\n\u001b[0;32m    166\u001b[0m     fig, ax_v \u001b[39m=\u001b[39m plt\u001b[39m.\u001b[39msubplots()\n\u001b[0;32m    167\u001b[0m     ax_T \u001b[39m=\u001b[39m ax_v\u001b[39m.\u001b[39mtwinx()\n",
      "File \u001b[1;32md:\\Works\\Diplom-work\\zChemistry_env\\lib\\site-packages\\ipykernel\\kernelbase.py:1202\u001b[0m, in \u001b[0;36mKernel.raw_input\u001b[1;34m(self, prompt)\u001b[0m\n\u001b[0;32m   1200\u001b[0m     msg \u001b[39m=\u001b[39m \u001b[39m\"\u001b[39m\u001b[39mraw_input was called, but this frontend does not support input requests.\u001b[39m\u001b[39m\"\u001b[39m\n\u001b[0;32m   1201\u001b[0m     \u001b[39mraise\u001b[39;00m StdinNotImplementedError(msg)\n\u001b[1;32m-> 1202\u001b[0m \u001b[39mreturn\u001b[39;00m \u001b[39mself\u001b[39;49m\u001b[39m.\u001b[39;49m_input_request(\n\u001b[0;32m   1203\u001b[0m     \u001b[39mstr\u001b[39;49m(prompt),\n\u001b[0;32m   1204\u001b[0m     \u001b[39mself\u001b[39;49m\u001b[39m.\u001b[39;49m_parent_ident[\u001b[39m\"\u001b[39;49m\u001b[39mshell\u001b[39;49m\u001b[39m\"\u001b[39;49m],\n\u001b[0;32m   1205\u001b[0m     \u001b[39mself\u001b[39;49m\u001b[39m.\u001b[39;49mget_parent(\u001b[39m\"\u001b[39;49m\u001b[39mshell\u001b[39;49m\u001b[39m\"\u001b[39;49m),\n\u001b[0;32m   1206\u001b[0m     password\u001b[39m=\u001b[39;49m\u001b[39mFalse\u001b[39;49;00m,\n\u001b[0;32m   1207\u001b[0m )\n",
      "File \u001b[1;32md:\\Works\\Diplom-work\\zChemistry_env\\lib\\site-packages\\ipykernel\\kernelbase.py:1245\u001b[0m, in \u001b[0;36mKernel._input_request\u001b[1;34m(self, prompt, ident, parent, password)\u001b[0m\n\u001b[0;32m   1242\u001b[0m \u001b[39mexcept\u001b[39;00m \u001b[39mKeyboardInterrupt\u001b[39;00m:\n\u001b[0;32m   1243\u001b[0m     \u001b[39m# re-raise KeyboardInterrupt, to truncate traceback\u001b[39;00m\n\u001b[0;32m   1244\u001b[0m     msg \u001b[39m=\u001b[39m \u001b[39m\"\u001b[39m\u001b[39mInterrupted by user\u001b[39m\u001b[39m\"\u001b[39m\n\u001b[1;32m-> 1245\u001b[0m     \u001b[39mraise\u001b[39;00m \u001b[39mKeyboardInterrupt\u001b[39;00m(msg) \u001b[39mfrom\u001b[39;00m \u001b[39mNone\u001b[39;00m\n\u001b[0;32m   1246\u001b[0m \u001b[39mexcept\u001b[39;00m \u001b[39mException\u001b[39;00m:\n\u001b[0;32m   1247\u001b[0m     \u001b[39mself\u001b[39m\u001b[39m.\u001b[39mlog\u001b[39m.\u001b[39mwarning(\u001b[39m\"\u001b[39m\u001b[39mInvalid Message:\u001b[39m\u001b[39m\"\u001b[39m, exc_info\u001b[39m=\u001b[39m\u001b[39mTrue\u001b[39;00m)\n",
      "\u001b[1;31mKeyboardInterrupt\u001b[0m: Interrupted by user"
     ]
    }
   ],
   "source": [
    "tools.temporal_base_plot(exp2)"
   ]
  }
 ],
 "metadata": {
  "kernelspec": {
   "display_name": "Python 3.10.0 ('zChemistry_env': venv)",
   "language": "python",
   "name": "python3"
  },
  "language_info": {
   "codemirror_mode": {
    "name": "ipython",
    "version": 3
   },
   "file_extension": ".py",
   "mimetype": "text/x-python",
   "name": "python",
   "nbconvert_exporter": "python",
   "pygments_lexer": "ipython3",
   "version": "3.10.0"
  },
  "orig_nbformat": 4,
  "vscode": {
   "interpreter": {
    "hash": "65e3ff7ea178c0cc827c55669acecc2d3bcf4faf0bb1a0873412f31fa3e54b71"
   }
  }
 },
 "nbformat": 4,
 "nbformat_minor": 2
}

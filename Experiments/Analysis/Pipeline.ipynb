{
 "cells": [
  {
   "cell_type": "code",
   "execution_count": 1,
   "metadata": {},
   "outputs": [],
   "source": [
    "import numpy as np\n",
    "import pandas as pd\n",
    "from mylibs import tools, functions as f"
   ]
  },
  {
   "cell_type": "code",
   "execution_count": 2,
   "metadata": {},
   "outputs": [],
   "source": [
    "%matplotlib qt"
   ]
  },
  {
   "cell_type": "code",
   "execution_count": 4,
   "metadata": {},
   "outputs": [
    {
     "data": {
      "text/plain": [
       "<mylibs.tools.Experiment at 0x1c887ea2410>"
      ]
     },
     "execution_count": 4,
     "metadata": {},
     "output_type": "execute_result"
    }
   ],
   "source": [
    "exp = tools.Experiment()\n",
    "exp.load_csv(tools.input_path())\n",
    "exp.set_info(\n",
    "    compound=input('Compound: '),\n",
    "    rho=float(input('Rho: ')),\n",
    "    w=float(input('W mass: ')),\n",
    ")\n",
    "tools.temporal_plot(exp,ylabel='Viscosity [cP]')\n"
   ]
  },
  {
   "cell_type": "code",
   "execution_count": 19,
   "metadata": {},
   "outputs": [
    {
     "data": {
      "text/html": [
       "<div>\n",
       "<style scoped>\n",
       "    .dataframe tbody tr th:only-of-type {\n",
       "        vertical-align: middle;\n",
       "    }\n",
       "\n",
       "    .dataframe tbody tr th {\n",
       "        vertical-align: top;\n",
       "    }\n",
       "\n",
       "    .dataframe thead th {\n",
       "        text-align: right;\n",
       "    }\n",
       "</style>\n",
       "<table border=\"1\" class=\"dataframe\">\n",
       "  <thead>\n",
       "    <tr style=\"text-align: right;\">\n",
       "      <th></th>\n",
       "      <th>time</th>\n",
       "      <th>y</th>\n",
       "      <th>Viscosity_verbose</th>\n",
       "      <th>x</th>\n",
       "      <th>Temperature_verbose</th>\n",
       "    </tr>\n",
       "  </thead>\n",
       "  <tbody>\n",
       "    <tr>\n",
       "      <th>0</th>\n",
       "      <td>1.0</td>\n",
       "      <td>831.980284</td>\n",
       "      <td>OK</td>\n",
       "      <td>13.8</td>\n",
       "      <td>OK</td>\n",
       "    </tr>\n",
       "    <tr>\n",
       "      <th>1</th>\n",
       "      <td>2.0</td>\n",
       "      <td>831.980284</td>\n",
       "      <td>OK</td>\n",
       "      <td>13.8</td>\n",
       "      <td>OK</td>\n",
       "    </tr>\n",
       "    <tr>\n",
       "      <th>2</th>\n",
       "      <td>3.0</td>\n",
       "      <td>831.980284</td>\n",
       "      <td>OK</td>\n",
       "      <td>13.8</td>\n",
       "      <td>OK</td>\n",
       "    </tr>\n",
       "    <tr>\n",
       "      <th>3</th>\n",
       "      <td>4.0</td>\n",
       "      <td>830.775912</td>\n",
       "      <td>image_sweep_check</td>\n",
       "      <td>13.8</td>\n",
       "      <td>OK</td>\n",
       "    </tr>\n",
       "    <tr>\n",
       "      <th>4</th>\n",
       "      <td>5.0</td>\n",
       "      <td>830.775912</td>\n",
       "      <td>image_sweep_check</td>\n",
       "      <td>13.8</td>\n",
       "      <td>OK</td>\n",
       "    </tr>\n",
       "    <tr>\n",
       "      <th>...</th>\n",
       "      <td>...</td>\n",
       "      <td>...</td>\n",
       "      <td>...</td>\n",
       "      <td>...</td>\n",
       "      <td>...</td>\n",
       "    </tr>\n",
       "    <tr>\n",
       "      <th>18502</th>\n",
       "      <td>19333.0</td>\n",
       "      <td>6863.238512</td>\n",
       "      <td>OK</td>\n",
       "      <td>40.5</td>\n",
       "      <td>OK</td>\n",
       "    </tr>\n",
       "    <tr>\n",
       "      <th>18503</th>\n",
       "      <td>19334.0</td>\n",
       "      <td>6818.478261</td>\n",
       "      <td>OK</td>\n",
       "      <td>40.5</td>\n",
       "      <td>OK</td>\n",
       "    </tr>\n",
       "    <tr>\n",
       "      <th>18504</th>\n",
       "      <td>19335.0</td>\n",
       "      <td>6878.289474</td>\n",
       "      <td>OK</td>\n",
       "      <td>40.5</td>\n",
       "      <td>image_sweep_check</td>\n",
       "    </tr>\n",
       "    <tr>\n",
       "      <th>18505</th>\n",
       "      <td>19336.0</td>\n",
       "      <td>6863.238512</td>\n",
       "      <td>OK</td>\n",
       "      <td>40.5</td>\n",
       "      <td>OK</td>\n",
       "    </tr>\n",
       "    <tr>\n",
       "      <th>18506</th>\n",
       "      <td>19337.0</td>\n",
       "      <td>6818.478261</td>\n",
       "      <td>OK</td>\n",
       "      <td>40.5</td>\n",
       "      <td>OK</td>\n",
       "    </tr>\n",
       "  </tbody>\n",
       "</table>\n",
       "<p>14723 rows × 5 columns</p>\n",
       "</div>"
      ],
      "text/plain": [
       "          time            y  Viscosity_verbose     x Temperature_verbose\n",
       "0          1.0   831.980284                 OK  13.8                  OK\n",
       "1          2.0   831.980284                 OK  13.8                  OK\n",
       "2          3.0   831.980284                 OK  13.8                  OK\n",
       "3          4.0   830.775912  image_sweep_check  13.8                  OK\n",
       "4          5.0   830.775912  image_sweep_check  13.8                  OK\n",
       "...        ...          ...                ...   ...                 ...\n",
       "18502  19333.0  6863.238512                 OK  40.5                  OK\n",
       "18503  19334.0  6818.478261                 OK  40.5                  OK\n",
       "18504  19335.0  6878.289474                 OK  40.5   image_sweep_check\n",
       "18505  19336.0  6863.238512                 OK  40.5                  OK\n",
       "18506  19337.0  6818.478261                 OK  40.5                  OK\n",
       "\n",
       "[14723 rows x 5 columns]"
      ]
     },
     "execution_count": 19,
     "metadata": {},
     "output_type": "execute_result"
    }
   ],
   "source": [
    "tmp=tools.Experiment()\n",
    "tmp.load_hdf5(tools.input_path())"
   ]
  },
  {
   "cell_type": "code",
   "execution_count": 20,
   "metadata": {},
   "outputs": [
    {
     "data": {
      "text/plain": [
       "{'compound': 'ocm',\n",
       " 'rho': 1.72,\n",
       " 'w': 0.0,\n",
       " 'D0': 58053559827657.89,\n",
       " 'f_statistic': 3029495.381638645,\n",
       " 'r2': 0.9951642727866552,\n",
       " 'E': 59372.593499571696,\n",
       " 'dD0': 2256959362103.371,\n",
       " 'dE': 95.76658562539887}"
      ]
     },
     "execution_count": 20,
     "metadata": {},
     "output_type": "execute_result"
    }
   ],
   "source": [
    "tmp.info"
   ]
  },
  {
   "cell_type": "code",
   "execution_count": 21,
   "metadata": {},
   "outputs": [
    {
     "data": {
      "text/plain": [
       "[('csv loaded',\n",
       "  'D:\\\\WORKS\\\\Diplom-work\\\\Experiments\\\\OCM_viscosity\\\\OCM0\\\\data_OCM0_up.csv'),\n",
       " ('initial_filter', {'time': [0.0, inf], 'y': [40.0, 350.0], 'x': (12, 42)}),\n",
       " ('C_to_K', []),\n",
       " ('nu_D', []),\n",
       " ('linearize', []),\n",
       " ('iqr_filter', []),\n",
       " ('delinearize', []),\n",
       " ('K_to_C', []),\n",
       " ('hdf5 loaded',\n",
       "  'D:\\\\Works\\\\Diplom-work\\\\Experiments\\\\OCM_viscosity\\\\OCM0\\\\data_OCM0_up.hdf5')]"
      ]
     },
     "execution_count": 21,
     "metadata": {},
     "output_type": "execute_result"
    }
   ],
   "source": [
    "tmp.log"
   ]
  },
  {
   "cell_type": "code",
   "execution_count": 5,
   "metadata": {},
   "outputs": [],
   "source": [
    "exp = tools.configurate_data(exp)"
   ]
  },
  {
   "cell_type": "code",
   "execution_count": 18,
   "metadata": {},
   "outputs": [
    {
     "data": {
      "text/plain": [
       "{}"
      ]
     },
     "execution_count": 18,
     "metadata": {},
     "output_type": "execute_result"
    }
   ],
   "source": [
    "exp.info"
   ]
  },
  {
   "cell_type": "code",
   "execution_count": 16,
   "metadata": {},
   "outputs": [
    {
     "data": {
      "text/plain": [
       "[('csv loaded',\n",
       "  'D:\\\\WORKS\\\\Diplom-work\\\\Experiments\\\\OCM_viscosity\\\\OCM0\\\\data_OCM0_up.csv'),\n",
       " ('initial_filter', {'time': [0.0, inf], 'y': [40.0, 350.0], 'x': (12, 42)}),\n",
       " ('C_to_K', []),\n",
       " ('nu_D', []),\n",
       " ('linearize', []),\n",
       " ('iqr_filter', []),\n",
       " ('delinearize', []),\n",
       " ('K_to_C', []),\n",
       " ('hdf5 loaded',\n",
       "  'D:\\\\Works\\\\Diplom-work\\\\Experiments\\\\OCM_viscosity\\\\OCM0\\\\data_OCM0_up.hdf5')]"
      ]
     },
     "execution_count": 16,
     "metadata": {},
     "output_type": "execute_result"
    }
   ],
   "source": [
    "exp.log"
   ]
  },
  {
   "cell_type": "code",
   "execution_count": 33,
   "metadata": {},
   "outputs": [],
   "source": [
    "tmp_exp =exp.copy()"
   ]
  },
  {
   "cell_type": "code",
   "execution_count": 34,
   "metadata": {},
   "outputs": [],
   "source": [
    "tools.temperature_plot(\n",
    "    exp,\n",
    "    title='Viscosity',\n",
    "    xlabel='Temperature [C]',\n",
    "    ylabel='Viscosity [cP]',\n",
    "    interactive=True,\n",
    "    save=True,\n",
    ")\n"
   ]
  },
  {
   "cell_type": "code",
   "execution_count": 35,
   "metadata": {},
   "outputs": [
    {
     "name": "stdout",
     "output_type": "stream",
     "text": [
      "Filtered\n"
     ]
    }
   ],
   "source": [
    "exp.apply(f.C_to_K)\n",
    "exp.apply(f.nu_D)\n",
    "exp.apply(f.linearize)\n",
    "exp.group_filter(f.iqr_filter)\n",
    "exp.apply(f.delinearize)\n",
    "exp.apply(f.nu_D)\n",
    "exp.apply(f.K_to_C)\n",
    "print('Filtered')\n",
    "tools.temperature_plot(\n",
    "    exp,\n",
    "    title='Viscosity clear',\n",
    "    xlabel='Temperature [C]',\n",
    "    ylabel='Viscosity [cP]',\n",
    "    interactive=True,\n",
    "    save=True,\n",
    ")"
   ]
  },
  {
   "cell_type": "code",
   "execution_count": 39,
   "metadata": {},
   "outputs": [],
   "source": [
    "exp.apply(f.C_to_K)\n",
    "exp.apply(f.nu_D)\n",
    "exp.apply(f.K_to_C)\n",
    "tools.temperature_plot(\n",
    "    exp,\n",
    "    title='Diffusion',\n",
    "    xlabel='Temperature [C]',\n",
    "    ylabel='D [m2/s]',\n",
    "    interactive=True,\n",
    "    save=True\n",
    ")"
   ]
  },
  {
   "cell_type": "code",
   "execution_count": 27,
   "metadata": {},
   "outputs": [],
   "source": [
    "info, result, func = tools.regress(exp)\n",
    "exp.set_info(**info)\n",
    "x = np.linspace(13, 42, 100) + 273.15\n",
    "ols_res = tools.Experiment(\n",
    "    pd.DataFrame({\n",
    "        'x': x, 'y': func(x), 'time': x * 0\n",
    "    }),\n",
    "    'interpolated',\n",
    ")\n",
    "\n",
    "ols_res.apply(f.K_to_C);"
   ]
  },
  {
   "cell_type": "code",
   "execution_count": 28,
   "metadata": {},
   "outputs": [],
   "source": [
    "exp2= exp.copy()\n",
    "ols_res2 = ols_res.copy()\n",
    "exp2.apply(f.C_to_K)\n",
    "ols_res2.apply(f.C_to_K)\n",
    "exp2.apply(f.linearize)\n",
    "ols_res2.apply(f.linearize)\n",
    "\n",
    "tools.comparation_plot(\n",
    "    exp2,\n",
    "    ols_res2,\n",
    "    title='OLS_Linear',\n",
    "    xlabel='Temperature',\n",
    "    ylabel='D',\n",
    "    interactive=True,\n",
    "    save=True,\n",
    ")"
   ]
  },
  {
   "cell_type": "code",
   "execution_count": 30,
   "metadata": {},
   "outputs": [],
   "source": [
    "tools.comparation_plot(\n",
    "    exp,\n",
    "    ols_res,\n",
    "    title='OLS_Diffusion',\n",
    "    xlabel='Temperature [C]',\n",
    "    ylabel='D [m2/s]',\n",
    "    interactive=True,\n",
    "    save=True,\n",
    ")"
   ]
  },
  {
   "cell_type": "code",
   "execution_count": 50,
   "metadata": {},
   "outputs": [],
   "source": [
    "exp.save_hdf5()"
   ]
  },
  {
   "cell_type": "code",
   "execution_count": 40,
   "metadata": {},
   "outputs": [
    {
     "data": {
      "text/html": [
       "<div>\n",
       "<style scoped>\n",
       "    .dataframe tbody tr th:only-of-type {\n",
       "        vertical-align: middle;\n",
       "    }\n",
       "\n",
       "    .dataframe tbody tr th {\n",
       "        vertical-align: top;\n",
       "    }\n",
       "\n",
       "    .dataframe thead th {\n",
       "        text-align: right;\n",
       "    }\n",
       "</style>\n",
       "<table border=\"1\" class=\"dataframe\">\n",
       "  <thead>\n",
       "    <tr style=\"text-align: right;\">\n",
       "      <th></th>\n",
       "      <th>time</th>\n",
       "      <th>y</th>\n",
       "      <th>Viscosity_verbose</th>\n",
       "      <th>x</th>\n",
       "      <th>Temperature_verbose</th>\n",
       "    </tr>\n",
       "  </thead>\n",
       "  <tbody>\n",
       "    <tr>\n",
       "      <th>0</th>\n",
       "      <td>1.0</td>\n",
       "      <td>831.980284</td>\n",
       "      <td>OK</td>\n",
       "      <td>13.8</td>\n",
       "      <td>OK</td>\n",
       "    </tr>\n",
       "    <tr>\n",
       "      <th>1</th>\n",
       "      <td>2.0</td>\n",
       "      <td>831.980284</td>\n",
       "      <td>OK</td>\n",
       "      <td>13.8</td>\n",
       "      <td>OK</td>\n",
       "    </tr>\n",
       "    <tr>\n",
       "      <th>2</th>\n",
       "      <td>3.0</td>\n",
       "      <td>831.980284</td>\n",
       "      <td>OK</td>\n",
       "      <td>13.8</td>\n",
       "      <td>OK</td>\n",
       "    </tr>\n",
       "    <tr>\n",
       "      <th>3</th>\n",
       "      <td>4.0</td>\n",
       "      <td>830.775912</td>\n",
       "      <td>image_sweep_check</td>\n",
       "      <td>13.8</td>\n",
       "      <td>OK</td>\n",
       "    </tr>\n",
       "    <tr>\n",
       "      <th>4</th>\n",
       "      <td>5.0</td>\n",
       "      <td>830.775912</td>\n",
       "      <td>image_sweep_check</td>\n",
       "      <td>13.8</td>\n",
       "      <td>OK</td>\n",
       "    </tr>\n",
       "    <tr>\n",
       "      <th>...</th>\n",
       "      <td>...</td>\n",
       "      <td>...</td>\n",
       "      <td>...</td>\n",
       "      <td>...</td>\n",
       "      <td>...</td>\n",
       "    </tr>\n",
       "    <tr>\n",
       "      <th>18502</th>\n",
       "      <td>19333.0</td>\n",
       "      <td>6863.238512</td>\n",
       "      <td>OK</td>\n",
       "      <td>40.5</td>\n",
       "      <td>OK</td>\n",
       "    </tr>\n",
       "    <tr>\n",
       "      <th>18503</th>\n",
       "      <td>19334.0</td>\n",
       "      <td>6818.478261</td>\n",
       "      <td>OK</td>\n",
       "      <td>40.5</td>\n",
       "      <td>OK</td>\n",
       "    </tr>\n",
       "    <tr>\n",
       "      <th>18504</th>\n",
       "      <td>19335.0</td>\n",
       "      <td>6878.289474</td>\n",
       "      <td>OK</td>\n",
       "      <td>40.5</td>\n",
       "      <td>image_sweep_check</td>\n",
       "    </tr>\n",
       "    <tr>\n",
       "      <th>18505</th>\n",
       "      <td>19336.0</td>\n",
       "      <td>6863.238512</td>\n",
       "      <td>OK</td>\n",
       "      <td>40.5</td>\n",
       "      <td>OK</td>\n",
       "    </tr>\n",
       "    <tr>\n",
       "      <th>18506</th>\n",
       "      <td>19337.0</td>\n",
       "      <td>6818.478261</td>\n",
       "      <td>OK</td>\n",
       "      <td>40.5</td>\n",
       "      <td>OK</td>\n",
       "    </tr>\n",
       "  </tbody>\n",
       "</table>\n",
       "<p>14723 rows × 5 columns</p>\n",
       "</div>"
      ],
      "text/plain": [
       "          time            y  Viscosity_verbose     x Temperature_verbose\n",
       "0          1.0   831.980284                 OK  13.8                  OK\n",
       "1          2.0   831.980284                 OK  13.8                  OK\n",
       "2          3.0   831.980284                 OK  13.8                  OK\n",
       "3          4.0   830.775912  image_sweep_check  13.8                  OK\n",
       "4          5.0   830.775912  image_sweep_check  13.8                  OK\n",
       "...        ...          ...                ...   ...                 ...\n",
       "18502  19333.0  6863.238512                 OK  40.5                  OK\n",
       "18503  19334.0  6818.478261                 OK  40.5                  OK\n",
       "18504  19335.0  6878.289474                 OK  40.5   image_sweep_check\n",
       "18505  19336.0  6863.238512                 OK  40.5                  OK\n",
       "18506  19337.0  6818.478261                 OK  40.5                  OK\n",
       "\n",
       "[14723 rows x 5 columns]"
      ]
     },
     "execution_count": 40,
     "metadata": {},
     "output_type": "execute_result"
    }
   ],
   "source": [
    "exp.d"
   ]
  }
 ],
 "metadata": {
  "kernelspec": {
   "display_name": "Python 3.10.0 ('zChemistry_env': venv)",
   "language": "python",
   "name": "python3"
  },
  "language_info": {
   "codemirror_mode": {
    "name": "ipython",
    "version": 3
   },
   "file_extension": ".py",
   "mimetype": "text/x-python",
   "name": "python",
   "nbconvert_exporter": "python",
   "pygments_lexer": "ipython3",
   "version": "3.10.0"
  },
  "orig_nbformat": 4,
  "vscode": {
   "interpreter": {
    "hash": "65e3ff7ea178c0cc827c55669acecc2d3bcf4faf0bb1a0873412f31fa3e54b71"
   }
  }
 },
 "nbformat": 4,
 "nbformat_minor": 2
}

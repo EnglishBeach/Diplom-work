{
 "cells": [
  {
   "cell_type": "code",
   "execution_count": 33,
   "metadata": {},
   "outputs": [],
   "source": [
    "import os\n",
    "import copy\n",
    "\n",
    "import pandas as pd\n",
    "import numpy as np\n",
    "import sympy as sp\n",
    "from sklearn import linear_model\n",
    "import statsmodels.api as sm\n",
    "\n",
    "import matplotlib.pyplot as plt\n",
    "from matplotlib.widgets import Slider\n",
    "import seaborn as sns\n",
    "import plotly\n",
    "import plotly.graph_objects as go\n",
    "import plotly.express as px\n",
    "\n",
    "%matplotlib qt\n",
    "pd.set_option('mode.chained_assignment', None)\n",
    "plt.rc('xtick',labelsize=10)\n",
    "plt.rc('ytick',labelsize=10)\n",
    "plt.rc('font', size=10) #controls default text size\n",
    "plt.rc('axes', titlesize=16) #fontsize of the title\n",
    "plt.rc('axes', labelsize=15) #fontsize of the x and y labels\n",
    "plt.rc('legend', fontsize=10)\n",
    "plt.rcParams[\"figure.figsize\"] = (10,7)"
   ]
  },
  {
   "cell_type": "code",
   "execution_count": 37,
   "metadata": {},
   "outputs": [],
   "source": [
    "class XYContainer:\n",
    "\n",
    "    d: pd.DataFrame = None\n",
    "    \n",
    "    def __init__(self, data=None, name=''):\n",
    "        self.d = data\n",
    "        self.folder = None\n",
    "        self.experiment_name = name\n",
    "        self._log = []\n",
    "\n",
    "    @property\n",
    "    def x(self):\n",
    "        return f\"{self._x} [{self._x_sig}]\"\n",
    "\n",
    "    @property\n",
    "    def y(self):\n",
    "        return f\"{self._y} [{self._y_sig}]\"\n",
    "\n",
    "    def logger(func):\n",
    "\n",
    "        def inner_func(self, *args, **kwargs):\n",
    "            res = func(self,*args, **kwargs)\n",
    "            self.log(res)\n",
    "            return \n",
    "\n",
    "        return inner_func\n",
    "    @logger\n",
    "    def load_csv(self, path=''):\n",
    "        path, self.folder, self.experiment_name = self._input_path(path)\n",
    "        self.d = pd.read_csv(path)\n",
    "\n",
    "        print(f'Loaded: {self.experiment_name}')\n",
    "        # self.log()\n",
    "        return f'csv loaded from: {path}'\n",
    "    \n",
    "    def load_hdf5(self, path=''):\n",
    "        path, self.folder, self.experiment_name = self._input_path(path)\n",
    "\n",
    "        with pd.HDFStore(path) as file:\n",
    "            data = file['data']\n",
    "            meta = file.get_storer('data').attrs.meta\n",
    "\n",
    "        self._log.extend(meta['log'])\n",
    "        self.log(f'hdf5 loaded from: {path}')\n",
    "        meta.pop('log')\n",
    "        self.info.update(meta)\n",
    "        return self.d\n",
    "\n",
    "    def dump(self, **kwargs):\n",
    "        path = f'{self.folder}\\{self.experiment_name}'\n",
    "        kwargs.update({'log': self.log()})\n",
    "        with pd.HDFStore(f'{path}.hdf5') as file:\n",
    "            file.put('data', self.d)\n",
    "            file.get_storer('data').attrs.meta = kwargs\n",
    "\n",
    "    def copy(self):\n",
    "        new = copy.deepcopy(self)\n",
    "        return new\n",
    "\n",
    "    def log(self, msg=None):\n",
    "        if msg is not None: self._log.append(msg)\n",
    "        return self._log\n",
    "\n",
    "    @staticmethod\n",
    "    def _input_path(path):\n",
    "        while (path == '') or (not os.path.isfile(path)):\n",
    "            path = input(f\"Input data path: \")\n",
    "        _path_list = (path).split('\\\\')\n",
    "        folder = '\\\\'.join(_path_list[:-1])\n",
    "        experiment_name = _path_list[-1].split('.')[0]\n",
    "        return path, folder, experiment_name\n",
    "\n",
    "\n",
    "class Filters(XYContainer):\n",
    "\n",
    "    def initial_filter(\n",
    "            self,\n",
    "            time_in_minutes=False,\n",
    "            x=(-np.inf, np.inf),\n",
    "            y=(0, np.inf),\n",
    "            time=(0, np.inf),\n",
    "    ):\n",
    "\n",
    "        conditions = dict(x=x, y=y, time=time)\n",
    "        self.d.rename(\n",
    "            columns={\n",
    "                'Temperature': 'x', 'Viscosity': 'y'\n",
    "            },\n",
    "            inplace=True,\n",
    "        )\n",
    "        temperature_cond = ((x[0] < self.d['x']) & (self.d['x'] < x[1]))\n",
    "        viscosity_cond = ((y[0] < self.d['y']) & (self.d['y'] < y[1]))\n",
    "        time_cond = ((time[0] < self.d['time']) & (self.d['time'] < time[1]))\n",
    "\n",
    "        self.d = self.d[temperature_cond & viscosity_cond & time_cond]\n",
    "        if time_in_minutes: self.d['time'] / 60\n",
    "        self.log(('initial_filter', conditions))\n",
    "        return self.d\n",
    "\n",
    "    def mask_filter(\n",
    "        self,\n",
    "        filter_func,\n",
    "        by='x',\n",
    "        column='y',\n",
    "    ):\n",
    "        group = self.d.groupby(by=by)[column]\n",
    "        mask = group.apply(filter_func).droplevel([0]).sort_index().to_numpy()\n",
    "        self.d = self.d[mask]\n",
    "        self.log(('mask_filter', filter_func.__name__))\n",
    "        return self.d\n",
    "\n",
    "\n",
    "class Operations(XYContainer):\n",
    "\n",
    "    def nu_to_diffusion(self):\n",
    "        k = 1.380649 * 1e-23\n",
    "        df = self.d\n",
    "        df['x'] = df['x'] + 273.15\n",
    "        df['y'] = k * df['x'] / (df['y'] * 0.001)\n",
    "\n",
    "        self._x, self._x_sig = x_T, c_K\n",
    "        self._y, self._y_sig = x_D, c_m2s\n",
    "        self.log('to_diffusion')\n",
    "        return self.d\n",
    "\n",
    "    def K_to_C(self):\n",
    "        df = self.d\n",
    "        df['x'] = df['x'] - 273.15\n",
    "        return self.d\n",
    "\n",
    "    def linearize(self):\n",
    "        T_func = lambda t: 1 / t\n",
    "        v_func = lambda nu: np.log(nu)\n",
    "        df = self.d\n",
    "        df['x'] = df['x'].apply(T_func)\n",
    "        df['y'] = df['y'].apply(v_func)\n",
    "\n",
    "        self._x, self._x_sig = 1 / self._x, 1 / self._x_sig\n",
    "        self._y, self._y_sig = sp.ln(self._y), sp.ln(self._y_sig)\n",
    "        self.log('linearize')\n",
    "        return self.d\n",
    "\n",
    "    def delinearize(self):\n",
    "        t_func = lambda T: 1 / T\n",
    "        nu_func = lambda v: np.exp(v)\n",
    "        self.d['x'] = self.d['x'].apply(t_func)\n",
    "        self.d['y'] = self.d['y'].apply(nu_func)\n",
    "\n",
    "        self._x, self._x_sig = 1 / self._x, 1 / self._x_sig\n",
    "        self._y, self._y_sig = sp.E**(self._y), sp.E**(self._y_sig)\n",
    "        self.log('delinearize')\n",
    "        return self.d\n",
    "\n",
    "\n",
    "class Container(Filters, Operations):\n",
    "    ..."
   ]
  },
  {
   "cell_type": "code",
   "execution_count": 38,
   "metadata": {},
   "outputs": [
    {
     "name": "stdout",
     "output_type": "stream",
     "text": [
      "Loaded: Exp0_up\n"
     ]
    }
   ],
   "source": [
    "a = Container()\n",
    "a.load_csv()"
   ]
  },
  {
   "cell_type": "code",
   "execution_count": 39,
   "metadata": {},
   "outputs": [
    {
     "data": {
      "text/plain": [
       "['csv loaded from: D:\\\\Works\\\\Diplom-work\\\\Experiments\\\\MultiplyTemperature\\\\Exp0(0)\\\\Exp0_up.csv']"
      ]
     },
     "execution_count": 39,
     "metadata": {},
     "output_type": "execute_result"
    }
   ],
   "source": [
    "a.log()"
   ]
  },
  {
   "cell_type": "code",
   "execution_count": null,
   "metadata": {},
   "outputs": [],
   "source": [
    "## Filtration\n",
    "def z_filter(data: pd.Series):\n",
    "    mean = data.mean()\n",
    "    s = data.std(ddof=0) + 1e-50\n",
    "    z_score = np.abs((data-mean) / s) < 1\n",
    "    return z_score\n",
    "\n",
    "\n",
    "# def z_filter(data: pd.Series):\n",
    "#     return stats.zscore(data)<1\n",
    "\n",
    "\n",
    "def whisker_iqr_filter(data: pd.Series):\n",
    "    whisker_width = 0.5\n",
    "    q1 = data.quantile(0.25)\n",
    "    q3 = data.quantile(0.75)\n",
    "    iqr = q3 - q1\n",
    "    return (data >= q1 - whisker_width*iqr) & (data <= q3 + whisker_width*iqr)\n",
    "\n",
    "\n",
    "def iqr_filter(data: pd.Series):\n",
    "    q1 = data.quantile(0.25)\n",
    "    q3 = data.quantile(0.75)\n",
    "    iqr = q3 - q1\n",
    "\n",
    "    return np.abs((data - data.median()) / iqr) < 1\n",
    "\n",
    "\n",
    "def my_z_filter(data: pd.Series):\n",
    "    mean = data.median()\n",
    "    s = data.std() + 1e-50\n",
    "    z_score = np.abs((data-mean) / s) < 0.1\n",
    "    return z_score\n"
   ]
  },
  {
   "cell_type": "markdown",
   "metadata": {},
   "source": [
    "# Pipeline"
   ]
  },
  {
   "cell_type": "code",
   "execution_count": 1,
   "metadata": {},
   "outputs": [],
   "source": [
    "import pint"
   ]
  },
  {
   "cell_type": "code",
   "execution_count": 2,
   "metadata": {},
   "outputs": [],
   "source": [
    "u= pint.UnitRegistry()"
   ]
  },
  {
   "cell_type": "code",
   "execution_count": 5,
   "metadata": {},
   "outputs": [],
   "source": [
    "a= 25*u.m"
   ]
  },
  {
   "cell_type": "code",
   "execution_count": 10,
   "metadata": {},
   "outputs": [],
   "source": [
    "import numpy as np\n",
    "t= np.linspace(0,10,100)*u.m"
   ]
  },
  {
   "cell_type": "code",
   "execution_count": 18,
   "metadata": {},
   "outputs": [],
   "source": [
    "import pandas as pd"
   ]
  },
  {
   "cell_type": "code",
   "execution_count": 49,
   "metadata": {},
   "outputs": [],
   "source": [
    "df= pd.DataFrame(\n",
    "    {'a':[u.m],\n",
    "     'b':[u.s]}\n",
    ")"
   ]
  },
  {
   "cell_type": "code",
   "execution_count": 60,
   "metadata": {},
   "outputs": [
    {
     "data": {
      "text/plain": [
       "0    1000 meter\n",
       "Name: a, dtype: object"
      ]
     },
     "execution_count": 60,
     "metadata": {},
     "output_type": "execute_result"
    }
   ],
   "source": []
  },
  {
   "cell_type": "code",
   "execution_count": null,
   "metadata": {},
   "outputs": [],
   "source": [
    "results = pd.DataFrame(\n",
    "    columns=['E_J', 'dE_J', 'D0_m2s', 'dD0', 'name', 'w_mass', 'desc'])"
   ]
  },
  {
   "cell_type": "code",
   "execution_count": null,
   "metadata": {},
   "outputs": [],
   "source": [
    "results.to_excel(r'..\\Experiments\\MultiplyTemperature\\Results.xlsx')"
   ]
  },
  {
   "cell_type": "code",
   "execution_count": 41,
   "metadata": {},
   "outputs": [
    {
     "name": "stdout",
     "output_type": "stream",
     "text": [
      "Loaded: Exp0_up\n"
     ]
    },
    {
     "data": {
      "text/plain": [
       "'Exp0_up'"
      ]
     },
     "execution_count": 41,
     "metadata": {},
     "output_type": "execute_result"
    }
   ],
   "source": [
    "a = Container()\n",
    "a.load_csv()\n",
    "\n",
    "fig, ax_v = plt.subplots()\n",
    "ax_T = ax_v.twinx()\n",
    "ax_v.scatter( a.d['time'],  a.d['Viscosity'], color='red', marker='.')\n",
    "ax_v.set_ylabel('Viscosity [cP]', color='red')\n",
    "ax_v.set_xlabel('time [s]')\n",
    "ax_T.scatter( a.d['time'],  a.d['Temperature'], color='blue', marker='.')\n",
    "ax_T.set_ylabel('Temperature [C]', color='blue')\n",
    "a.experiment_name"
   ]
  },
  {
   "cell_type": "code",
   "execution_count": 42,
   "metadata": {},
   "outputs": [
    {
     "data": {
      "text/plain": [
       "'Exp0_up'"
      ]
     },
     "execution_count": 42,
     "metadata": {},
     "output_type": "execute_result"
    }
   ],
   "source": [
    "resolved = Container()\n",
    "resolved.load_hdf5(path=a.folder+'\\\\'+a.experiment_name+'.hdf5')\n",
    "resolved.experiment_name"
   ]
  },
  {
   "cell_type": "code",
   "execution_count": 44,
   "metadata": {},
   "outputs": [
    {
     "data": {
      "text/plain": [
       "{'x': (12, 42), 'y': (20, 350), 'time': (0, inf)}"
      ]
     },
     "execution_count": 44,
     "metadata": {},
     "output_type": "execute_result"
    }
   ],
   "source": [
    "h={key.replace('viscosity','y').replace('temperature','x'):value  for key,value in resolved.log()[1][1].items()}\n",
    "h"
   ]
  },
  {
   "cell_type": "code",
   "execution_count": 45,
   "metadata": {},
   "outputs": [],
   "source": [
    "a.initial_filter(**h)\n",
    "base =a.copy()"
   ]
  },
  {
   "cell_type": "code",
   "execution_count": null,
   "metadata": {},
   "outputs": [],
   "source": [
    "##Save Temporal plots\n",
    "plot = a.copy()\n",
    "fig, ax_v = plt.subplots()\n",
    "w = plot.folder.split('(')[1][:-1]\n",
    "ax_v.set_title(f'{plot.experiment_name}: ({w}% mass)')\n",
    "ax_T = ax_v.twinx()\n",
    "\n",
    "ax_v.scatter(plot.d['time'], plot.d['y'], color='red', marker='.')\n",
    "ax_v.set_ylabel(plot.y, color='red')\n",
    "ax_v.set_xlabel('time [s]')\n",
    "\n",
    "ax_T.scatter(plot.d['time'], plot.d['x'], color='blue', marker='.')\n",
    "ax_T.set_ylabel(plot.x, color='blue')\n",
    "\n",
    "fig.savefig(fname=a.folder+r'\\1Temporary.pdf',format='pdf',)"
   ]
  },
  {
   "cell_type": "code",
   "execution_count": 47,
   "metadata": {},
   "outputs": [],
   "source": [
    "##Save Temperature plots\n",
    "plot = a.copy()\n",
    "\n",
    "fig, ax = plt.subplots()\n",
    "w = plot.folder.split('(')[1][:-1]\n",
    "ax.set_title(f'{plot.experiment_name}: ({w}% mass)')\n",
    "colors = plot.d['Viscosity_verbose'].replace({\n",
    "    'OK': 'g',\n",
    "    'OK_inner': 'b',\n",
    "    'image_sweep_check': 'r',\n",
    "    'combine_check': 'w',\n",
    "})\n",
    "ax.set_xlabel(plot.x)\n",
    "ax.set_ylabel(plot.y)\n",
    "\n",
    "ax.scatter(x=plot.d['x'], y=plot.d['y'], c=colors, s=5)\n",
    "\n",
    "sns.lineplot(\n",
    "    ax=ax,\n",
    "    # data=plot.d,\n",
    "    x=plot.d[\"x\"],\n",
    "    y=plot.d[\"y\"],\n",
    "    estimator='mean',\n",
    "    errorbar=(\"sd\", 1),\n",
    "    label='mean',\n",
    ")\n",
    "# sns.lineplot(\n",
    "#     ax=ax,\n",
    "#     data=plot.d,\n",
    "#     x=\"x\",\n",
    "#     y=\"y\",\n",
    "#     errorbar=('pi', 68),\n",
    "#     estimator=\"median\",\n",
    "#     label='median',\n",
    "# )\n",
    "fig.savefig(fname=a.folder+r'\\2Temperature.pdf',format='pdf',)"
   ]
  },
  {
   "cell_type": "code",
   "execution_count": null,
   "metadata": {},
   "outputs": [],
   "source": [
    "a.nu_to_diffusion()\n",
    "a.linearize()\n",
    "a.mask_filter(iqr_filter)"
   ]
  },
  {
   "cell_type": "code",
   "execution_count": null,
   "metadata": {},
   "outputs": [],
   "source": [
    "## Diffusion plot\n",
    "plot = a.copy()\n",
    "fig, ax = plt.subplots()\n",
    "w = plot.folder.split('(')[1][:-1]\n",
    "ax.set_title(f'{plot.experiment_name}: ({w}% mass)')\n",
    "ax.set_xlabel(plot.x)\n",
    "ax.set_ylabel(plot.y)\n",
    "colors = plot.d['Viscosity_verbose'].replace({\n",
    "    'OK': 'g',\n",
    "    'OK_inner': 'b',\n",
    "    'image_sweep_check': 'r',\n",
    "    'combine_check': 'w',\n",
    "})\n",
    "ax.scatter(x=plot.d['x'], y=plot.d['y'], c=colors, s=5)\n",
    "\n",
    "sns.lineplot(\n",
    "    ax=ax,\n",
    "    data=plot.d,\n",
    "    x=\"x\",\n",
    "    y=\"y\",\n",
    "    estimator='mean',\n",
    "    errorbar=(\"sd\", 1),\n",
    "    # err_style=\"bars\",\n",
    "    label='mean',\n",
    ")\n",
    "sns.lineplot(\n",
    "    ax=ax,\n",
    "    data=plot.d,\n",
    "    x=\"x\",\n",
    "    y=\"y\",\n",
    "    errorbar=('pi', 50),\n",
    "    estimator=\"median\",\n",
    "    label='median',\n",
    ")\n",
    "fig.savefig(fname=a.folder+r'\\3Linearized.pdf',format='pdf',)"
   ]
  },
  {
   "cell_type": "code",
   "execution_count": null,
   "metadata": {},
   "outputs": [],
   "source": [
    "##Save fast OLS plot\n",
    "def regress(data):\n",
    "    reg = linear_model.LinearRegression(fit_intercept=True)\n",
    "    X = np.array([data['x']]).T\n",
    "    Y = np.array(data['y'])\n",
    "    reg.fit(X, Y)\n",
    "\n",
    "    w_T = reg.coef_[0]\n",
    "    w_D = reg.intercept_\n",
    "\n",
    "    D0 = np.exp(w_D)\n",
    "    E = -8.314 * w_T \n",
    "\n",
    "    def TC_func(T, E=E, D0=D0):\n",
    "        return D0 * np.exp(-E / (8.314*T))\n",
    "\n",
    "    return D0, E, TC_func\n",
    "\n",
    "\n",
    "fig, ax = plt.subplots()\n",
    "w = plot.folder.split('(')[1][:-1]\n",
    "ax.set_title(f'{plot.experiment_name}: ({w}% mass)')\n",
    "fig.subplots_adjust(\n",
    "    top=0.9,\n",
    "    bottom=0.1,\n",
    "    left=0.1,\n",
    "    right=0.9,\n",
    "    hspace=0.2,\n",
    "    wspace=0.2,\n",
    ")\n",
    "\n",
    "plot = a.copy()\n",
    "ax.scatter(plot.d['x'], plot.d['y'], color='gray', marker='.')\n",
    "D0, E, func = regress(plot.d)\n",
    "sns.regplot(\n",
    "    ax=ax,\n",
    "    data=plot.d,\n",
    "    x='x',\n",
    "    y='y',\n",
    "    scatter=False,\n",
    "    truncate=False,\n",
    "    order=1,\n",
    "    label=f'All:\\nE= {E/1000:5.2f} kJ\\nD= {D0:5.3e} m2*s',\n",
    ")\n",
    "ax.set_xlabel(plot.x)\n",
    "ax.set_ylabel(plot.y)\n",
    "plt.legend()\n",
    "fig.savefig(fname=a.folder+r'\\4OLS.pdf',format='pdf',)"
   ]
  },
  {
   "cell_type": "code",
   "execution_count": null,
   "metadata": {},
   "outputs": [],
   "source": [
    "## Save Comparation plot\n",
    "x = np.linspace(273.15 + 13, 273.15 + 42, 100)\n",
    "ols_res = Container(\n",
    "    pd.DataFrame({\n",
    "        'x': x, 'y': func(x)\n",
    "    }),\n",
    "    x=(x_T, c_K),\n",
    "    y=(x_D, c_m2s),\n",
    ")\n",
    "\n",
    "\n",
    "fig, ax = plt.subplots()\n",
    "w = a.folder.split('(')[1][:-1]\n",
    "ax.set_title(f'{a.experiment_name}: ({w}% mass)')\n",
    "colors = a.d['Viscosity_verbose'].replace({\n",
    "    'OK': 'g',\n",
    "    'OK_inner': 'b',\n",
    "    'image_sweep_check': 'r',\n",
    "    'combine_check': 'w',\n",
    "})\n",
    "\n",
    "\n",
    "plot = a.copy()\n",
    "plot.delinearize()\n",
    "ax.scatter(\n",
    "    x=plot.d['x'],\n",
    "    y=plot.d['y'],\n",
    "    c=colors,\n",
    "    s=5,\n",
    "    label='Real',\n",
    ")\n",
    "ax.set_xlabel(plot.x)\n",
    "ax.set_ylabel(plot.y)\n",
    "\n",
    "res_plot = ols_res.copy()\n",
    "sns.lineplot(\n",
    "    ax=ax,\n",
    "    data=res_plot.d,\n",
    "    x=\"x\",\n",
    "    y=\"y\",\n",
    "    estimator='mean',\n",
    "    label='OLS',\n",
    ")\n",
    "fig.savefig(\n",
    "    fname=a.folder + r'\\5Comparation.pdf',\n",
    "    format='pdf',\n",
    ")\n"
   ]
  },
  {
   "cell_type": "code",
   "execution_count": null,
   "metadata": {},
   "outputs": [],
   "source": [
    "## Regression\n",
    "reg_a = a.copy()\n",
    "\n",
    "df = reg_a.d\n",
    "df['x0'] = 1\n",
    "result_OLS = sm.OLS(df['y'], df[['x', 'x0']]).fit()\n",
    "means = result_OLS.params\n",
    "conf_int = result_OLS.conf_int(0.005).loc\n",
    "\n",
    "conf_int['x0'] = np.exp(conf_int['x0'])\n",
    "D0 = np.exp(means['x0'])\n",
    "dD0 = (conf_int['x0'].max() - conf_int['x0'].min()) / 2\n",
    "nu0_power = round(np.log10(dD0))\n",
    "\n",
    "conf_int['x'] = -8.314 * conf_int['x'] \n",
    "E = -8.314 * means['x'] \n",
    "dE = (conf_int['x'].max() - conf_int['x'].min()) / 2\n",
    "EkJ_power = round(np.log10(dE)) + 1\n",
    "\n",
    "exp_name = reg_a.experiment_name\n",
    "w = reg_a.folder.split('(')[1][:-1]\n",
    "print(\n",
    "    f'Constants {exp_name} ({w}% mass):',\n",
    "    f'E  = {E/10**EkJ_power: <7.3f} ± {dE/10**EkJ_power: <3.2f} J *1e{EkJ_power}',\n",
    "    f'D0 = {D0/10**nu0_power: <7.3f} ± {dD0/10**nu0_power: <3.2f} m2*s *1e{nu0_power}',\n",
    "    sep='\\n',\n",
    ")\n",
    "print(result_OLS.summary2())"
   ]
  },
  {
   "cell_type": "code",
   "execution_count": null,
   "metadata": {},
   "outputs": [],
   "source": [
    "## Save result\n",
    "desc = input('Description')\n",
    "results.loc[len(results)] = [\n",
    "    E, dE, D0, dD0, reg_a.experiment_name, w, desc\n",
    "]\n",
    "reg_a.dump(**results.loc[len(results) - 1].to_dict())\n",
    "results"
   ]
  },
  {
   "cell_type": "code",
   "execution_count": null,
   "metadata": {},
   "outputs": [],
   "source": []
  }
 ],
 "metadata": {
  "kernelspec": {
   "display_name": "Python 3.10.0 ('zChemistry_env': venv)",
   "language": "python",
   "name": "python3"
  },
  "language_info": {
   "codemirror_mode": {
    "name": "ipython",
    "version": 3
   },
   "file_extension": ".py",
   "mimetype": "text/x-python",
   "name": "python",
   "nbconvert_exporter": "python",
   "pygments_lexer": "ipython3",
   "version": "3.10.0"
  },
  "orig_nbformat": 4,
  "vscode": {
   "interpreter": {
    "hash": "65e3ff7ea178c0cc827c55669acecc2d3bcf4faf0bb1a0873412f31fa3e54b71"
   }
  }
 },
 "nbformat": 4,
 "nbformat_minor": 2
}

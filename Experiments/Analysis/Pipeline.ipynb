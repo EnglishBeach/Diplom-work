{
 "cells": [
  {
   "cell_type": "code",
   "execution_count": 38,
   "metadata": {},
   "outputs": [],
   "source": [
    "import numpy as np\n",
    "import pandas as pd\n",
    "from mylibs import tools, functions as f"
   ]
  },
  {
   "cell_type": "code",
   "execution_count": 39,
   "metadata": {},
   "outputs": [],
   "source": [
    "%matplotlib qt"
   ]
  },
  {
   "cell_type": "code",
   "execution_count": 41,
   "metadata": {},
   "outputs": [],
   "source": [
    "exp = tools.Experiment()\n",
    "exp.load_csv(tools.input_path())\n",
    "tools.temporal_plot(exp,ylabel='Viscosity [cP]')\n",
    "exp.set_info(\n",
    "    compound=input('Compound: '),\n",
    "    rho=float(input('Rho: ')),\n",
    "    w=float(input('W mass: ')),\n",
    ")"
   ]
  },
  {
   "cell_type": "code",
   "execution_count": 42,
   "metadata": {},
   "outputs": [],
   "source": [
    "exp = tools.configurate_data(exp)"
   ]
  },
  {
   "cell_type": "code",
   "execution_count": 43,
   "metadata": {},
   "outputs": [],
   "source": [
    "tools.temperature_plot(\n",
    "    exp,\n",
    "    title='Viscosity',\n",
    "    xlabel='Temperature [C]',\n",
    "    ylabel='Viscosity [cP]',\n",
    "    interactive=True,\n",
    ")\n"
   ]
  },
  {
   "cell_type": "code",
   "execution_count": 44,
   "metadata": {},
   "outputs": [
    {
     "name": "stdout",
     "output_type": "stream",
     "text": [
      "Filtered\n"
     ]
    }
   ],
   "source": [
    "exp.apply(f.C_to_K)\n",
    "exp.apply(f.nu_D)\n",
    "exp.apply(f.linearize)\n",
    "exp.group_filter(f.iqr_filter)\n",
    "exp.apply(f.delinearize)\n",
    "exp.apply(f.K_to_C)\n",
    "print('Filtered')"
   ]
  },
  {
   "cell_type": "code",
   "execution_count": 45,
   "metadata": {},
   "outputs": [],
   "source": [
    "tools.temperature_plot(\n",
    "    exp,\n",
    "    title='Diffusion',\n",
    "    xlabel='Temperature [C]',\n",
    "    ylabel='D [m2/s]',\n",
    "    interactive=True,\n",
    ")"
   ]
  },
  {
   "cell_type": "code",
   "execution_count": 46,
   "metadata": {},
   "outputs": [],
   "source": [
    "info, result, func = tools.regress(exp)\n",
    "exp.set_info(**info)\n",
    "x = np.linspace(13, 42, 100) + 273.15\n",
    "ols_res = tools.Experiment(\n",
    "    pd.DataFrame({\n",
    "        'x': x, 'y': func(x), 'time': x * 0\n",
    "    }),\n",
    "    'interpolated',\n",
    ")\n",
    "\n",
    "ols_res.apply(f.K_to_C);"
   ]
  },
  {
   "cell_type": "code",
   "execution_count": 48,
   "metadata": {},
   "outputs": [],
   "source": [
    "exp2= exp.copy()\n",
    "ols_res2 = ols_res.copy()\n",
    "exp2.apply(f.C_to_K)\n",
    "ols_res2.apply(f.C_to_K)\n",
    "exp2.apply(f.linearize)\n",
    "ols_res2.apply(f.linearize)\n",
    "\n",
    "tools.comparation_plot(\n",
    "    exp2,\n",
    "    ols_res2,\n",
    "    title='OLS_Linear',\n",
    "    xlabel='Temperature',\n",
    "    ylabel='D',\n",
    "    interactive=True,\n",
    ")"
   ]
  },
  {
   "cell_type": "code",
   "execution_count": 49,
   "metadata": {},
   "outputs": [],
   "source": [
    "tools.comparation_plot(\n",
    "    exp,\n",
    "    ols_res,\n",
    "    title='OLS_Diffusion',\n",
    "    xlabel='Temperature [C]',\n",
    "    ylabel='D [m2/s]',\n",
    "    interactive=True,\n",
    ")"
   ]
  },
  {
   "cell_type": "code",
   "execution_count": 50,
   "metadata": {},
   "outputs": [],
   "source": [
    "exp.save_hdf5()"
   ]
  },
  {
   "cell_type": "code",
   "execution_count": null,
   "metadata": {},
   "outputs": [],
   "source": []
  }
 ],
 "metadata": {
  "kernelspec": {
   "display_name": "Python 3.10.0 ('zChemistry_env': venv)",
   "language": "python",
   "name": "python3"
  },
  "language_info": {
   "codemirror_mode": {
    "name": "ipython",
    "version": 3
   },
   "file_extension": ".py",
   "mimetype": "text/x-python",
   "name": "python",
   "nbconvert_exporter": "python",
   "pygments_lexer": "ipython3",
   "version": "3.10.0"
  },
  "orig_nbformat": 4,
  "vscode": {
   "interpreter": {
    "hash": "65e3ff7ea178c0cc827c55669acecc2d3bcf4faf0bb1a0873412f31fa3e54b71"
   }
  }
 },
 "nbformat": 4,
 "nbformat_minor": 2
}

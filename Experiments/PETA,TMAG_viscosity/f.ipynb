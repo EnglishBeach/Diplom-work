{
 "cells": [
  {
   "cell_type": "code",
   "execution_count": 1,
   "metadata": {},
   "outputs": [],
   "source": [
    "import shutil\n",
    "import os"
   ]
  },
  {
   "cell_type": "code",
   "execution_count": 10,
   "metadata": {},
   "outputs": [
    {
     "data": {
      "text/plain": [
       "'Exp0_up1.mp4'"
      ]
     },
     "execution_count": 10,
     "metadata": {},
     "output_type": "execute_result"
    }
   ],
   "source": [
    "'raw_Exp0_up1.mp4'[4:]"
   ]
  },
  {
   "cell_type": "code",
   "execution_count": 4,
   "metadata": {},
   "outputs": [],
   "source": [
    "for i in range(5):\n",
    "    shutil.move(f'PETA{i}\\Videos\\z_PETA{i}_up.csv',f'PETA{i}\\data_PETA{i}_up.csv')"
   ]
  },
  {
   "cell_type": "code",
   "execution_count": 18,
   "metadata": {},
   "outputs": [],
   "source": [
    "\n",
    "for i in range(5):\n",
    "    os.rmdir(f'PETA{i}\\PETA{i}_raw')\n",
    "    os.rmdir(f'PETA{i}\\PETA{i}_ready')\n",
    "    \n",
    "        # os.rename(f'OCM{i}\\Videos\\{file}',f'OCM{i}\\Videos\\{file[4:]}')\n",
    "        # os.rename(f'OCM{i}\\OCM{i}_raw\\{file}',f'OCM{i}\\OCM{i}_raw\\raw_{file}')\n"
   ]
  },
  {
   "cell_type": "code",
   "execution_count": 19,
   "metadata": {},
   "outputs": [
    {
     "data": {
      "text/plain": [
       "'OCM8_down.mkv'"
      ]
     },
     "execution_count": 19,
     "metadata": {},
     "output_type": "execute_result"
    }
   ],
   "source": [
    "'Exp8_down.mkv'.replace('Exp','OCM')"
   ]
  },
  {
   "cell_type": "code",
   "execution_count": 22,
   "metadata": {},
   "outputs": [],
   "source": [
    "for i in range(9):\n",
    "    # scv_list = [i for i in os.listdir(f'OCM{i}\\Videos') if '.csv' in i]\n",
    "    # for file in scv_list:\n",
    "    #     shutil.move(f'OCM{i}\\Videos\\{file}',f'OCM{i}\\data_{file[3:]}')\n",
    "    for file in os.listdir(f'OCM{i}'):\n",
    "        rename = file.replace('xp','OCM')\n",
    "        os.rename (f'OCM{i}\\{file}',f'OCM{i}\\{rename}')"
   ]
  },
  {
   "cell_type": "code",
   "execution_count": 1,
   "metadata": {},
   "outputs": [],
   "source": [
    "for i in range(9):\n",
    "    # os.makedirs(f'OCM{i}/PETA{i}_ready')\n",
    "    os.rename(f'OCM{i}\\Ready',f'OCM{i}\\OCM{i}_ready')"
   ]
  },
  {
   "cell_type": "code",
   "execution_count": 1,
   "metadata": {},
   "outputs": [],
   "source": [
    "os.makedirs('test')"
   ]
  }
 ],
 "metadata": {
  "kernelspec": {
   "display_name": "Python 3.10.11 ('zVid_env': venv)",
   "language": "python",
   "name": "python3"
  },
  "language_info": {
   "codemirror_mode": {
    "name": "ipython",
    "version": 3
   },
   "file_extension": ".py",
   "mimetype": "text/x-python",
   "name": "python",
   "nbconvert_exporter": "python",
   "pygments_lexer": "ipython3",
   "version": "3.10.11"
  },
  "orig_nbformat": 4,
  "vscode": {
   "interpreter": {
    "hash": "5946b119aa0342abd5386a0c5beb8d13f5e9da65c541c34995194e58e5a123e1"
   }
  }
 },
 "nbformat": 4,
 "nbformat_minor": 2
}

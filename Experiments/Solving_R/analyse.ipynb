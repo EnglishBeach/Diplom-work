{
 "cells": [
  {
   "cell_type": "code",
   "execution_count": 1,
   "metadata": {},
   "outputs": [],
   "source": [
    "import numpy as np\n",
    "import pandas as pd"
   ]
  },
  {
   "cell_type": "code",
   "execution_count": 2,
   "metadata": {},
   "outputs": [
    {
     "data": {
      "text/html": [
       "<div>\n",
       "<style scoped>\n",
       "    .dataframe tbody tr th:only-of-type {\n",
       "        vertical-align: middle;\n",
       "    }\n",
       "\n",
       "    .dataframe tbody tr th {\n",
       "        vertical-align: top;\n",
       "    }\n",
       "\n",
       "    .dataframe thead th {\n",
       "        text-align: right;\n",
       "    }\n",
       "</style>\n",
       "<table border=\"1\" class=\"dataframe\">\n",
       "  <thead>\n",
       "    <tr style=\"text-align: right;\">\n",
       "      <th></th>\n",
       "      <th>x</th>\n",
       "      <th>Temperature</th>\n",
       "      <th>rho</th>\n",
       "      <th>w_mass</th>\n",
       "      <th>w_vol</th>\n",
       "      <th>D</th>\n",
       "      <th>Viscosity</th>\n",
       "      <th>E</th>\n",
       "      <th>D0</th>\n",
       "      <th>compound</th>\n",
       "      <th>x_exact</th>\n",
       "    </tr>\n",
       "  </thead>\n",
       "  <tbody>\n",
       "    <tr>\n",
       "      <th>0</th>\n",
       "      <td>100.0</td>\n",
       "      <td>15</td>\n",
       "      <td>0.7</td>\n",
       "      <td>100.0</td>\n",
       "      <td>100.0</td>\n",
       "      <td>80056.837868</td>\n",
       "      <td>3.600238</td>\n",
       "      <td>19660.651841</td>\n",
       "      <td>2.942474e+08</td>\n",
       "      <td>butanol</td>\n",
       "      <td>100.0</td>\n",
       "    </tr>\n",
       "    <tr>\n",
       "      <th>1</th>\n",
       "      <td>100.0</td>\n",
       "      <td>20</td>\n",
       "      <td>0.7</td>\n",
       "      <td>100.0</td>\n",
       "      <td>100.0</td>\n",
       "      <td>90518.909212</td>\n",
       "      <td>3.241333</td>\n",
       "      <td>19660.651841</td>\n",
       "      <td>2.942474e+08</td>\n",
       "      <td>butanol</td>\n",
       "      <td>100.0</td>\n",
       "    </tr>\n",
       "  </tbody>\n",
       "</table>\n",
       "</div>"
      ],
      "text/plain": [
       "       x  Temperature  rho  w_mass  w_vol             D  Viscosity  \\\n",
       "0  100.0           15  0.7   100.0  100.0  80056.837868   3.600238   \n",
       "1  100.0           20  0.7   100.0  100.0  90518.909212   3.241333   \n",
       "\n",
       "              E            D0 compound  x_exact  \n",
       "0  19660.651841  2.942474e+08  butanol    100.0  \n",
       "1  19660.651841  2.942474e+08  butanol    100.0  "
      ]
     },
     "execution_count": 2,
     "metadata": {},
     "output_type": "execute_result"
    }
   ],
   "source": [
    "visc =pd.read_csv('viscosity.csv',index_col=0)\n",
    "visc['x_exact']=visc['x']\n",
    "visc['x']= visc['x']//1\n",
    "visc.head(2)"
   ]
  },
  {
   "cell_type": "code",
   "execution_count": 3,
   "metadata": {},
   "outputs": [
    {
     "data": {
      "text/html": [
       "<div>\n",
       "<style scoped>\n",
       "    .dataframe tbody tr th:only-of-type {\n",
       "        vertical-align: middle;\n",
       "    }\n",
       "\n",
       "    .dataframe tbody tr th {\n",
       "        vertical-align: top;\n",
       "    }\n",
       "\n",
       "    .dataframe thead th {\n",
       "        text-align: right;\n",
       "    }\n",
       "</style>\n",
       "<table border=\"1\" class=\"dataframe\">\n",
       "  <thead>\n",
       "    <tr style=\"text-align: right;\">\n",
       "      <th></th>\n",
       "      <th>compound</th>\n",
       "      <th>x</th>\n",
       "      <th>Temperature</th>\n",
       "      <th>D_comp</th>\n",
       "      <th>D_but</th>\n",
       "    </tr>\n",
       "  </thead>\n",
       "  <tbody>\n",
       "    <tr>\n",
       "      <th>0</th>\n",
       "      <td>butanol</td>\n",
       "      <td>100</td>\n",
       "      <td>15</td>\n",
       "      <td>0.415196</td>\n",
       "      <td>0.415196</td>\n",
       "    </tr>\n",
       "    <tr>\n",
       "      <th>1</th>\n",
       "      <td>butanol</td>\n",
       "      <td>100</td>\n",
       "      <td>20</td>\n",
       "      <td>0.505504</td>\n",
       "      <td>0.505504</td>\n",
       "    </tr>\n",
       "  </tbody>\n",
       "</table>\n",
       "</div>"
      ],
      "text/plain": [
       "  compound    x  Temperature    D_comp     D_but\n",
       "0  butanol  100           15  0.415196  0.415196\n",
       "1  butanol  100           20  0.505504  0.505504"
      ]
     },
     "execution_count": 3,
     "metadata": {},
     "output_type": "execute_result"
    }
   ],
   "source": [
    "sim =pd.read_csv('simulations.csv',index_col=0)\n",
    "sim.head(2)"
   ]
  },
  {
   "cell_type": "code",
   "execution_count": 8,
   "metadata": {},
   "outputs": [
    {
     "data": {
      "text/html": [
       "<div>\n",
       "<style scoped>\n",
       "    .dataframe tbody tr th:only-of-type {\n",
       "        vertical-align: middle;\n",
       "    }\n",
       "\n",
       "    .dataframe tbody tr th {\n",
       "        vertical-align: top;\n",
       "    }\n",
       "\n",
       "    .dataframe thead th {\n",
       "        text-align: right;\n",
       "    }\n",
       "</style>\n",
       "<table border=\"1\" class=\"dataframe\">\n",
       "  <thead>\n",
       "    <tr style=\"text-align: right;\">\n",
       "      <th></th>\n",
       "      <th>compound</th>\n",
       "      <th>x</th>\n",
       "      <th>Temperature</th>\n",
       "      <th>D_comp</th>\n",
       "      <th>D_but</th>\n",
       "      <th>rho</th>\n",
       "      <th>w_mass</th>\n",
       "      <th>w_vol</th>\n",
       "      <th>D</th>\n",
       "      <th>Viscosity</th>\n",
       "      <th>E</th>\n",
       "      <th>D0</th>\n",
       "      <th>x_exact</th>\n",
       "    </tr>\n",
       "  </thead>\n",
       "  <tbody>\n",
       "    <tr>\n",
       "      <th>0</th>\n",
       "      <td>butanol</td>\n",
       "      <td>100</td>\n",
       "      <td>15</td>\n",
       "      <td>0.415196</td>\n",
       "      <td>0.415196</td>\n",
       "      <td>0.7</td>\n",
       "      <td>100.0</td>\n",
       "      <td>100.0</td>\n",
       "      <td>80056.837868</td>\n",
       "      <td>3.600238</td>\n",
       "      <td>19660.651841</td>\n",
       "      <td>2.942474e+08</td>\n",
       "      <td>100.0</td>\n",
       "    </tr>\n",
       "    <tr>\n",
       "      <th>1</th>\n",
       "      <td>butanol</td>\n",
       "      <td>100</td>\n",
       "      <td>20</td>\n",
       "      <td>0.505504</td>\n",
       "      <td>0.505504</td>\n",
       "      <td>0.7</td>\n",
       "      <td>100.0</td>\n",
       "      <td>100.0</td>\n",
       "      <td>90518.909212</td>\n",
       "      <td>3.241333</td>\n",
       "      <td>19660.651841</td>\n",
       "      <td>2.942474e+08</td>\n",
       "      <td>100.0</td>\n",
       "    </tr>\n",
       "  </tbody>\n",
       "</table>\n",
       "</div>"
      ],
      "text/plain": [
       "  compound    x  Temperature    D_comp     D_but  rho  w_mass  w_vol  \\\n",
       "0  butanol  100           15  0.415196  0.415196  0.7   100.0  100.0   \n",
       "1  butanol  100           20  0.505504  0.505504  0.7   100.0  100.0   \n",
       "\n",
       "              D  Viscosity             E            D0  x_exact  \n",
       "0  80056.837868   3.600238  19660.651841  2.942474e+08    100.0  \n",
       "1  90518.909212   3.241333  19660.651841  2.942474e+08    100.0  "
      ]
     },
     "execution_count": 8,
     "metadata": {},
     "output_type": "execute_result"
    }
   ],
   "source": [
    "merged = sim.join(visc.set_index(['compound','x','Temperature']),on=['compound','x','Temperature']).dropna()\n",
    "merged.to_csv('merged.csv')\n",
    "merged.head(2)"
   ]
  }
 ],
 "metadata": {
  "kernelspec": {
   "display_name": "Python 3",
   "language": "python",
   "name": "python3"
  },
  "language_info": {
   "codemirror_mode": {
    "name": "ipython",
    "version": 3
   },
   "file_extension": ".py",
   "mimetype": "text/x-python",
   "name": "python",
   "nbconvert_exporter": "python",
   "pygments_lexer": "ipython3",
   "version": "3.10.11"
  }
 },
 "nbformat": 4,
 "nbformat_minor": 2
}

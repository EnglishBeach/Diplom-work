{
 "cells": [
  {
   "cell_type": "code",
   "execution_count": 4,
   "metadata": {},
   "outputs": [],
   "source": [
    "import os\n",
    "import shutil"
   ]
  },
  {
   "cell_type": "code",
   "execution_count": null,
   "metadata": {},
   "outputs": [],
   "source": [
    "\n",
    "# Получаем список файлов и папок в текущей директории\n",
    "files = os.listdir()\n",
    "\n",
    "# Извлекаем только папки\n",
    "folders = [f for f in files if os.path.isdir(f)]\n",
    "\n",
    "# Выводим список папок\n",
    "print(folders)"
   ]
  },
  {
   "cell_type": "code",
   "execution_count": 2,
   "metadata": {},
   "outputs": [
    {
     "data": {
      "text/plain": [
       "['1Temporary.pdf',\n",
       " '2Temperature.pdf',\n",
       " '3Linearized.pdf',\n",
       " '4OLS.pdf',\n",
       " '5Comparation.pdf',\n",
       " 'Exp0(0)_raw',\n",
       " 'Exp0_up.csv',\n",
       " 'Exp0_up.hdf5',\n",
       " 'Ready']"
      ]
     },
     "execution_count": 2,
     "metadata": {},
     "output_type": "execute_result"
    }
   ],
   "source": []
  },
  {
   "cell_type": "code",
   "execution_count": 3,
   "metadata": {},
   "outputs": [
    {
     "data": {
      "text/plain": [
       "['1Temporary.pdf',\n",
       " '2Temperature.pdf',\n",
       " '3Linearized.pdf',\n",
       " '4OLS.pdf',\n",
       " '5Comparation.pdf']"
      ]
     },
     "execution_count": 3,
     "metadata": {},
     "output_type": "execute_result"
    }
   ],
   "source": [
    "[f for f in os.listdir(folders[0]) if f.endswith('.pdf')]"
   ]
  },
  {
   "cell_type": "code",
   "execution_count": 7,
   "metadata": {},
   "outputs": [],
   "source": [
    "for folder in os.listdir():\n",
    "    if os.path.isdir(folder):\n",
    "        \n",
    "        for file in os.listdir(folder):\n",
    "            if file.endswith('.pdf') and file.startswith('5'):\n",
    "                # print(f'{folder}\\{file}', f'copied\\{folder}_{file}')\n",
    "                shutil.copy2(f'{folder}\\{file}', f'copied\\{folder}_{file}')"
   ]
  }
 ],
 "metadata": {
  "kernelspec": {
   "display_name": "Python 3.10.0 ('zVid_env': venv)",
   "language": "python",
   "name": "python3"
  },
  "language_info": {
   "codemirror_mode": {
    "name": "ipython",
    "version": 3
   },
   "file_extension": ".py",
   "mimetype": "text/x-python",
   "name": "python",
   "nbconvert_exporter": "python",
   "pygments_lexer": "ipython3",
   "version": "3.10.0"
  },
  "orig_nbformat": 4,
  "vscode": {
   "interpreter": {
    "hash": "5946b119aa0342abd5386a0c5beb8d13f5e9da65c541c34995194e58e5a123e1"
   }
  }
 },
 "nbformat": 4,
 "nbformat_minor": 2
}

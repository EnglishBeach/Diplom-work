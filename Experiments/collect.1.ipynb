{
 "cells": [
  {
   "cell_type": "code",
   "execution_count": 1,
   "metadata": {},
   "outputs": [],
   "source": [
    "import os\n",
    "from enum import Enum\n",
    "from pathlib import Path\n",
    "\n",
    "import matplotlib.pyplot as plt\n",
    "import numpy as np\n",
    "import pandas as pd\n",
    "from mylibs import functions as funcs\n",
    "from mylibs import plots, tools\n",
    "from mylibs.tools import Experiment, input_path"
   ]
  },
  {
   "cell_type": "code",
   "execution_count": 2,
   "metadata": {},
   "outputs": [],
   "source": [
    "%matplotlib qt"
   ]
  },
  {
   "cell_type": "code",
   "execution_count": 3,
   "metadata": {},
   "outputs": [],
   "source": [
    "viscosity_path=Path('Viscosity')"
   ]
  },
  {
   "cell_type": "code",
   "execution_count": null,
   "metadata": {},
   "outputs": [],
   "source": [
    "folders = [viscosity_path/i\n",
    "    for i in os.listdir(viscosity_path)\n",
    "    if os.path.isdir(viscosity_path/i) ]\n",
    "\n",
    "for folder in folders:\n",
    "    exp = Experiment()\n",
    "\n",
    "    file = [file for file in os.listdir(folder) if \".hdf5\" in file][0]\n",
    "\n",
    "    exp.load_hdf5(input_path(f\"{folder}\\{file}\"))\n",
    "    exp.apply(funcs.C_to_K)\n",
    "    exp.apply(funcs.nu_D)\n",
    "    exp.apply(funcs.K_to_C)\n",
    "    # exp.folder='.'\n",
    "\n",
    "    plots.temperature_plot(\n",
    "        exp,\n",
    "        title=\"Temperature\",\n",
    "        xlabel=\"Temperature [C]\",\n",
    "        ylabel=\"Viscosity [cP]\",\n",
    "        # ylabel='Diffusion [m2/s]',\n",
    "        interactive=True,\n",
    "        save_folder=exp.folder,\n",
    "    )"
   ]
  },
  {
   "cell_type": "code",
   "execution_count": null,
   "metadata": {},
   "outputs": [],
   "source": [
    "exp = Experiment()\n",
    "exp.load_hdf5(input_path())\n",
    "# exp.apply(funcs.C_to_K)\n",
    "# exp.apply(funcs.nu_D)\n",
    "# exp.apply(funcs.K_to_C)\n",
    "\n",
    "info, result, func = tools.regress(exp)\n",
    "exp.set_info(**info)\n",
    "x = np.linspace(13, 42, 100) + 273.15\n",
    "ols_res = tools.Experiment(\n",
    "    pd.DataFrame({\"x\": x, \"y\": func(x), \"time\": x * 0}),\n",
    "    \"interpolated\",\n",
    ")\n",
    "\n",
    "ols_res.apply(funcs.K_to_C)\n",
    "\n",
    "plots.comparation_plot(\n",
    "    exp,\n",
    "    ols_res,\n",
    "    title=\"OLS_Diffusion\",\n",
    "    xlabel=\"Temperature [C]\",\n",
    "    ylabel=\"D [m2/s]\",\n",
    "    interactive=True,\n",
    "    save_folder=exp.folder,\n",
    ")\n",
    "# plots.temperature_plot(\n",
    "#     exp,\n",
    "#     title='Viscosity',\n",
    "#     xlabel='Temperature [C]',\n",
    "#     ylabel='Viscosity [cP]',\n",
    "#     # ylabel='Diffusion [m2/s]',\n",
    "#     interactive=True,\n",
    "#     save_folder=exp.folder,\n",
    "# )"
   ]
  }
 ],
 "metadata": {
  "kernelspec": {
   "display_name": "Python 3.10.11 ('zVid_env': venv)",
   "language": "python",
   "name": "python3"
  },
  "language_info": {
   "codemirror_mode": {
    "name": "ipython",
    "version": 3
   },
   "file_extension": ".py",
   "mimetype": "text/x-python",
   "name": "python",
   "nbconvert_exporter": "python",
   "pygments_lexer": "ipython3",
   "version": "3.10.11"
  },
  "orig_nbformat": 4,
  "vscode": {
   "interpreter": {
    "hash": "5946b119aa0342abd5386a0c5beb8d13f5e9da65c541c34995194e58e5a123e1"
   }
  }
 },
 "nbformat": 4,
 "nbformat_minor": 2
}

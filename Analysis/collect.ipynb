{
 "cells": [
  {
   "cell_type": "code",
   "execution_count": 1,
   "metadata": {},
   "outputs": [],
   "source": [
    "import os\n",
    "import numpy as np\n",
    "import pandas as pd\n",
    "\n",
    "from scipy.interpolate import LinearNDInterpolator, CloughTocher2DInterpolator,griddata,RBFInterpolator\n",
    "\n",
    "from mycolorpy import colorlist as mcp\n",
    "import matplotlib.pyplot as plt\n",
    "\n",
    "import plotly\n",
    "import plotly.graph_objects as go\n",
    "\n",
    "\n",
    "from mylibs import plots,tools, functions as funcs\n",
    "from mylibs.tools import Experiment,input_path\n",
    "\n",
    "D_mean = 15000\n",
    "\n",
    "PATH = 'D:\\Works\\Diplom-work\\Experiments'"
   ]
  },
  {
   "cell_type": "code",
   "execution_count": 2,
   "metadata": {},
   "outputs": [],
   "source": [
    "%matplotlib qt"
   ]
  },
  {
   "cell_type": "markdown",
   "metadata": {},
   "source": [
    "# Collect"
   ]
  },
  {
   "cell_type": "code",
   "execution_count": 3,
   "metadata": {},
   "outputs": [],
   "source": [
    "def to_df(experiment:Experiment):\n",
    "    df= experiment.d\n",
    "    k = 1\n",
    "    df['Viscosity'] = k * (df['x'] + 273.15) / (df['y'] * 0.001)\n",
    "    df['compound'] = experiment.info['compound']\n",
    "    df['rho'] = experiment.info['rho']\n",
    "    df['w'] = experiment.info['w']\n",
    "    df['D0'] = experiment.info['D0']\n",
    "    df['E'] = experiment.info['E']\n",
    "    df.rename(columns={'x': 'Temperature', 'y': 'D'}, inplace=True)\n",
    "    return df"
   ]
  },
  {
   "cell_type": "code",
   "execution_count": 4,
   "metadata": {},
   "outputs": [],
   "source": [
    "# OCM\n",
    "M_but= 74.12\n",
    "M_ocm= 418.4\n",
    "M_peta= 298.29\n",
    "\n",
    "comp_list = []\n",
    "for i in range(9):\n",
    "    file = [f'{PATH}\\OCM{i}\\{f}' for f in os.listdir(f'{PATH}\\OCM{i}') if '.hdf5' in f][0]\n",
    "\n",
    "    exp = Experiment()\n",
    "    exp.load_hdf5(file)\n",
    "    comp_list.append(to_df(exp))\n",
    "\n",
    "ocm = pd.concat(comp_list)\n",
    "ocm['w_mass'] =ocm['w']\n",
    "ocm['w'] =(ocm['w']/M_but)/(ocm['w']/M_but+(100-ocm['w'])/M_ocm)*100\n",
    "\n",
    "# PETA\n",
    "comp_list = []\n",
    "for i in range(5):\n",
    "    file = [f'{PATH}\\PETA{i}\\{f}' for f in os.listdir(f'{PATH}\\PETA{i}') if '.hdf5' in f][0]\n",
    "\n",
    "    exp = Experiment()\n",
    "    exp.load_hdf5(file)\n",
    "    comp_list.append(to_df(exp))\n",
    "\n",
    "peta = pd.concat(comp_list)\n",
    "peta['w_mass'] =peta['w']\n",
    "peta['w'] =(peta['w']/M_but)/(peta['w']/M_but+(100-peta['w'])/M_peta)*100\n",
    "\n",
    "# Butanol\n",
    "but = Experiment()\n",
    "but.load_hdf5(f'{PATH}\\BUTANOL\\data_BUT_up.hdf5')\n",
    "but = to_df(but)\n",
    "but['w_mass'] =but['w']"
   ]
  },
  {
   "cell_type": "code",
   "execution_count": 5,
   "metadata": {},
   "outputs": [],
   "source": [
    "all_df = pd.concat([ocm, peta,but]).reset_index(drop=True)[[\n",
    "    'compound', 'w','w_mass', 'Temperature', 'time', 'D', 'Viscosity', 'rho', 'D0', 'E', 'Viscosity_verbose'\n",
    "]]\n",
    "df = (all_df[['compound','w','w_mass','Temperature','D','Viscosity','rho','D0','E']]\n",
    "    .groupby(by=['compound','w','Temperature'])\n",
    "    .mean()\n",
    "    .reset_index()\n",
    ")"
   ]
  },
  {
   "cell_type": "markdown",
   "metadata": {},
   "source": [
    "# 2D"
   ]
  },
  {
   "cell_type": "code",
   "execution_count": 38,
   "metadata": {},
   "outputs": [
    {
     "data": {
      "text/plain": [
       "<matplotlib.collections.QuadMesh at 0x232449fb190>"
      ]
     },
     "execution_count": 38,
     "metadata": {},
     "output_type": "execute_result"
    },
    {
     "data": {
      "image/png": "[encoded data removed]",
      "text/plain": [
       "<Figure size 1000x700 with 1 Axes>"
      ]
     },
     "metadata": {},
     "output_type": "display_data"
    }
   ],
   "source": [
    "# 2D surface\n",
    "compound_filter = (df['compound'] == 'ocm')\n",
    "# |(df['compound'] == 'butanol')\n",
    "data = df[compound_filter]\n",
    "\n",
    "xy= data[['Temperature','w']]\n",
    "z= data['D']\n",
    "X = np.linspace(min(xy['Temperature']),max(xy['Temperature']))\n",
    "Y = np.linspace(min(xy['w']),max(xy['w']))\n",
    "X ,Y= np.meshgrid(X, Y)\n",
    "f = LinearNDInterpolator(xy,z)\n",
    "Z = f(X,Y)\n",
    "plt.pcolormesh(X, Y, Z)"
   ]
  },
  {
   "cell_type": "code",
   "execution_count": 82,
   "metadata": {},
   "outputs": [
    {
     "data": {
      "text/plain": [
       "<matplotlib.legend.Legend at 0x1aa0ee8db40>"
      ]
     },
     "execution_count": 82,
     "metadata": {},
     "output_type": "execute_result"
    }
   ],
   "source": [
    "# D-T plots\n",
    "name = 'PETA'\n",
    "# +' + Butanol-1'\n",
    "\n",
    "compound_filter = (\n",
    "    (df['compound'] == 'peta')\n",
    "    # |(df['compound'] == 'butanol')\n",
    ") #yapf: disable\n",
    "\n",
    "# Plot\n",
    "data = df[compound_filter]\n",
    "grouped = data.groupby(by=['w'])\n",
    "colors_list = mcp.gen_color(cmap=\"turbo\", n=len(grouped))\n",
    "\n",
    "fig, ax = plt.subplots()\n",
    "for _, group in grouped:\n",
    "    w = group['w'].mean()\n",
    "    T = group['Temperature']\n",
    "    color = colors_list.pop()\n",
    "\n",
    "    D = group['D'] / D_mean\n",
    "    # ax.scatter(\n",
    "    #     T,\n",
    "    #     D,\n",
    "    #     c=color,\n",
    "    #     s=2,\n",
    "    # )\n",
    "\n",
    "    E = group['E'].mean()\n",
    "    D0 = group['D0'].mean() / D_mean\n",
    "    D_ols = D0 * np.exp(-E / (8.314 * (T+273.15)))\n",
    "    ax.plot(\n",
    "        T,\n",
    "        D_ols,\n",
    "        label=f\"{w: 5.2f}\",\n",
    "        c=color,\n",
    "    )\n",
    "\n",
    "    ax.set_title(f\"{name}: Diffusion - T\")\n",
    "    ax.set_xlabel('Temperature [C]')\n",
    "    ax.set_ylabel('D/D0')\n",
    "plt.legend()"
   ]
  },
  {
   "cell_type": "code",
   "execution_count": 94,
   "metadata": {},
   "outputs": [
    {
     "data": {
      "text/plain": [
       "<matplotlib.legend.Legend at 0x1aa16a282e0>"
      ]
     },
     "execution_count": 94,
     "metadata": {},
     "output_type": "execute_result"
    }
   ],
   "source": [
    "# D-fi plots\n",
    "name = 'PETA'\n",
    "# +' + Butanol-1'\n",
    "\n",
    "compound_filter = (\n",
    "    (df['compound'] == 'peta')\n",
    "    # |(df['compound'] == 'butanol')\n",
    ") #yapf: disable\n",
    "\n",
    "# Plot\n",
    "data = df[compound_filter]\n",
    "temper_list = np.arange(15,41,5)\n",
    "colors_list = mcp.gen_color(cmap=\"turbo\", n=len(temper_list))\n",
    "\n",
    "fig, ax = plt.subplots()\n",
    "for T in temper_list:\n",
    "    cond = (data['Temperature']>=T-1)&(data['Temperature']<=T+1)\n",
    "    group=data[cond]\n",
    "    group=group[['w','D']].groupby(by='w').mean().reset_index()\n",
    "    \n",
    "    w = group['w']\n",
    "    color = colors_list.pop()\n",
    "\n",
    "    D = group['D'] / D_mean\n",
    "    ax.plot(\n",
    "        w,\n",
    "        D,\n",
    "        c=color,\n",
    "        # s=5,\n",
    "        label=f\"{T: 3.0f}\",\n",
    "    )\n",
    "\n",
    "    ax.set_title(f\"{name}: Diffusion - fi\")\n",
    "    ax.set_xlabel('fi [%]')\n",
    "    ax.set_ylabel('D/D0')\n",
    "plt.legend()"
   ]
  },
  {
   "cell_type": "code",
   "execution_count": 83,
   "metadata": {},
   "outputs": [
    {
     "data": {
      "text/plain": [
       "<matplotlib.legend.Legend at 0x1aa0ee30970>"
      ]
     },
     "execution_count": 83,
     "metadata": {},
     "output_type": "execute_result"
    }
   ],
   "source": [
    "# E plots\n",
    "data=df.copy(deep=True)\n",
    "tmp= data[data['compound']=='butanol']\n",
    "data['compound']=data['compound'].replace({'butanol':'ocm'})\n",
    "tmp['compound']='peta'\n",
    "data=pd.concat([data,tmp])\n",
    "\n",
    "grouped = data.groupby(by=['compound'])\n",
    "fig, ax = plt.subplots()\n",
    "\n",
    "for _, group in grouped:\n",
    "    name= group['compound'].unique()[0]\n",
    "    group=group[['E','w']].groupby(by=['w']).mean().reset_index()\n",
    "    w = group['w']\n",
    "    E = group['E']/1000\n",
    "    ax.plot(\n",
    "        [w.iloc[0],w.iloc[-1]],\n",
    "        [E.iloc[0],E.iloc[-1]],\n",
    "        # label=f\"{name}\",\n",
    "    )\n",
    "    ax.scatter(\n",
    "        w,\n",
    "        E,\n",
    "        label=f\"{name}\",\n",
    "    )\n",
    "\n",
    "    ax.set_title(f\"E - fi\")\n",
    "    ax.set_xlabel('fi [%]')\n",
    "    ax.set_ylabel('E [kJ]')\n",
    "plt.legend()"
   ]
  },
  {
   "cell_type": "code",
   "execution_count": 88,
   "metadata": {},
   "outputs": [
    {
     "data": {
      "text/plain": [
       "<matplotlib.legend.Legend at 0x1aa11d941f0>"
      ]
     },
     "execution_count": 88,
     "metadata": {},
     "output_type": "execute_result"
    }
   ],
   "source": [
    "data=df.copy(deep=True)\n",
    "tmp= data[data['compound']=='butanol']\n",
    "data['compound']=data['compound'].replace({'butanol':'ocm'})\n",
    "tmp['compound']='peta'\n",
    "data=pd.concat([data,tmp])\n",
    "\n",
    "grouped = data.groupby(by=['compound'])\n",
    "fig, ax = plt.subplots()\n",
    "\n",
    "for _, group in grouped:\n",
    "    name= group['compound'].unique()[0]\n",
    "    group=group[['rho','w']].groupby(by=['w']).mean().reset_index()\n",
    "    w = group['w']\n",
    "    E = group['rho']\n",
    "    # ax.plot(\n",
    "    #     [w.iloc[0],w.iloc[-1]],\n",
    "    #     [E.iloc[0],E.iloc[-1]],\n",
    "    #     # label=f\"{name}\",\n",
    "    # )\n",
    "    ax.scatter(\n",
    "        w,\n",
    "        E,\n",
    "        label=f\"{name}\",\n",
    "    )\n",
    "\n",
    "    ax.set_title(f\"rho - fi\")\n",
    "    ax.set_xlabel('fi [%]')\n",
    "    ax.set_ylabel('rho [g/ml]')\n",
    "plt.legend()"
   ]
  },
  {
   "cell_type": "markdown",
   "metadata": {},
   "source": [
    "# 3D"
   ]
  },
  {
   "cell_type": "code",
   "execution_count": 6,
   "metadata": {},
   "outputs": [
    {
     "data": {
      "application/vnd.plotly.v1+json": {
       "config": {
        "plotlyServerURL": "https://plot.ly"
       },
       "data": [
        {
         "colorscale": [
          [
           0,
           "rgb(255,245,240)"
          ],
          [
           0.125,
           "rgb(254,224,210)"
          ],
          [
           0.25,
           "rgb(252,187,161)"
          ],
          [
           0.375,
           "rgb(252,146,114)"
          ],
          [
           0.5,
           "rgb(251,106,74)"
          ],
          [
           0.625,
           "rgb(239,59,44)"
          ],
          [
           0.75,
           "rgb(203,24,29)"
          ],
          [
           0.875,
           "rgb(165,15,21)"
          ],
          [
           1,
           "rgb(103,0,13)"
          ]
         ],
         "lightposition": {
          "x": 50,
          "y": 100,
          "z": 1
         },
         "name": "OCM-2",
         "opacity": 0.7,
         "showlegend": true,
         "showscale": false,
         "surfacecolor": [
          [
           null,
           0.056938168846611306,
           0.0677346809882507,
           0.07812082789182387,
           0.08991473081458025,
           0.10284264679955978,
           0.11857687329783542,
           0.13173181124885142,
           0.1442246731289342,
           0.16503772272177805,
           0.18546296296296313,
           0.2114784993616088,
           0.23365047363031227,
           0.25203110442682963,
           0.282783018747771,
           0.30800188716390153,
           0.3441829288183229,
           0.3757528631705846,
           0.39975995871392533,
           0.4510192312032836,
           null
          ],
          [
           null,
           0.06651731106238111,
           0.07608839591385334,
           0.08654049021017363,
           0.09921870458471174,
           0.11352883621130393,
           0.12912349454248118,
           0.14466912087870334,
           0.1587401764205673,
           0.18192697357345877,
           0.20165823384849973,
           0.22736211292008224,
           0.2504361330096676,
           0.2719709261819196,
           0.30447284851757017,
           0.3348798680280708,
           0.37250577946107144,
           0.4050455509050278,
           0.4357858358804915,
           0.48703934885710753,
           null
          ],
          [
           null,
           0.07361988872269798,
           0.08441236698056298,
           0.09530564363554667,
           0.10852267835484322,
           0.12421502562304809,
           0.13960729006092168,
           0.15760643050855527,
           0.1737741675740621,
           0.19881622442513947,
           0.21785350473403683,
           0.243380441977843,
           0.2672217923890229,
           0.2928677784924532,
           0.32616267828736933,
           0.3617578488922401,
           0.4006331079808289,
           0.4343382386394709,
           0.4718117130470576,
           0.5188707213016786,
           null
          ],
          [
           null,
           0.0819474259980192,
           0.0927363380472726,
           0.10394018094316089,
           0.11797084495003546,
           0.13485681466399296,
           0.14996898221338634,
           0.1705437401384072,
           0.18880815872755696,
           0.21452991857584922,
           0.23404877561957396,
           0.25966059396875063,
           0.28400745176837827,
           0.3137646308029868,
           0.3483370827613277,
           0.38863582975640937,
           0.42807179495049097,
           0.463630926373914,
           0.5078375902136237,
           0.5508955043149903,
           null
          ],
          [
           null,
           0.09244340603102061,
           0.10106030911398223,
           0.11317011196621748,
           0.12755777550499778,
           0.1454558750097705,
           0.16033067436585102,
           0.18354454911942922,
           0.20384214988105176,
           0.22911231577962704,
           0.2502440465051111,
           0.2759407459596583,
           0.3012350568043448,
           0.3346614831135204,
           0.370977817683595,
           0.4155138106205787,
           0.45551048192015314,
           0.4942204031760126,
           0.5435973403512429,
           0.5713341475223919,
           null
          ],
          [
           null,
           0.102939386064022,
           0.10885109953095257,
           0.12293142898325475,
           0.13871495155337,
           0.1613480206851076,
           0.178483790512652,
           0.20048627646585923,
           0.22117396135500011,
           0.24528107915458439,
           0.2692311783913373,
           0.29637560655275497,
           0.32476977059074763,
           0.3598380462051384,
           0.3974768164649595,
           0.44097080112907705,
           0.4816172580248622,
           0.5225626474046541,
           0.5712676574731606,
           0.5845380675385293,
           null
          ],
          [
           null,
           0.11343536609702343,
           0.11654729838089462,
           0.13292492712816928,
           0.1501909482244728,
           0.1781792125092161,
           0.19846331752521518,
           0.2181218474488329,
           0.23891342908010318,
           0.2617312797161422,
           0.2887136142746408,
           0.31747767142435235,
           0.3493864395931055,
           0.38577387268977026,
           0.4250084666077532,
           0.4661756937706705,
           0.5074877398531014,
           0.5517662426737123,
           0.5971499301601919,
           0.5977419875546669,
           null
          ],
          [
           null,
           0.12393134613002484,
           0.1242434972308367,
           0.14291842527308382,
           0.16173039059373823,
           0.19501040433332456,
           0.2184428445377783,
           0.23575741843180656,
           0.2566528968052063,
           0.280205911623364,
           0.3081960501579443,
           0.3384695631443658,
           0.37400310859546343,
           0.4117096991744022,
           0.4530890030778454,
           0.491380586412264,
           0.5344058235057476,
           0.5809698379427706,
           0.6230322028472233,
           0.6154781853743765,
           null
          ],
          [
           null,
           0.13442732616302622,
           0.1341482711671702,
           0.15500456429596018,
           0.17507645876547215,
           0.21282891531515405,
           0.23912391101736968,
           0.2560538475229813,
           0.27685873277215683,
           0.30186102403168036,
           0.3302720848496202,
           0.3622399406820169,
           0.40085698854988794,
           0.44063640382954616,
           0.4835609832005795,
           0.5205410687108111,
           0.565737199977476,
           0.6142772831971072,
           0.6547422365087742,
           0.6711437413251733,
           null
          ],
          [
           null,
           0.14492330619602764,
           0.15240248432585063,
           0.17565808412794323,
           0.19581894712201134,
           0.2346895623812993,
           0.262677116634615,
           0.28517227503349185,
           0.3071102098630107,
           0.3322200520483708,
           0.362966448224151,
           0.39738558395355206,
           0.43831551108719047,
           0.4795967308964896,
           0.5238236582636033,
           0.5658959412043423,
           0.6129027969649,
           0.6643861041569443,
           0.7103114273047247,
           0.7268092972759701,
           null
          ],
          [
           null,
           0.15541928622902906,
           0.17065669748453105,
           0.1963116039599263,
           0.21659617729660227,
           0.2565502094474445,
           0.2862303222518603,
           0.3145972934077258,
           0.33738412083503855,
           0.3625397684517401,
           0.39566081159868177,
           0.43251784360038903,
           0.47569034714686065,
           0.5186241637001439,
           0.5642819995722053,
           0.6112508136978736,
           0.6611721553573996,
           0.7144949251167818,
           0.7658806181006754,
           0.8016571173548376,
           null
          ],
          [
           null,
           0.17074612354204488,
           0.18965100097968698,
           0.2165437683403011,
           0.23749650283658863,
           0.27830213447684277,
           0.30940490778983387,
           0.343139847914354,
           0.36758421206458136,
           0.393829060202135,
           0.4294432244317233,
           0.4686479819092131,
           0.5140603218902607,
           0.5593260116125306,
           0.6061141399535803,
           0.6572290788448202,
           0.7101973303431736,
           0.7656645761470334,
           0.8209524424962261,
           0.874598562492509,
           null
          ],
          [
           null,
           0.18782379501478952,
           0.212295705252933,
           0.23597972348024537,
           0.25903074074625,
           0.2994913465609056,
           0.33190852364324497,
           0.3671329473919755,
           0.3974022342494243,
           0.42988993319405083,
           0.46885705784691106,
           0.5100579596857396,
           0.5575808386626203,
           0.6063179375077346,
           0.6531456539697963,
           0.706433839066726,
           0.763032955516249,
           0.8230146193371772,
           0.8702832162332717,
           0.9384482548769246,
           null
          ],
          [
           null,
           0.21083183321682397,
           0.23470552650923276,
           0.2556043674406083,
           0.28100087529436646,
           0.32068055864496836,
           0.35520198648927703,
           0.3911344023149528,
           0.42705759583927094,
           0.4649620170106433,
           0.5082708912620989,
           0.5509687990433877,
           0.6016338319391356,
           0.6522016596449112,
           0.6992762510995145,
           0.7556385992886319,
           0.8181576389654568,
           0.8801496013121782,
           0.919251024558618,
           1.0213288852611402,
           null
          ],
          [
           null,
           0.23592690022729831,
           0.2610712336441594,
           0.28267728230760825,
           0.31785051966325606,
           0.35635816821470373,
           0.3883088580955735,
           0.4250232663916211,
           0.465828471593927,
           0.50824979480085,
           0.5531905886089592,
           0.6024588536477915,
           0.6562043322333542,
           0.7071394758943652,
           0.7629709183506048,
           0.8263725815562069,
           0.8865087341127429,
           0.956241860166848,
           1.0097650998038987,
           1.1001451586464202,
           null
          ],
          [
           null,
           0.26188289839708134,
           0.28804411720929046,
           0.3121643564180846,
           0.35914419738823095,
           0.39714344655487577,
           0.4254891326461668,
           0.4623360773556347,
           0.5075933542842476,
           0.5533943074943737,
           0.5998293527004663,
           0.6552780240010628,
           0.7144760970240454,
           0.7680806332647923,
           0.8309936759250485,
           0.9038285188368591,
           0.9626460744277597,
           1.0384993284649582,
           1.1139959588516049,
           1.1789614320317001,
           null
          ],
          [
           null,
           0.2941395675526451,
           0.31740376913959173,
           0.34543385934599535,
           0.3913348012042954,
           0.4375703434184698,
           0.47164373696153705,
           0.5128278699214525,
           0.5626016610239308,
           0.6141136018336997,
           0.6605342711085198,
           0.7172736720070709,
           0.781850598658282,
           0.83514553029296,
           0.9026440200032622,
           0.9771077521081477,
           1.0461511020508096,
           1.1162458072588097,
           1.1964023174989118,
           1.2577777054169799,
           null
          ],
          [
           null,
           0.324179281054256,
           0.3471420921709519,
           0.37851576090711053,
           0.42353610016456805,
           0.4765170201797928,
           0.5193097514707811,
           0.5653564137395466,
           0.6184919117091354,
           0.6754488951820882,
           0.7228646137897295,
           0.7777903721269783,
           0.8495200999939916,
           0.9029435095998908,
           0.9739359294721774,
           1.0499043434343942,
           1.1296595073457254,
           1.1909738653360513,
           1.276297582369079,
           1.3468130480679117,
           null
          ],
          [
           null,
           0.3557980341805992,
           0.3880825482881832,
           0.4239078321550685,
           0.4698633802555974,
           0.517769029539768,
           0.5672479368851215,
           0.618694041473969,
           0.6739306712273574,
           0.728147079021948,
           0.7833870268515728,
           0.8424693088282624,
           0.9218203338327766,
           0.9805905080965045,
           1.0551187830284459,
           1.1338612949281655,
           1.2161641838951907,
           1.2825918234137936,
           1.374296133984353,
           1.4583539665397112,
           null
          ],
          [
           null,
           0.39118600979265333,
           0.42953710724199134,
           0.4667970071703456,
           0.5133002171090139,
           0.5634966571535346,
           0.6168771880130776,
           0.6732446694510414,
           0.7311803974863409,
           0.7878789605130416,
           0.8477883542066647,
           0.9129069093595392,
           0.9974998315695223,
           1.0627067520304045,
           1.1425061603466447,
           1.2262308491785066,
           1.313158372024541,
           1.3921827358151073,
           1.489135357122378,
           1.5863923786746446,
           null
          ],
          [
           null,
           0.43387181895012117,
           0.4710601512995214,
           0.5062451756364511,
           0.5543436256162084,
           0.6165089379600419,
           0.6681323895144269,
           0.7288108000851342,
           0.7927813014608238,
           0.8539141716207719,
           0.918527641629312,
           0.9944396754946421,
           1.0769310122501607,
           1.1530323084203284,
           1.2358303076805843,
           1.3322510822510782,
           1.4275795019157047,
           1.5274392742171434,
           1.638477690288713,
           1.756806722689075,
           1.8587020648967534
          ]
         ],
         "type": "surface",
         "x": [
          12.699999999999989,
          14.159999999999988,
          15.619999999999987,
          17.079999999999988,
          18.539999999999985,
          19.999999999999986,
          21.459999999999987,
          22.919999999999987,
          24.379999999999985,
          25.839999999999982,
          27.299999999999983,
          28.759999999999984,
          30.219999999999985,
          31.679999999999982,
          33.139999999999986,
          34.59999999999998,
          36.05999999999998,
          37.51999999999998,
          38.979999999999976,
          40.43999999999998,
          41.89999999999998
         ],
         "y": [
          0,
          2.9256065548236725,
          5.851213109647345,
          8.776819664471017,
          11.70242621929469,
          14.628032774118363,
          17.553639328942033,
          20.479245883765707,
          23.40485243858938,
          26.330458993413053,
          29.256065548236727,
          32.1816721030604,
          35.107278657884066,
          38.03288521270774,
          40.95849176753141,
          43.88409832235509,
          46.80970487717876,
          49.73531143200243,
          52.66091798682611,
          55.58652454164978,
          58.51213109647345
         ],
         "z": [
          [
           null,
           0.056938168846611306,
           0.0677346809882507,
           0.07812082789182387,
           0.08991473081458025,
           0.10284264679955978,
           0.11857687329783542,
           0.13173181124885142,
           0.1442246731289342,
           0.16503772272177805,
           0.18546296296296313,
           0.2114784993616088,
           0.23365047363031227,
           0.25203110442682963,
           0.282783018747771,
           0.30800188716390153,
           0.3441829288183229,
           0.3757528631705846,
           0.39975995871392533,
           0.4510192312032836,
           null
          ],
          [
           null,
           0.06651731106238111,
           0.07608839591385334,
           0.08654049021017363,
           0.09921870458471174,
           0.11352883621130393,
           0.12912349454248118,
           0.14466912087870334,
           0.1587401764205673,
           0.18192697357345877,
           0.20165823384849973,
           0.22736211292008224,
           0.2504361330096676,
           0.2719709261819196,
           0.30447284851757017,
           0.3348798680280708,
           0.37250577946107144,
           0.4050455509050278,
           0.4357858358804915,
           0.48703934885710753,
           null
          ],
          [
           null,
           0.07361988872269798,
           0.08441236698056298,
           0.09530564363554667,
           0.10852267835484322,
           0.12421502562304809,
           0.13960729006092168,
           0.15760643050855527,
           0.1737741675740621,
           0.19881622442513947,
           0.21785350473403683,
           0.243380441977843,
           0.2672217923890229,
           0.2928677784924532,
           0.32616267828736933,
           0.3617578488922401,
           0.4006331079808289,
           0.4343382386394709,
           0.4718117130470576,
           0.5188707213016786,
           null
          ],
          [
           null,
           0.0819474259980192,
           0.0927363380472726,
           0.10394018094316089,
           0.11797084495003546,
           0.13485681466399296,
           0.14996898221338634,
           0.1705437401384072,
           0.18880815872755696,
           0.21452991857584922,
           0.23404877561957396,
           0.25966059396875063,
           0.28400745176837827,
           0.3137646308029868,
           0.3483370827613277,
           0.38863582975640937,
           0.42807179495049097,
           0.463630926373914,
           0.5078375902136237,
           0.5508955043149903,
           null
          ],
          [
           null,
           0.09244340603102061,
           0.10106030911398223,
           0.11317011196621748,
           0.12755777550499778,
           0.1454558750097705,
           0.16033067436585102,
           0.18354454911942922,
           0.20384214988105176,
           0.22911231577962704,
           0.2502440465051111,
           0.2759407459596583,
           0.3012350568043448,
           0.3346614831135204,
           0.370977817683595,
           0.4155138106205787,
           0.45551048192015314,
           0.4942204031760126,
           0.5435973403512429,
           0.5713341475223919,
           null
          ],
          [
           null,
           0.102939386064022,
           0.10885109953095257,
           0.12293142898325475,
           0.13871495155337,
           0.1613480206851076,
           0.178483790512652,
           0.20048627646585923,
           0.22117396135500011,
           0.24528107915458439,
           0.2692311783913373,
           0.29637560655275497,
           0.32476977059074763,
           0.3598380462051384,
           0.3974768164649595,
           0.44097080112907705,
           0.4816172580248622,
           0.5225626474046541,
           0.5712676574731606,
           0.5845380675385293,
           null
          ],
          [
           null,
           0.11343536609702343,
           0.11654729838089462,
           0.13292492712816928,
           0.1501909482244728,
           0.1781792125092161,
           0.19846331752521518,
           0.2181218474488329,
           0.23891342908010318,
           0.2617312797161422,
           0.2887136142746408,
           0.31747767142435235,
           0.3493864395931055,
           0.38577387268977026,
           0.4250084666077532,
           0.4661756937706705,
           0.5074877398531014,
           0.5517662426737123,
           0.5971499301601919,
           0.5977419875546669,
           null
          ],
          [
           null,
           0.12393134613002484,
           0.1242434972308367,
           0.14291842527308382,
           0.16173039059373823,
           0.19501040433332456,
           0.2184428445377783,
           0.23575741843180656,
           0.2566528968052063,
           0.280205911623364,
           0.3081960501579443,
           0.3384695631443658,
           0.37400310859546343,
           0.4117096991744022,
           0.4530890030778454,
           0.491380586412264,
           0.5344058235057476,
           0.5809698379427706,
           0.6230322028472233,
           0.6154781853743765,
           null
          ],
          [
           null,
           0.13442732616302622,
           0.1341482711671702,
           0.15500456429596018,
           0.17507645876547215,
           0.21282891531515405,
           0.23912391101736968,
           0.2560538475229813,
           0.27685873277215683,
           0.30186102403168036,
           0.3302720848496202,
           0.3622399406820169,
           0.40085698854988794,
           0.44063640382954616,
           0.4835609832005795,
           0.5205410687108111,
           0.565737199977476,
           0.6142772831971072,
           0.6547422365087742,
           0.6711437413251733,
           null
          ],
          [
           null,
           0.14492330619602764,
           0.15240248432585063,
           0.17565808412794323,
           0.19581894712201134,
           0.2346895623812993,
           0.262677116634615,
           0.28517227503349185,
           0.3071102098630107,
           0.3322200520483708,
           0.362966448224151,
           0.39738558395355206,
           0.43831551108719047,
           0.4795967308964896,
           0.5238236582636033,
           0.5658959412043423,
           0.6129027969649,
           0.6643861041569443,
           0.7103114273047247,
           0.7268092972759701,
           null
          ],
          [
           null,
           0.15541928622902906,
           0.17065669748453105,
           0.1963116039599263,
           0.21659617729660227,
           0.2565502094474445,
           0.2862303222518603,
           0.3145972934077258,
           0.33738412083503855,
           0.3625397684517401,
           0.39566081159868177,
           0.43251784360038903,
           0.47569034714686065,
           0.5186241637001439,
           0.5642819995722053,
           0.6112508136978736,
           0.6611721553573996,
           0.7144949251167818,
           0.7658806181006754,
           0.8016571173548376,
           null
          ],
          [
           null,
           0.17074612354204488,
           0.18965100097968698,
           0.2165437683403011,
           0.23749650283658863,
           0.27830213447684277,
           0.30940490778983387,
           0.343139847914354,
           0.36758421206458136,
           0.393829060202135,
           0.4294432244317233,
           0.4686479819092131,
           0.5140603218902607,
           0.5593260116125306,
           0.6061141399535803,
           0.6572290788448202,
           0.7101973303431736,
           0.7656645761470334,
           0.8209524424962261,
           0.874598562492509,
           null
          ],
          [
           null,
           0.18782379501478952,
           0.212295705252933,
           0.23597972348024537,
           0.25903074074625,
           0.2994913465609056,
           0.33190852364324497,
           0.3671329473919755,
           0.3974022342494243,
           0.42988993319405083,
           0.46885705784691106,
           0.5100579596857396,
           0.5575808386626203,
           0.6063179375077346,
           0.6531456539697963,
           0.706433839066726,
           0.763032955516249,
           0.8230146193371772,
           0.8702832162332717,
           0.9384482548769246,
           null
          ],
          [
           null,
           0.21083183321682397,
           0.23470552650923276,
           0.2556043674406083,
           0.28100087529436646,
           0.32068055864496836,
           0.35520198648927703,
           0.3911344023149528,
           0.42705759583927094,
           0.4649620170106433,
           0.5082708912620989,
           0.5509687990433877,
           0.6016338319391356,
           0.6522016596449112,
           0.6992762510995145,
           0.7556385992886319,
           0.8181576389654568,
           0.8801496013121782,
           0.919251024558618,
           1.0213288852611402,
           null
          ],
          [
           null,
           0.23592690022729831,
           0.2610712336441594,
           0.28267728230760825,
           0.31785051966325606,
           0.35635816821470373,
           0.3883088580955735,
           0.4250232663916211,
           0.465828471593927,
           0.50824979480085,
           0.5531905886089592,
           0.6024588536477915,
           0.6562043322333542,
           0.7071394758943652,
           0.7629709183506048,
           0.8263725815562069,
           0.8865087341127429,
           0.956241860166848,
           1.0097650998038987,
           1.1001451586464202,
           null
          ],
          [
           null,
           0.26188289839708134,
           0.28804411720929046,
           0.3121643564180846,
           0.35914419738823095,
           0.39714344655487577,
           0.4254891326461668,
           0.4623360773556347,
           0.5075933542842476,
           0.5533943074943737,
           0.5998293527004663,
           0.6552780240010628,
           0.7144760970240454,
           0.7680806332647923,
           0.8309936759250485,
           0.9038285188368591,
           0.9626460744277597,
           1.0384993284649582,
           1.1139959588516049,
           1.1789614320317001,
           null
          ],
          [
           null,
           0.2941395675526451,
           0.31740376913959173,
           0.34543385934599535,
           0.3913348012042954,
           0.4375703434184698,
           0.47164373696153705,
           0.5128278699214525,
           0.5626016610239308,
           0.6141136018336997,
           0.6605342711085198,
           0.7172736720070709,
           0.781850598658282,
           0.83514553029296,
           0.9026440200032622,
           0.9771077521081477,
           1.0461511020508096,
           1.1162458072588097,
           1.1964023174989118,
           1.2577777054169799,
           null
          ],
          [
           null,
           0.324179281054256,
           0.3471420921709519,
           0.37851576090711053,
           0.42353610016456805,
           0.4765170201797928,
           0.5193097514707811,
           0.5653564137395466,
           0.6184919117091354,
           0.6754488951820882,
           0.7228646137897295,
           0.7777903721269783,
           0.8495200999939916,
           0.9029435095998908,
           0.9739359294721774,
           1.0499043434343942,
           1.1296595073457254,
           1.1909738653360513,
           1.276297582369079,
           1.3468130480679117,
           null
          ],
          [
           null,
           0.3557980341805992,
           0.3880825482881832,
           0.4239078321550685,
           0.4698633802555974,
           0.517769029539768,
           0.5672479368851215,
           0.618694041473969,
           0.6739306712273574,
           0.728147079021948,
           0.7833870268515728,
           0.8424693088282624,
           0.9218203338327766,
           0.9805905080965045,
           1.0551187830284459,
           1.1338612949281655,
           1.2161641838951907,
           1.2825918234137936,
           1.374296133984353,
           1.4583539665397112,
           null
          ],
          [
           null,
           0.39118600979265333,
           0.42953710724199134,
           0.4667970071703456,
           0.5133002171090139,
           0.5634966571535346,
           0.6168771880130776,
           0.6732446694510414,
           0.7311803974863409,
           0.7878789605130416,
           0.8477883542066647,
           0.9129069093595392,
           0.9974998315695223,
           1.0627067520304045,
           1.1425061603466447,
           1.2262308491785066,
           1.313158372024541,
           1.3921827358151073,
           1.489135357122378,
           1.5863923786746446,
           null
          ],
          [
           null,
           0.43387181895012117,
           0.4710601512995214,
           0.5062451756364511,
           0.5543436256162084,
           0.6165089379600419,
           0.6681323895144269,
           0.7288108000851342,
           0.7927813014608238,
           0.8539141716207719,
           0.918527641629312,
           0.9944396754946421,
           1.0769310122501607,
           1.1530323084203284,
           1.2358303076805843,
           1.3322510822510782,
           1.4275795019157047,
           1.5274392742171434,
           1.638477690288713,
           1.756806722689075,
           1.8587020648967534
          ]
         ]
        },
        {
         "colorscale": [
          [
           0,
           "rgb(247,251,255)"
          ],
          [
           0.125,
           "rgb(222,235,247)"
          ],
          [
           0.25,
           "rgb(198,219,239)"
          ],
          [
           0.375,
           "rgb(158,202,225)"
          ],
          [
           0.5,
           "rgb(107,174,214)"
          ],
          [
           0.625,
           "rgb(66,146,198)"
          ],
          [
           0.75,
           "rgb(33,113,181)"
          ],
          [
           0.875,
           "rgb(8,81,156)"
          ],
          [
           1,
           "rgb(8,48,107)"
          ]
         ],
         "lightposition": {
          "x": 50,
          "y": 100,
          "z": 1
         },
         "name": "PETA",
         "showlegend": true,
         "showscale": false,
         "surfacecolor": [
          [
           null,
           -0.056938168846611306,
           -0.0677346809882507,
           -0.07812082789182387,
           -0.08991473081458025,
           -0.10284264679955978,
           -0.11857687329783542,
           -0.13173181124885142,
           -0.1442246731289342,
           -0.16503772272177805,
           -0.18546296296296313,
           -0.2114784993616088,
           -0.23365047363031227,
           -0.25203110442682963,
           -0.282783018747771,
           -0.30800188716390153,
           -0.3441829288183229,
           -0.3757528631705846,
           -0.39975995871392533,
           -0.4510192312032836,
           null
          ],
          [
           null,
           -0.06651731106238111,
           -0.07608839591385334,
           -0.08654049021017363,
           -0.09921870458471174,
           -0.11352883621130393,
           -0.12912349454248118,
           -0.14466912087870334,
           -0.1587401764205673,
           -0.18192697357345877,
           -0.20165823384849973,
           -0.22736211292008224,
           -0.2504361330096676,
           -0.2719709261819196,
           -0.30447284851757017,
           -0.3348798680280708,
           -0.37250577946107144,
           -0.4050455509050278,
           -0.4357858358804915,
           -0.48703934885710753,
           null
          ],
          [
           null,
           -0.07361988872269798,
           -0.08441236698056298,
           -0.09530564363554667,
           -0.10852267835484322,
           -0.12421502562304809,
           -0.13960729006092168,
           -0.15760643050855527,
           -0.1737741675740621,
           -0.19881622442513947,
           -0.21785350473403683,
           -0.243380441977843,
           -0.2672217923890229,
           -0.2928677784924532,
           -0.32616267828736933,
           -0.3617578488922401,
           -0.4006331079808289,
           -0.4343382386394709,
           -0.4718117130470576,
           -0.5188707213016786,
           null
          ],
          [
           null,
           -0.0819474259980192,
           -0.0927363380472726,
           -0.10394018094316089,
           -0.11797084495003546,
           -0.13485681466399296,
           -0.14996898221338634,
           -0.1705437401384072,
           -0.18880815872755696,
           -0.21452991857584922,
           -0.23404877561957396,
           -0.25966059396875063,
           -0.28400745176837827,
           -0.3137646308029868,
           -0.3483370827613277,
           -0.38863582975640937,
           -0.42807179495049097,
           -0.463630926373914,
           -0.5078375902136237,
           -0.5508955043149903,
           null
          ],
          [
           null,
           -0.09244340603102061,
           -0.10106030911398223,
           -0.11317011196621748,
           -0.12755777550499778,
           -0.1454558750097705,
           -0.16033067436585102,
           -0.18354454911942922,
           -0.20384214988105176,
           -0.22911231577962704,
           -0.2502440465051111,
           -0.2759407459596583,
           -0.3012350568043448,
           -0.3346614831135204,
           -0.370977817683595,
           -0.4155138106205787,
           -0.45551048192015314,
           -0.4942204031760126,
           -0.5435973403512429,
           -0.5713341475223919,
           null
          ],
          [
           null,
           -0.102939386064022,
           -0.10885109953095257,
           -0.12293142898325475,
           -0.13871495155337,
           -0.1613480206851076,
           -0.178483790512652,
           -0.20048627646585923,
           -0.22117396135500011,
           -0.24528107915458439,
           -0.2692311783913373,
           -0.29637560655275497,
           -0.32476977059074763,
           -0.3598380462051384,
           -0.3974768164649595,
           -0.44097080112907705,
           -0.4816172580248622,
           -0.5225626474046541,
           -0.5712676574731606,
           -0.5845380675385293,
           null
          ],
          [
           null,
           -0.11343536609702343,
           -0.11654729838089462,
           -0.13292492712816928,
           -0.1501909482244728,
           -0.1781792125092161,
           -0.19846331752521518,
           -0.2181218474488329,
           -0.23891342908010318,
           -0.2617312797161422,
           -0.2887136142746408,
           -0.31747767142435235,
           -0.3493864395931055,
           -0.38577387268977026,
           -0.4250084666077532,
           -0.4661756937706705,
           -0.5074877398531014,
           -0.5517662426737123,
           -0.5971499301601919,
           -0.5977419875546669,
           null
          ],
          [
           null,
           -0.12393134613002484,
           -0.1242434972308367,
           -0.14291842527308382,
           -0.16173039059373823,
           -0.19501040433332456,
           -0.2184428445377783,
           -0.23575741843180656,
           -0.2566528968052063,
           -0.280205911623364,
           -0.3081960501579443,
           -0.3384695631443658,
           -0.37400310859546343,
           -0.4117096991744022,
           -0.4530890030778454,
           -0.491380586412264,
           -0.5344058235057476,
           -0.5809698379427706,
           -0.6230322028472233,
           -0.6154781853743765,
           null
          ],
          [
           null,
           -0.13442732616302622,
           -0.1341482711671702,
           -0.15500456429596018,
           -0.17507645876547215,
           -0.21282891531515405,
           -0.23912391101736968,
           -0.2560538475229813,
           -0.27685873277215683,
           -0.30186102403168036,
           -0.3302720848496202,
           -0.3622399406820169,
           -0.40085698854988794,
           -0.44063640382954616,
           -0.4835609832005795,
           -0.5205410687108111,
           -0.565737199977476,
           -0.6142772831971072,
           -0.6547422365087742,
           -0.6711437413251733,
           null
          ],
          [
           null,
           -0.14492330619602764,
           -0.15240248432585063,
           -0.17565808412794323,
           -0.19581894712201134,
           -0.2346895623812993,
           -0.262677116634615,
           -0.28517227503349185,
           -0.3071102098630107,
           -0.3322200520483708,
           -0.362966448224151,
           -0.39738558395355206,
           -0.43831551108719047,
           -0.4795967308964896,
           -0.5238236582636033,
           -0.5658959412043423,
           -0.6129027969649,
           -0.6643861041569443,
           -0.7103114273047247,
           -0.7268092972759701,
           null
          ],
          [
           null,
           -0.15541928622902906,
           -0.17065669748453105,
           -0.1963116039599263,
           -0.21659617729660227,
           -0.2565502094474445,
           -0.2862303222518603,
           -0.3145972934077258,
           -0.33738412083503855,
           -0.3625397684517401,
           -0.39566081159868177,
           -0.43251784360038903,
           -0.47569034714686065,
           -0.5186241637001439,
           -0.5642819995722053,
           -0.6112508136978736,
           -0.6611721553573996,
           -0.7144949251167818,
           -0.7658806181006754,
           -0.8016571173548376,
           null
          ],
          [
           null,
           -0.17074612354204488,
           -0.18965100097968698,
           -0.2165437683403011,
           -0.23749650283658863,
           -0.27830213447684277,
           -0.30940490778983387,
           -0.343139847914354,
           -0.36758421206458136,
           -0.393829060202135,
           -0.4294432244317233,
           -0.4686479819092131,
           -0.5140603218902607,
           -0.5593260116125306,
           -0.6061141399535803,
           -0.6572290788448202,
           -0.7101973303431736,
           -0.7656645761470334,
           -0.8209524424962261,
           -0.874598562492509,
           null
          ],
          [
           null,
           -0.18782379501478952,
           -0.212295705252933,
           -0.23597972348024537,
           -0.25903074074625,
           -0.2994913465609056,
           -0.33190852364324497,
           -0.3671329473919755,
           -0.3974022342494243,
           -0.42988993319405083,
           -0.46885705784691106,
           -0.5100579596857396,
           -0.5575808386626203,
           -0.6063179375077346,
           -0.6531456539697963,
           -0.706433839066726,
           -0.763032955516249,
           -0.8230146193371772,
           -0.8702832162332717,
           -0.9384482548769246,
           null
          ],
          [
           null,
           -0.21083183321682397,
           -0.23470552650923276,
           -0.2556043674406083,
           -0.28100087529436646,
           -0.32068055864496836,
           -0.35520198648927703,
           -0.3911344023149528,
           -0.42705759583927094,
           -0.4649620170106433,
           -0.5082708912620989,
           -0.5509687990433877,
           -0.6016338319391356,
           -0.6522016596449112,
           -0.6992762510995145,
           -0.7556385992886319,
           -0.8181576389654568,
           -0.8801496013121782,
           -0.919251024558618,
           -1.0213288852611402,
           null
          ],
          [
           null,
           -0.23592690022729831,
           -0.2610712336441594,
           -0.28267728230760825,
           -0.31785051966325606,
           -0.35635816821470373,
           -0.3883088580955735,
           -0.4250232663916211,
           -0.465828471593927,
           -0.50824979480085,
           -0.5531905886089592,
           -0.6024588536477915,
           -0.6562043322333542,
           -0.7071394758943652,
           -0.7629709183506048,
           -0.8263725815562069,
           -0.8865087341127429,
           -0.956241860166848,
           -1.0097650998038987,
           -1.1001451586464202,
           null
          ],
          [
           null,
           -0.26188289839708134,
           -0.28804411720929046,
           -0.3121643564180846,
           -0.35914419738823095,
           -0.39714344655487577,
           -0.4254891326461668,
           -0.4623360773556347,
           -0.5075933542842476,
           -0.5533943074943737,
           -0.5998293527004663,
           -0.6552780240010628,
           -0.7144760970240454,
           -0.7680806332647923,
           -0.8309936759250485,
           -0.9038285188368591,
           -0.9626460744277597,
           -1.0384993284649582,
           -1.1139959588516049,
           -1.1789614320317001,
           null
          ],
          [
           null,
           -0.2941395675526451,
           -0.31740376913959173,
           -0.34543385934599535,
           -0.3913348012042954,
           -0.4375703434184698,
           -0.47164373696153705,
           -0.5128278699214525,
           -0.5626016610239308,
           -0.6141136018336997,
           -0.6605342711085198,
           -0.7172736720070709,
           -0.781850598658282,
           -0.83514553029296,
           -0.9026440200032622,
           -0.9771077521081477,
           -1.0461511020508096,
           -1.1162458072588097,
           -1.1964023174989118,
           -1.2577777054169799,
           null
          ],
          [
           null,
           -0.324179281054256,
           -0.3471420921709519,
           -0.37851576090711053,
           -0.42353610016456805,
           -0.4765170201797928,
           -0.5193097514707811,
           -0.5653564137395466,
           -0.6184919117091354,
           -0.6754488951820882,
           -0.7228646137897295,
           -0.7777903721269783,
           -0.8495200999939916,
           -0.9029435095998908,
           -0.9739359294721774,
           -1.0499043434343942,
           -1.1296595073457254,
           -1.1909738653360513,
           -1.276297582369079,
           -1.3468130480679117,
           null
          ],
          [
           null,
           -0.3557980341805992,
           -0.3880825482881832,
           -0.4239078321550685,
           -0.4698633802555974,
           -0.517769029539768,
           -0.5672479368851215,
           -0.618694041473969,
           -0.6739306712273574,
           -0.728147079021948,
           -0.7833870268515728,
           -0.8424693088282624,
           -0.9218203338327766,
           -0.9805905080965045,
           -1.0551187830284459,
           -1.1338612949281655,
           -1.2161641838951907,
           -1.2825918234137936,
           -1.374296133984353,
           -1.4583539665397112,
           null
          ],
          [
           null,
           -0.39118600979265333,
           -0.42953710724199134,
           -0.4667970071703456,
           -0.5133002171090139,
           -0.5634966571535346,
           -0.6168771880130776,
           -0.6732446694510414,
           -0.7311803974863409,
           -0.7878789605130416,
           -0.8477883542066647,
           -0.9129069093595392,
           -0.9974998315695223,
           -1.0627067520304045,
           -1.1425061603466447,
           -1.2262308491785066,
           -1.313158372024541,
           -1.3921827358151073,
           -1.489135357122378,
           -1.5863923786746446,
           null
          ],
          [
           null,
           -0.43387181895012117,
           -0.4710601512995214,
           -0.5062451756364511,
           -0.5543436256162084,
           -0.6165089379600419,
           -0.6681323895144269,
           -0.7288108000851342,
           -0.7927813014608238,
           -0.8539141716207719,
           -0.918527641629312,
           -0.9944396754946421,
           -1.0769310122501607,
           -1.1530323084203284,
           -1.2358303076805843,
           -1.3322510822510782,
           -1.4275795019157047,
           -1.5274392742171434,
           -1.638477690288713,
           -1.756806722689075,
           -1.8587020648967534
          ]
         ],
         "type": "surface",
         "x": [
          12.100000000000023,
          13.555000000000021,
          15.01000000000002,
          16.465000000000018,
          17.920000000000016,
          19.375000000000014,
          20.830000000000013,
          22.28500000000001,
          23.74000000000001,
          25.195000000000007,
          26.650000000000006,
          28.105000000000004,
          29.560000000000002,
          31.015,
          32.47,
          33.925,
          35.379999999999995,
          36.834999999999994,
          38.28999999999999,
          39.74499999999999,
          41.19999999999999
         ],
         "y": [
          0,
          2.488772969110456,
          4.977545938220912,
          7.466318907331368,
          9.955091876441823,
          12.44386484555228,
          14.932637814662735,
          17.42141078377319,
          19.910183752883647,
          22.398956721994104,
          24.88772969110456,
          27.376502660215014,
          29.86527562932547,
          32.354048598435924,
          34.84282156754638,
          37.33159453665684,
          39.820367505767294,
          42.30914047487775,
          44.79791344398821,
          47.286686413098664,
          49.77545938220912
         ],
         "z": [
          [
           null,
           null,
           null,
           null,
           null,
           null,
           null,
           0.016910880964629386,
           0.01983290214619626,
           0.02281159864711355,
           0.02742710462486793,
           0.03178312245365787,
           0.03651049739659539,
           0.04165525500880644,
           0.04831600725295539,
           0.05562565432444406,
           0.06364312131363381,
           0.07295428689928232,
           0.08250225263609422,
           0.09443258760180294,
           null
          ],
          [
           null,
           null,
           null,
           null,
           null,
           null,
           null,
           0.020375160865337073,
           0.023749277650657322,
           0.028420897508875918,
           0.03204557620915023,
           0.037765632217570184,
           0.04414567421206389,
           0.04951769985267796,
           0.05673983716248427,
           0.06583941916416448,
           0.07527603461853095,
           0.08472736099763155,
           0.09500802831927271,
           0.10787477553062187,
           null
          ],
          [
           null,
           null,
           null,
           null,
           null,
           null,
           0.019627839099187926,
           0.024226548403870323,
           0.027731291043148407,
           0.034301727398469394,
           0.03667548484137704,
           0.043996181842802504,
           0.0519517067960284,
           0.05830510079426775,
           0.06536534978372903,
           0.07626590713049608,
           0.0872487135449806,
           0.09671332453651565,
           0.10718639393671871,
           0.12167014271382422,
           null
          ],
          [
           null,
           null,
           null,
           null,
           null,
           0.01919076040833391,
           0.02247453258559714,
           0.028293058967060143,
           0.032078397188652595,
           0.040492891441707146,
           0.042171222388922694,
           0.050737244209177176,
           0.0605034611705364,
           0.0675508262277063,
           0.07459740546190777,
           0.08738537181830072,
           0.09978928125119793,
           0.10939494926270278,
           0.120678680643801,
           0.1368340782175493,
           null
          ],
          [
           null,
           null,
           null,
           null,
           null,
           0.023890164019681578,
           0.025827717384362688,
           0.03279679233004625,
           0.03727916425148135,
           0.047050144877373926,
           0.049206896290404506,
           0.058235554946774,
           0.06962034489787244,
           0.077441774855951,
           0.08485133515747087,
           0.09951051735385191,
           0.11316555397909955,
           0.12346513549468462,
           0.13606910501564026,
           0.15431153103610604,
           null
          ],
          [
           null,
           null,
           null,
           null,
           0.021790229108653265,
           0.02676482464657632,
           0.031340442524167754,
           0.037970762999909105,
           0.04375300093345956,
           0.05402924294425441,
           0.05720660626823743,
           0.06673784968567276,
           0.07872703163395842,
           0.08819529304276648,
           0.0967834269242931,
           0.11287734493283402,
           0.12766228762668144,
           0.1397786971021165,
           0.1535678835956966,
           0.173945175299136,
           null
          ],
          [
           null,
           null,
           null,
           null,
           0.027431951141964877,
           0.03198988049160432,
           0.037398116781057235,
           0.044048847940406276,
           0.050892943303901914,
           0.0615003333596988,
           0.06584093452397134,
           0.07649086405595328,
           0.08874369815652122,
           0.10003022929722294,
           0.11090800658206988,
           0.1277626622094036,
           0.14383162701122448,
           0.1581945197572188,
           0.17338523292743002,
           0.19420166193826766,
           null
          ],
          [
           null,
           null,
           null,
           0.02826753568536739,
           0.03133746988917985,
           0.038497678163880715,
           0.044545477836107204,
           0.05126968289267611,
           0.05874520827006047,
           0.06971113097507182,
           0.07599340728522179,
           0.08774133368769535,
           0.10048475383086125,
           0.11317415984081056,
           0.12611525760719627,
           0.14361061769524888,
           0.16197386291296204,
           0.1777212270199735,
           0.1957313695543004,
           0.21693645248175314,
           null
          ],
          [
           null,
           null,
           0.028764381225616323,
           0.03344517295570317,
           0.03858428921871324,
           0.04502020521424162,
           0.05230574909221813,
           0.06005309793645718,
           0.06808482103806,
           0.07901838437073964,
           0.08830644228846911,
           0.10074366125511965,
           0.11426475001086317,
           0.1281872752103011,
           0.14338982338320344,
           0.1612261082372058,
           0.1819303574044239,
           0.20004131368072453,
           0.22073982379190948,
           0.24414119657366035,
           null
          ],
          [
           null,
           null,
           0.036537050285277844,
           0.03934471890785492,
           0.046112097154606624,
           0.05284984712537297,
           0.06183129720599839,
           0.0704763817747378,
           0.0790086911507964,
           0.0904711298030183,
           0.10253427757321223,
           0.11574201271200053,
           0.13051508777778834,
           0.1460203469936361,
           0.1631931501820888,
           0.1817524013617008,
           0.20586524924617797,
           0.22563626690008107,
           0.248679609689095,
           0.27651189744646876,
           null
          ],
          [
           null,
           null,
           0.04527701210393567,
           0.04639119619372142,
           0.05431932936995085,
           0.06162960316037841,
           0.07221685996800628,
           0.08176673308146229,
           0.09181727399194327,
           0.1044113313197598,
           0.11850380059695058,
           0.1327238271275322,
           0.14915834327438093,
           0.1669153202474237,
           0.18569938959313473,
           0.20538167744461172,
           0.23403068253521092,
           0.2544834304834015,
           0.27924774025254523,
           0.31309136707474233,
           null
          ],
          [
           null,
           null,
           0.05276397985363524,
           0.05446944893628453,
           0.06359436443424872,
           0.07160060589931487,
           0.08405275158172576,
           0.09471757694632799,
           0.10654762968478568,
           0.12052046461181373,
           0.1362445330623621,
           0.15168337075676133,
           0.1698530728212539,
           0.19033889718933877,
           0.2108873409313139,
           0.231857496966239,
           0.26484444160449827,
           0.28656371800427904,
           0.313176532738511,
           0.35101821646252096,
           null
          ],
          [
           null,
           0.048563883928812265,
           0.06026901479533005,
           0.0637704290131736,
           0.07413953943644566,
           0.0829882184968783,
           0.0973483432833272,
           0.1098608010032833,
           0.12313316288681866,
           0.1386926879661857,
           0.15545977214121018,
           0.17261793689539648,
           0.19293960927955958,
           0.21537468970911194,
           0.23846420864336726,
           0.26046890084471375,
           0.295450736636648,
           0.3219982616755642,
           0.35109264751229974,
           0.39146426544587026,
           null
          ],
          [
           null,
           0.05646611277298504,
           0.06644657262953356,
           0.0746665579826802,
           0.08590697121132773,
           0.09626936281197064,
           0.11221298627869539,
           0.12751579769949906,
           0.14155243939797985,
           0.15872535380055602,
           0.1765273686982959,
           0.1956441721425133,
           0.21840988532357244,
           0.24259455650965445,
           0.2683585853615807,
           0.2932582025560155,
           0.32878445753004903,
           0.36077438574833287,
           0.3936080199000815,
           0.43600250210782965,
           null
          ],
          [
           null,
           0.06675929524767583,
           0.07601069557551829,
           0.0878207556181889,
           0.09967720842459844,
           0.11183624946937248,
           0.1302891055017529,
           0.14728820164877846,
           0.16242820680953174,
           0.18187386542852743,
           0.20101359468929372,
           0.22179784623366852,
           0.24755407861515927,
           0.27385500323968015,
           0.30174913148609905,
           0.33138134913999534,
           0.3661522000126851,
           0.4038971909506809,
           0.44163821690724975,
           0.48607411014258434,
           null
          ],
          [
           null,
           0.07639034767536182,
           0.08942734594858531,
           0.10334746734484404,
           0.11641056798086763,
           0.1294924598561122,
           0.15127988551207355,
           0.16966186847906925,
           0.187673100024197,
           0.20876182039414573,
           0.2299663600318311,
           0.2527583542881195,
           0.282982364679575,
           0.3103413950315624,
           0.3409020265394998,
           0.376388410992591,
           0.4101537431282812,
           0.45373072940188885,
           0.49618345168115313,
           0.540593736109372,
           null
          ],
          [
           null,
           0.08789225111901003,
           0.10508429735373515,
           0.12147388977931683,
           0.1366283669928285,
           0.1520815971634764,
           0.17537304488249475,
           0.19581109833632643,
           0.21689664175734436,
           0.2402268372089594,
           0.26235167710479007,
           0.2901541314749141,
           0.3244314593740235,
           0.3536536591884373,
           0.3875208038696878,
           0.42846775582115637,
           0.46377515049125845,
           0.5103990421408624,
           0.5582460966066954,
           0.6020797865647208,
           null
          ],
          [
           null,
           0.10839661294439361,
           0.1272691371929987,
           0.14317106236915167,
           0.16121764643683487,
           0.18067690922775567,
           0.20392229288897257,
           0.2273423205014629,
           0.25160438421839604,
           0.2786980681936193,
           0.3022642202602358,
           0.3356140836659313,
           0.37283575241299893,
           0.40548118802825395,
           0.44234334045499046,
           0.4884205869977384,
           0.527881264042802,
           0.5766054532214114,
           0.6288897218595011,
           0.6812439240231102,
           null
          ],
          [
           null,
           0.1317299178125524,
           0.15232722281464894,
           0.1690985920150689,
           0.18971821195843633,
           0.21312047548998372,
           0.2387463267314719,
           0.26391374331635215,
           0.29144333673725975,
           0.32272264063056033,
           0.3509372999548517,
           0.38895842424196303,
           0.4269668589528209,
           0.4656739198695958,
           0.5066453827073203,
           0.5560562146126009,
           0.6086110045368281,
           0.6530912172577025,
           0.7094192578700889,
           0.7792700565256272,
           null
          ],
          [
           null,
           0.15595880551894598,
           0.17873515496323808,
           0.197076278042442,
           0.22088007419238834,
           0.24730164248489897,
           0.2771985169809396,
           0.30466860440956145,
           0.33423879014046026,
           0.3689625621857371,
           0.4044508052152975,
           0.4475202911963892,
           0.4854803617858795,
           0.5313632748365567,
           0.579941237276872,
           0.6296324995283546,
           0.6997443190662868,
           0.737514110071113,
           0.799072161523618,
           0.8822611160520553,
           null
          ],
          [
           null,
           0.18145889440588842,
           0.20581062728529415,
           0.22721506107072764,
           0.2528353820452542,
           0.28231224759230034,
           0.31741849609123346,
           0.3480940177395987,
           0.37886314941325855,
           0.4180142693157079,
           0.4619455600489704,
           0.5085124485930276,
           0.5468931752862767,
           0.6002782787263969,
           0.6573728928920998,
           0.7063877803691018,
           0.7924963479568907,
           0.8268331068737259,
           0.8936087983401847,
           0.9873124047960253,
           null
          ]
         ]
        }
       ],
       "layout": {
        "margin": {
         "b": 0,
         "l": 0,
         "pad": 0,
         "r": 0,
         "t": 0
        },
        "scene": {
         "xaxis": {
          "title": {
           "text": "Temperature [C]"
          }
         },
         "yaxis": {
          "title": {
           "text": "fi [%]"
          }
         },
         "zaxis": {
          "title": {
           "text": "Diffusion"
          }
         }
        },
        "template": {
         "data": {
          "bar": [
           {
            "error_x": {
             "color": "#2a3f5f"
            },
            "error_y": {
             "color": "#2a3f5f"
            },
            "marker": {
             "line": {
              "color": "#E5ECF6",
              "width": 0.5
             },
             "pattern": {
              "fillmode": "overlay",
              "size": 10,
              "solidity": 0.2
             }
            },
            "type": "bar"
           }
          ],
          "barpolar": [
           {
            "marker": {
             "line": {
              "color": "#E5ECF6",
              "width": 0.5
             },
             "pattern": {
              "fillmode": "overlay",
              "size": 10,
              "solidity": 0.2
             }
            },
            "type": "barpolar"
           }
          ],
          "carpet": [
           {
            "aaxis": {
             "endlinecolor": "#2a3f5f",
             "gridcolor": "white",
             "linecolor": "white",
             "minorgridcolor": "white",
             "startlinecolor": "#2a3f5f"
            },
            "baxis": {
             "endlinecolor": "#2a3f5f",
             "gridcolor": "white",
             "linecolor": "white",
             "minorgridcolor": "white",
             "startlinecolor": "#2a3f5f"
            },
            "type": "carpet"
           }
          ],
          "choropleth": [
           {
            "colorbar": {
             "outlinewidth": 0,
             "ticks": ""
            },
            "type": "choropleth"
           }
          ],
          "contour": [
           {
            "colorbar": {
             "outlinewidth": 0,
             "ticks": ""
            },
            "colorscale": [
             [
              0,
              "#0d0887"
             ],
             [
              0.1111111111111111,
              "#46039f"
             ],
             [
              0.2222222222222222,
              "#7201a8"
             ],
             [
              0.3333333333333333,
              "#9c179e"
             ],
             [
              0.4444444444444444,
              "#bd3786"
             ],
             [
              0.5555555555555556,
              "#d8576b"
             ],
             [
              0.6666666666666666,
              "#ed7953"
             ],
             [
              0.7777777777777778,
              "#fb9f3a"
             ],
             [
              0.8888888888888888,
              "#fdca26"
             ],
             [
              1,
              "#f0f921"
             ]
            ],
            "type": "contour"
           }
          ],
          "contourcarpet": [
           {
            "colorbar": {
             "outlinewidth": 0,
             "ticks": ""
            },
            "type": "contourcarpet"
           }
          ],
          "heatmap": [
           {
            "colorbar": {
             "outlinewidth": 0,
             "ticks": ""
            },
            "colorscale": [
             [
              0,
              "#0d0887"
             ],
             [
              0.1111111111111111,
              "#46039f"
             ],
             [
              0.2222222222222222,
              "#7201a8"
             ],
             [
              0.3333333333333333,
              "#9c179e"
             ],
             [
              0.4444444444444444,
              "#bd3786"
             ],
             [
              0.5555555555555556,
              "#d8576b"
             ],
             [
              0.6666666666666666,
              "#ed7953"
             ],
             [
              0.7777777777777778,
              "#fb9f3a"
             ],
             [
              0.8888888888888888,
              "#fdca26"
             ],
             [
              1,
              "#f0f921"
             ]
            ],
            "type": "heatmap"
           }
          ],
          "heatmapgl": [
           {
            "colorbar": {
             "outlinewidth": 0,
             "ticks": ""
            },
            "colorscale": [
             [
              0,
              "#0d0887"
             ],
             [
              0.1111111111111111,
              "#46039f"
             ],
             [
              0.2222222222222222,
              "#7201a8"
             ],
             [
              0.3333333333333333,
              "#9c179e"
             ],
             [
              0.4444444444444444,
              "#bd3786"
             ],
             [
              0.5555555555555556,
              "#d8576b"
             ],
             [
              0.6666666666666666,
              "#ed7953"
             ],
             [
              0.7777777777777778,
              "#fb9f3a"
             ],
             [
              0.8888888888888888,
              "#fdca26"
             ],
             [
              1,
              "#f0f921"
             ]
            ],
            "type": "heatmapgl"
           }
          ],
          "histogram": [
           {
            "marker": {
             "pattern": {
              "fillmode": "overlay",
              "size": 10,
              "solidity": 0.2
             }
            },
            "type": "histogram"
           }
          ],
          "histogram2d": [
           {
            "colorbar": {
             "outlinewidth": 0,
             "ticks": ""
            },
            "colorscale": [
             [
              0,
              "#0d0887"
             ],
             [
              0.1111111111111111,
              "#46039f"
             ],
             [
              0.2222222222222222,
              "#7201a8"
             ],
             [
              0.3333333333333333,
              "#9c179e"
             ],
             [
              0.4444444444444444,
              "#bd3786"
             ],
             [
              0.5555555555555556,
              "#d8576b"
             ],
             [
              0.6666666666666666,
              "#ed7953"
             ],
             [
              0.7777777777777778,
              "#fb9f3a"
             ],
             [
              0.8888888888888888,
              "#fdca26"
             ],
             [
              1,
              "#f0f921"
             ]
            ],
            "type": "histogram2d"
           }
          ],
          "histogram2dcontour": [
           {
            "colorbar": {
             "outlinewidth": 0,
             "ticks": ""
            },
            "colorscale": [
             [
              0,
              "#0d0887"
             ],
             [
              0.1111111111111111,
              "#46039f"
             ],
             [
              0.2222222222222222,
              "#7201a8"
             ],
             [
              0.3333333333333333,
              "#9c179e"
             ],
             [
              0.4444444444444444,
              "#bd3786"
             ],
             [
              0.5555555555555556,
              "#d8576b"
             ],
             [
              0.6666666666666666,
              "#ed7953"
             ],
             [
              0.7777777777777778,
              "#fb9f3a"
             ],
             [
              0.8888888888888888,
              "#fdca26"
             ],
             [
              1,
              "#f0f921"
             ]
            ],
            "type": "histogram2dcontour"
           }
          ],
          "mesh3d": [
           {
            "colorbar": {
             "outlinewidth": 0,
             "ticks": ""
            },
            "type": "mesh3d"
           }
          ],
          "parcoords": [
           {
            "line": {
             "colorbar": {
              "outlinewidth": 0,
              "ticks": ""
             }
            },
            "type": "parcoords"
           }
          ],
          "pie": [
           {
            "automargin": true,
            "type": "pie"
           }
          ],
          "scatter": [
           {
            "fillpattern": {
             "fillmode": "overlay",
             "size": 10,
             "solidity": 0.2
            },
            "type": "scatter"
           }
          ],
          "scatter3d": [
           {
            "line": {
             "colorbar": {
              "outlinewidth": 0,
              "ticks": ""
             }
            },
            "marker": {
             "colorbar": {
              "outlinewidth": 0,
              "ticks": ""
             }
            },
            "type": "scatter3d"
           }
          ],
          "scattercarpet": [
           {
            "marker": {
             "colorbar": {
              "outlinewidth": 0,
              "ticks": ""
             }
            },
            "type": "scattercarpet"
           }
          ],
          "scattergeo": [
           {
            "marker": {
             "colorbar": {
              "outlinewidth": 0,
              "ticks": ""
             }
            },
            "type": "scattergeo"
           }
          ],
          "scattergl": [
           {
            "marker": {
             "colorbar": {
              "outlinewidth": 0,
              "ticks": ""
             }
            },
            "type": "scattergl"
           }
          ],
          "scattermapbox": [
           {
            "marker": {
             "colorbar": {
              "outlinewidth": 0,
              "ticks": ""
             }
            },
            "type": "scattermapbox"
           }
          ],
          "scatterpolar": [
           {
            "marker": {
             "colorbar": {
              "outlinewidth": 0,
              "ticks": ""
             }
            },
            "type": "scatterpolar"
           }
          ],
          "scatterpolargl": [
           {
            "marker": {
             "colorbar": {
              "outlinewidth": 0,
              "ticks": ""
             }
            },
            "type": "scatterpolargl"
           }
          ],
          "scatterternary": [
           {
            "marker": {
             "colorbar": {
              "outlinewidth": 0,
              "ticks": ""
             }
            },
            "type": "scatterternary"
           }
          ],
          "surface": [
           {
            "colorbar": {
             "outlinewidth": 0,
             "ticks": ""
            },
            "colorscale": [
             [
              0,
              "#0d0887"
             ],
             [
              0.1111111111111111,
              "#46039f"
             ],
             [
              0.2222222222222222,
              "#7201a8"
             ],
             [
              0.3333333333333333,
              "#9c179e"
             ],
             [
              0.4444444444444444,
              "#bd3786"
             ],
             [
              0.5555555555555556,
              "#d8576b"
             ],
             [
              0.6666666666666666,
              "#ed7953"
             ],
             [
              0.7777777777777778,
              "#fb9f3a"
             ],
             [
              0.8888888888888888,
              "#fdca26"
             ],
             [
              1,
              "#f0f921"
             ]
            ],
            "type": "surface"
           }
          ],
          "table": [
           {
            "cells": {
             "fill": {
              "color": "#EBF0F8"
             },
             "line": {
              "color": "white"
             }
            },
            "header": {
             "fill": {
              "color": "#C8D4E3"
             },
             "line": {
              "color": "white"
             }
            },
            "type": "table"
           }
          ]
         },
         "layout": {
          "annotationdefaults": {
           "arrowcolor": "#2a3f5f",
           "arrowhead": 0,
           "arrowwidth": 1
          },
          "autotypenumbers": "strict",
          "coloraxis": {
           "colorbar": {
            "outlinewidth": 0,
            "ticks": ""
           }
          },
          "colorscale": {
           "diverging": [
            [
             0,
             "#8e0152"
            ],
            [
             0.1,
             "#c51b7d"
            ],
            [
             0.2,
             "#de77ae"
            ],
            [
             0.3,
             "#f1b6da"
            ],
            [
             0.4,
             "#fde0ef"
            ],
            [
             0.5,
             "#f7f7f7"
            ],
            [
             0.6,
             "#e6f5d0"
            ],
            [
             0.7,
             "#b8e186"
            ],
            [
             0.8,
             "#7fbc41"
            ],
            [
             0.9,
             "#4d9221"
            ],
            [
             1,
             "#276419"
            ]
           ],
           "sequential": [
            [
             0,
             "#0d0887"
            ],
            [
             0.1111111111111111,
             "#46039f"
            ],
            [
             0.2222222222222222,
             "#7201a8"
            ],
            [
             0.3333333333333333,
             "#9c179e"
            ],
            [
             0.4444444444444444,
             "#bd3786"
            ],
            [
             0.5555555555555556,
             "#d8576b"
            ],
            [
             0.6666666666666666,
             "#ed7953"
            ],
            [
             0.7777777777777778,
             "#fb9f3a"
            ],
            [
             0.8888888888888888,
             "#fdca26"
            ],
            [
             1,
             "#f0f921"
            ]
           ],
           "sequentialminus": [
            [
             0,
             "#0d0887"
            ],
            [
             0.1111111111111111,
             "#46039f"
            ],
            [
             0.2222222222222222,
             "#7201a8"
            ],
            [
             0.3333333333333333,
             "#9c179e"
            ],
            [
             0.4444444444444444,
             "#bd3786"
            ],
            [
             0.5555555555555556,
             "#d8576b"
            ],
            [
             0.6666666666666666,
             "#ed7953"
            ],
            [
             0.7777777777777778,
             "#fb9f3a"
            ],
            [
             0.8888888888888888,
             "#fdca26"
            ],
            [
             1,
             "#f0f921"
            ]
           ]
          },
          "colorway": [
           "#636efa",
           "#EF553B",
           "#00cc96",
           "#ab63fa",
           "#FFA15A",
           "#19d3f3",
           "#FF6692",
           "#B6E880",
           "#FF97FF",
           "#FECB52"
          ],
          "font": {
           "color": "#2a3f5f"
          },
          "geo": {
           "bgcolor": "white",
           "lakecolor": "white",
           "landcolor": "#E5ECF6",
           "showlakes": true,
           "showland": true,
           "subunitcolor": "white"
          },
          "hoverlabel": {
           "align": "left"
          },
          "hovermode": "closest",
          "mapbox": {
           "style": "light"
          },
          "paper_bgcolor": "white",
          "plot_bgcolor": "#E5ECF6",
          "polar": {
           "angularaxis": {
            "gridcolor": "white",
            "linecolor": "white",
            "ticks": ""
           },
           "bgcolor": "#E5ECF6",
           "radialaxis": {
            "gridcolor": "white",
            "linecolor": "white",
            "ticks": ""
           }
          },
          "scene": {
           "xaxis": {
            "backgroundcolor": "#E5ECF6",
            "gridcolor": "white",
            "gridwidth": 2,
            "linecolor": "white",
            "showbackground": true,
            "ticks": "",
            "zerolinecolor": "white"
           },
           "yaxis": {
            "backgroundcolor": "#E5ECF6",
            "gridcolor": "white",
            "gridwidth": 2,
            "linecolor": "white",
            "showbackground": true,
            "ticks": "",
            "zerolinecolor": "white"
           },
           "zaxis": {
            "backgroundcolor": "#E5ECF6",
            "gridcolor": "white",
            "gridwidth": 2,
            "linecolor": "white",
            "showbackground": true,
            "ticks": "",
            "zerolinecolor": "white"
           }
          },
          "shapedefaults": {
           "line": {
            "color": "#2a3f5f"
           }
          },
          "ternary": {
           "aaxis": {
            "gridcolor": "white",
            "linecolor": "white",
            "ticks": ""
           },
           "baxis": {
            "gridcolor": "white",
            "linecolor": "white",
            "ticks": ""
           },
           "bgcolor": "#E5ECF6",
           "caxis": {
            "gridcolor": "white",
            "linecolor": "white",
            "ticks": ""
           }
          },
          "title": {
           "x": 0.05
          },
          "xaxis": {
           "automargin": true,
           "gridcolor": "white",
           "linecolor": "white",
           "ticks": "",
           "title": {
            "standoff": 15
           },
           "zerolinecolor": "white",
           "zerolinewidth": 2
          },
          "yaxis": {
           "automargin": true,
           "gridcolor": "white",
           "linecolor": "white",
           "ticks": "",
           "title": {
            "standoff": 15
           },
           "zerolinecolor": "white",
           "zerolinewidth": 2
          }
         }
        }
       }
      }
     },
     "metadata": {},
     "output_type": "display_data"
    }
   ],
   "source": [
    "fig = go.Figure()\n",
    "fig.update_layout(\n",
    "    margin=dict(l=0, r=0, b=0, t=0, pad=0),\n",
    "    scene=dict(\n",
    "        xaxis=dict(title='Temperature [C]'),\n",
    "        yaxis=dict(title='fi [%]'),\n",
    "        zaxis=dict(title='Diffusion'), \n",
    "    ))\n",
    "quality=21\n",
    "\n",
    "# OCM\n",
    "compound_filter = (df['compound'] == 'ocm') \n",
    "# |(df['compound'] == 'butanol')\n",
    "\n",
    "data = df[compound_filter]\n",
    "xy = data[['Temperature', 'w']]\n",
    "x = data['Temperature']\n",
    "y = data['w']\n",
    "z = data['D'] / D_mean\n",
    "\n",
    "\n",
    "f = LinearNDInterpolator(xy, z)\n",
    "\n",
    "x1 = np.linspace(x.min(), x.max(), quality)\n",
    "y1 = np.linspace(y.min(), y.max(), quality)\n",
    "X, Y = np.meshgrid(x1, y1)\n",
    "\n",
    "Z = f(X,Y)\n",
    "R = Z\n",
    "fig.add_trace(go.Surface(\n",
    "    name='OCM-2',\n",
    "    x=x1,\n",
    "    y=y1,\n",
    "    z=Z,\n",
    "    colorscale='Reds',\n",
    "    surfacecolor=R,\n",
    "    showscale=False,\n",
    "    showlegend=True,\n",
    "    opacity=0.7,\n",
    "    lightposition=dict(x=50, y=100, z=1.),\n",
    "))\n",
    "\n",
    "# PETA\n",
    "compound_filter = (df['compound'] == 'peta') \n",
    "# |(df['compound'] == 'butanol')\n",
    "data = df[compound_filter]\n",
    "\n",
    "xy = data[['Temperature', 'w']]\n",
    "x = data['Temperature']\n",
    "y = data['w']\n",
    "z =  data['D'] / D_mean\n",
    "\n",
    "fz = CloughTocher2DInterpolator(xy, z)\n",
    "\n",
    "x1 = np.linspace(x.min(), x.max(), quality)\n",
    "y1 = np.linspace(y.min(), y.max(), quality)\n",
    "X, Y = np.meshgrid(x1, y1)\n",
    "\n",
    "\n",
    "Z = fz(X, Y)\n",
    "\n",
    "fig.add_trace(go.Surface(\n",
    "    name='PETA',\n",
    "    x=x1,\n",
    "    y=y1,\n",
    "    z=Z,\n",
    "    colorscale='Blues',\n",
    "    surfacecolor=-R,\n",
    "    showscale=False,\n",
    "    showlegend=True,\n",
    "    lightposition=dict(x=50, y=100, z=1.),\n",
    "    \n",
    "))\n",
    "fig.show()"
   ]
  },
  {
   "cell_type": "markdown",
   "metadata": {},
   "source": [
    "## Plots"
   ]
  },
  {
   "cell_type": "code",
   "execution_count": 12,
   "metadata": {},
   "outputs": [
    {
     "data": {
      "image/png": "[encoded data removed]",
      "text/plain": [
       "<Figure size 1000x700 with 1 Axes>"
      ]
     },
     "metadata": {},
     "output_type": "display_data"
    },
    {
     "data": {
      "image/png": "[encoded data removed]",
      "text/plain": [
       "<Figure size 1000x700 with 1 Axes>"
      ]
     },
     "metadata": {},
     "output_type": "display_data"
    },
    {
     "data": {
      "image/png": "[encoded data removed]",
      "text/plain": [
       "<Figure size 1000x700 with 1 Axes>"
      ]
     },
     "metadata": {},
     "output_type": "display_data"
    },
    {
     "data": {
      "image/png": "[encoded data removed]",
      "text/plain": [
       "<Figure size 1000x700 with 1 Axes>"
      ]
     },
     "metadata": {},
     "output_type": "display_data"
    },
    {
     "data": {
      "image/png": "[encoded data removed]",
      "text/plain": [
       "<Figure size 1000x700 with 1 Axes>"
      ]
     },
     "metadata": {},
     "output_type": "display_data"
    }
   ],
   "source": [
    "folders = [f'{PATH}\\{i}' for i in os.listdir(PATH) if os.path.isdir(f'{PATH}\\{i}') and 'PETA' in i]\n",
    "for folder in folders:\n",
    "\n",
    "    exp = Experiment()\n",
    "    file = [file for file in os.listdir(folder) if '.hdf5' in file][0]\n",
    "    exp.load_hdf5(input_path(f'{folder}\\{file}'))\n",
    "    exp.apply(funcs.C_to_K)\n",
    "    exp.apply(funcs.nu_D)\n",
    "    exp.apply(funcs.K_to_C)\n",
    "    # exp.folder='.'\n",
    "    plots.temperature_plot(\n",
    "        exp,\n",
    "        title='Temperature',\n",
    "        xlabel='Temperature [C]',\n",
    "        ylabel='Viscosity [cP]',\n",
    "        # ylabel='Diffusion [m2/s]',\n",
    "        interactive=True,\n",
    "        save_folder=exp.folder,\n",
    "    )"
   ]
  },
  {
   "cell_type": "code",
   "execution_count": 6,
   "metadata": {},
   "outputs": [
    {
     "data": {
      "image/png": "[encoded data removed]",
      "text/plain": [
       "<Figure size 1000x700 with 1 Axes>"
      ]
     },
     "metadata": {},
     "output_type": "display_data"
    }
   ],
   "source": [
    "exp = Experiment()\n",
    "exp.load_hdf5(input_path())\n",
    "# exp.apply(funcs.C_to_K)\n",
    "# exp.apply(funcs.nu_D)\n",
    "# exp.apply(funcs.K_to_C)\n",
    "\n",
    "info, result, func = tools.regress(exp)\n",
    "exp.set_info(**info)\n",
    "x = np.linspace(13, 42, 100) + 273.15\n",
    "ols_res = tools.Experiment(\n",
    "    pd.DataFrame({\n",
    "        'x': x, 'y': func(x), 'time': x * 0\n",
    "    }),\n",
    "    'interpolated',\n",
    ")\n",
    "\n",
    "ols_res.apply(funcs.K_to_C)\n",
    "\n",
    "plots.comparation_plot(\n",
    "    exp,\n",
    "    ols_res,\n",
    "    title='OLS_Diffusion',\n",
    "    xlabel='Temperature [C]',\n",
    "    ylabel='D [m2/s]',\n",
    "    interactive=True,\n",
    "    save_folder=exp.folder,\n",
    ")\n",
    "# plots.temperature_plot(\n",
    "#     exp,\n",
    "#     title='Viscosity',\n",
    "#     xlabel='Temperature [C]',\n",
    "#     ylabel='Viscosity [cP]',\n",
    "#     # ylabel='Diffusion [m2/s]',\n",
    "#     interactive=True,\n",
    "#     save_folder=exp.folder,\n",
    "# )"
   ]
  }
 ],
 "metadata": {
  "kernelspec": {
   "display_name": "Python 3.10.0 ('zChemistry_env': venv)",
   "language": "python",
   "name": "python3"
  },
  "language_info": {
   "codemirror_mode": {
    "name": "ipython",
    "version": 3
   },
   "file_extension": ".py",
   "mimetype": "text/x-python",
   "name": "python",
   "nbconvert_exporter": "python",
   "pygments_lexer": "ipython3",
   "version": "3.10.0"
  },
  "orig_nbformat": 4,
  "vscode": {
   "interpreter": {
    "hash": "65e3ff7ea178c0cc827c55669acecc2d3bcf4faf0bb1a0873412f31fa3e54b71"
   }
  }
 },
 "nbformat": 4,
 "nbformat_minor": 2
}

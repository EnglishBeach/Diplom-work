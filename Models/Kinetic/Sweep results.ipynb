{
 "cells": [
  {
   "cell_type": "code",
   "execution_count": null,
   "metadata": {},
   "outputs": [],
   "source": [
    "res = pd.read_csv('result.csv', index_col=0)"
   ]
  },
  {
   "cell_type": "code",
   "execution_count": null,
   "metadata": {},
   "outputs": [],
   "source": [
    "uncorrect = res[res['status'] != 'ERROR']\n",
    "uncorrect = uncorrect[uncorrect['D'] > 1e-2]\n",
    "\n",
    "correct = res[res['status'] != 'ERROR']\n",
    "correct = correct[correct['D'] <= 1e-2]"
   ]
  },
  {
   "cell_type": "code",
   "execution_count": null,
   "metadata": {},
   "outputs": [],
   "source": [
    "plt.scatter(uncorrect.index, uncorrect['D'])"
   ]
  },
  {
   "cell_type": "code",
   "execution_count": null,
   "metadata": {},
   "outputs": [],
   "source": [
    "errors = res[res['status'] == 'ERROR']"
   ]
  },
  {
   "cell_type": "code",
   "execution_count": null,
   "metadata": {},
   "outputs": [],
   "source": [
    "ks = '[l, l_, qE, qE_, H, qH, redQ, r, rD, Q, QHH, DH]'[1:-1].split(', ')\n",
    "ks"
   ]
  },
  {
   "cell_type": "code",
   "execution_count": null,
   "metadata": {},
   "outputs": [],
   "source": [
    "num = 1\n",
    "for key in ks:\n",
    "    fig, ax = plt.subplots()\n",
    "    ax.scatter(correct[key].index, correct[key])\n",
    "    ax.set_title(key)"
   ]
  }
 ],
 "metadata": {
  "language_info": {
   "name": "python"
  }
 },
 "nbformat": 4,
 "nbformat_minor": 2
}

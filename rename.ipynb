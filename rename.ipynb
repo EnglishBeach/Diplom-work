{
 "cells": [
  {
   "cell_type": "code",
   "execution_count": 2,
   "metadata": {},
   "outputs": [],
   "source": [
    "from pathlib import Path\n",
    "import os"
   ]
  },
  {
   "cell_type": "code",
   "execution_count": 30,
   "metadata": {},
   "outputs": [
    {
     "data": {
      "text/plain": [
       "5"
      ]
     },
     "execution_count": 30,
     "metadata": {},
     "output_type": "execute_result"
    }
   ],
   "source": [
    "{1:10,2:20}.get(4,5)"
   ]
  },
  {
   "cell_type": "code",
   "execution_count": 44,
   "metadata": {},
   "outputs": [],
   "source": [
    "folder = Path(r'Experiments_pol\\Raw\\EXP4_OCM_17\\s14')\n",
    "\n",
    "\n",
    "def rename(file: Path):\n",
    "    gray_line = \"\"\"\n",
    "   5 2 3 4\n",
    "\"\"\"\n",
    "    fname = file.stem\n",
    "\n",
    "    gray_order = gray_line.strip().split()\n",
    "    photo_order = [f'{i:0>4}' for i in range(1, len(gray_order)+1)]\n",
    "    new_name = dict(zip(photo_order, [f'g{int(i)}' for i in gray_order])).get(fname,fname)\n",
    "\n",
    "    return file.parent / f'{new_name}{file.suffix}'\n",
    "\n",
    "\n",
    "for file in folder.iterdir():\n",
    "    os.rename(file, rename(file))"
   ]
  },
  {
   "cell_type": "code",
   "execution_count": 5,
   "metadata": {},
   "outputs": [
    {
     "data": {
      "text/plain": [
       "'.jpg'"
      ]
     },
     "execution_count": 5,
     "metadata": {},
     "output_type": "execute_result"
    }
   ],
   "source": [
    "file.suffix"
   ]
  }
 ],
 "metadata": {
  "kernelspec": {
   "display_name": "zChemistry_env",
   "language": "python",
   "name": "python3"
  },
  "language_info": {
   "codemirror_mode": {
    "name": "ipython",
    "version": 3
   },
   "file_extension": ".py",
   "mimetype": "text/x-python",
   "name": "python",
   "nbconvert_exporter": "python",
   "pygments_lexer": "ipython3",
   "version": "3.10.0"
  }
 },
 "nbformat": 4,
 "nbformat_minor": 2
}
